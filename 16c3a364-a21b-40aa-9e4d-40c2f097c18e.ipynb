{
 "cells": [
  {
   "cell_type": "markdown",
   "metadata": {
    "id": "VNddPNRQ0q0w"
   },
   "source": [
    "Megaline redondea los segundos a minutos y los megabytes a gigabytes. Para las llamadas, cada llamada individual se redondea: incluso si la llamada duró solo un segundo, se contará como un minuto. Para el tráfico web, las sesiones web individuales no se redondean. En vez de esto, el total del mes se redondea hacia arriba. Si alguien usa 1025 megabytes este mes, se le cobrarán 2 gigabytes.\n",
    "\n",
    "A continuación puedes ver una descripción de las tarifas:\n",
    "\n",
    "Surf\n",
    "\n",
    "Pago mensual: $20.\n",
    "500 minutos al mes, 50 SMS y 15 GB de datos.\n",
    "Si se exceden los límites del paquete:\n",
    "1 minuto: 3 centavos.\n",
    "1 SMS: 3 centavos.\n",
    "1 GB de datos: $10.\n",
    "Ultimate\n",
    "\n",
    "Pago mensual: $70.\n",
    "3000 minutos al mes, 1000 SMS y 30 GB de datos.\n",
    "Si se exceden los límites del paquete:\n",
    "1 minuto: 1 centavo.\n",
    "1 SMS: 1 centavo.\n",
    "1 GB de datos: $7."
   ]
  },
  {
   "cell_type": "markdown",
   "metadata": {
    "id": "MQi4IPy70q0y"
   },
   "source": [
    "## Inicialización"
   ]
  },
  {
   "cell_type": "code",
   "execution_count": null,
   "metadata": {},
   "outputs": [],
   "source": []
  },
  {
   "cell_type": "code",
   "execution_count": 1,
   "metadata": {
    "id": "MtYIuBxu0q0z",
    "trusted": false
   },
   "outputs": [],
   "source": [
    "# Cargar todas las librerías\n",
    "import pandas as pd\n",
    "import numpy as np\n",
    "from matplotlib import pyplot as plt"
   ]
  },
  {
   "cell_type": "markdown",
   "metadata": {
    "id": "4ysWWC5i0q00"
   },
   "source": [
    "## Cargar datos"
   ]
  },
  {
   "cell_type": "code",
   "execution_count": 5,
   "metadata": {
    "id": "CCqPW7rS0q01",
    "trusted": false
   },
   "outputs": [],
   "source": [
    "# Carga los archivos de datos en diferentes DataFrames\n",
    "df_calls = pd.read_csv('megaline_calls.csv')\n",
    "df_internet = pd.read_csv('megaline_internet.csv')\n",
    "df_messages = pd.read_csv('megaline_messages.csv')\n",
    "df_plans = pd.read_csv('megaline_plans.csv')\n",
    "df_users = pd.read_csv('megaline_users.csv')"
   ]
  },
  {
   "cell_type": "markdown",
   "metadata": {
    "id": "69qqoJ3r0q01"
   },
   "source": [
    "## Preparar los datos"
   ]
  },
  {
   "cell_type": "markdown",
   "metadata": {
    "id": "vUuZw80S0q01"
   },
   "source": [
    "[Los datos para este proyecto se dividen en varias tablas. Explora cada una para tener una comprensión inicial de los datos. Si es necesario, haz las correcciones requeridas en cada tabla.]"
   ]
  },
  {
   "cell_type": "markdown",
   "metadata": {
    "id": "ohBhimvH0q01"
   },
   "source": [
    "## Tarifas"
   ]
  },
  {
   "cell_type": "code",
   "execution_count": 50,
   "metadata": {
    "id": "GptqP3Q40q02",
    "trusted": false
   },
   "outputs": [
    {
     "name": "stdout",
     "output_type": "stream",
     "text": [
      "<class 'pandas.core.frame.DataFrame'>\n",
      "RangeIndex: 2 entries, 0 to 1\n",
      "Data columns (total 8 columns):\n",
      " #   Column                 Non-Null Count  Dtype  \n",
      "---  ------                 --------------  -----  \n",
      " 0   messages_included      2 non-null      int64  \n",
      " 1   mb_per_month_included  2 non-null      int64  \n",
      " 2   minutes_included       2 non-null      int64  \n",
      " 3   usd_monthly_pay        2 non-null      int64  \n",
      " 4   usd_per_gb             2 non-null      int64  \n",
      " 5   usd_per_message        2 non-null      float64\n",
      " 6   usd_per_minute         2 non-null      float64\n",
      " 7   plan_name              2 non-null      object \n",
      "dtypes: float64(2), int64(5), object(1)\n",
      "memory usage: 256.0+ bytes\n"
     ]
    }
   ],
   "source": [
    "# Imprime la información general/resumida sobre el DataFrame de las tarifas\n",
    "df_plans.info()"
   ]
  },
  {
   "cell_type": "code",
   "execution_count": 51,
   "metadata": {
    "id": "64xzjwL70q02",
    "trusted": false
   },
   "outputs": [
    {
     "data": {
      "text/html": [
       "<div>\n",
       "<style scoped>\n",
       "    .dataframe tbody tr th:only-of-type {\n",
       "        vertical-align: middle;\n",
       "    }\n",
       "\n",
       "    .dataframe tbody tr th {\n",
       "        vertical-align: top;\n",
       "    }\n",
       "\n",
       "    .dataframe thead th {\n",
       "        text-align: right;\n",
       "    }\n",
       "</style>\n",
       "<table border=\"1\" class=\"dataframe\">\n",
       "  <thead>\n",
       "    <tr style=\"text-align: right;\">\n",
       "      <th></th>\n",
       "      <th>messages_included</th>\n",
       "      <th>mb_per_month_included</th>\n",
       "      <th>minutes_included</th>\n",
       "      <th>usd_monthly_pay</th>\n",
       "      <th>usd_per_gb</th>\n",
       "      <th>usd_per_message</th>\n",
       "      <th>usd_per_minute</th>\n",
       "      <th>plan_name</th>\n",
       "    </tr>\n",
       "  </thead>\n",
       "  <tbody>\n",
       "    <tr>\n",
       "      <th>0</th>\n",
       "      <td>50</td>\n",
       "      <td>15360</td>\n",
       "      <td>500</td>\n",
       "      <td>20</td>\n",
       "      <td>10</td>\n",
       "      <td>0.03</td>\n",
       "      <td>0.03</td>\n",
       "      <td>surf</td>\n",
       "    </tr>\n",
       "    <tr>\n",
       "      <th>1</th>\n",
       "      <td>1000</td>\n",
       "      <td>30720</td>\n",
       "      <td>3000</td>\n",
       "      <td>70</td>\n",
       "      <td>7</td>\n",
       "      <td>0.01</td>\n",
       "      <td>0.01</td>\n",
       "      <td>ultimate</td>\n",
       "    </tr>\n",
       "  </tbody>\n",
       "</table>\n",
       "</div>"
      ],
      "text/plain": [
       "   messages_included  mb_per_month_included  minutes_included  \\\n",
       "0                 50                  15360               500   \n",
       "1               1000                  30720              3000   \n",
       "\n",
       "   usd_monthly_pay  usd_per_gb  usd_per_message  usd_per_minute plan_name  \n",
       "0               20          10             0.03            0.03      surf  \n",
       "1               70           7             0.01            0.01  ultimate  "
      ]
     },
     "execution_count": 51,
     "metadata": {},
     "output_type": "execute_result"
    }
   ],
   "source": [
    "# Imprime una muestra de los datos para las tarifas\n",
    "df_plans.head()"
   ]
  },
  {
   "cell_type": "markdown",
   "metadata": {
    "id": "mEc_3_hs0q02"
   },
   "source": [
    "[Describe lo que ves y observas en la información general y en la muestra de datos impresa para el precio de datos anterior. ¿Hay algún problema (tipos de datos no adecuados, datos ausentes, etc.) que pudieran necesitar investigación y cambios adicionales?¿Cómo se puede arreglar?] \n",
    "¿Hay algún problema? Las columnas usd_per_message y usd_per_minute se repiten, \n",
    "¿Cómo se puede arreglar? No hay errores en los datos pero vamos a realizar algunos cambios que serán utiles mas adelante"
   ]
  },
  {
   "cell_type": "markdown",
   "metadata": {
    "id": "R3C05i1l0q03"
   },
   "source": [
    "## Corregir datos"
   ]
  },
  {
   "cell_type": "markdown",
   "metadata": {
    "id": "bIi8StZI0q03"
   },
   "source": [
    "[Corrige los problemas obvios con los datos basándote en las observaciones iniciales.] "
   ]
  },
  {
   "cell_type": "code",
   "execution_count": 52,
   "metadata": {
    "id": "Y7SVmjGn0q03",
    "trusted": false
   },
   "outputs": [],
   "source": [
    "df_plans.rename(columns={'plan_name':'plan'}, inplace=True)"
   ]
  },
  {
   "cell_type": "code",
   "execution_count": 53,
   "metadata": {
    "trusted": false
   },
   "outputs": [
    {
     "data": {
      "text/html": [
       "<div>\n",
       "<style scoped>\n",
       "    .dataframe tbody tr th:only-of-type {\n",
       "        vertical-align: middle;\n",
       "    }\n",
       "\n",
       "    .dataframe tbody tr th {\n",
       "        vertical-align: top;\n",
       "    }\n",
       "\n",
       "    .dataframe thead th {\n",
       "        text-align: right;\n",
       "    }\n",
       "</style>\n",
       "<table border=\"1\" class=\"dataframe\">\n",
       "  <thead>\n",
       "    <tr style=\"text-align: right;\">\n",
       "      <th></th>\n",
       "      <th>messages_included</th>\n",
       "      <th>mb_per_month_included</th>\n",
       "      <th>minutes_included</th>\n",
       "      <th>usd_monthly_pay</th>\n",
       "      <th>usd_per_gb</th>\n",
       "      <th>usd_per_message</th>\n",
       "      <th>usd_per_minute</th>\n",
       "      <th>plan</th>\n",
       "    </tr>\n",
       "  </thead>\n",
       "  <tbody>\n",
       "    <tr>\n",
       "      <th>0</th>\n",
       "      <td>50</td>\n",
       "      <td>15360</td>\n",
       "      <td>500</td>\n",
       "      <td>20</td>\n",
       "      <td>10</td>\n",
       "      <td>0.03</td>\n",
       "      <td>0.03</td>\n",
       "      <td>surf</td>\n",
       "    </tr>\n",
       "    <tr>\n",
       "      <th>1</th>\n",
       "      <td>1000</td>\n",
       "      <td>30720</td>\n",
       "      <td>3000</td>\n",
       "      <td>70</td>\n",
       "      <td>7</td>\n",
       "      <td>0.01</td>\n",
       "      <td>0.01</td>\n",
       "      <td>ultimate</td>\n",
       "    </tr>\n",
       "  </tbody>\n",
       "</table>\n",
       "</div>"
      ],
      "text/plain": [
       "   messages_included  mb_per_month_included  minutes_included  \\\n",
       "0                 50                  15360               500   \n",
       "1               1000                  30720              3000   \n",
       "\n",
       "   usd_monthly_pay  usd_per_gb  usd_per_message  usd_per_minute      plan  \n",
       "0               20          10             0.03            0.03      surf  \n",
       "1               70           7             0.01            0.01  ultimate  "
      ]
     },
     "execution_count": 53,
     "metadata": {},
     "output_type": "execute_result"
    }
   ],
   "source": [
    "df_plans"
   ]
  },
  {
   "cell_type": "markdown",
   "metadata": {
    "id": "LJir7bml0q03"
   },
   "source": [
    "## Enriquecer los datos"
   ]
  },
  {
   "cell_type": "markdown",
   "metadata": {
    "id": "eqADpCfg0q04"
   },
   "source": [
    "[Agrega factores adicionales a los datos si crees que pudieran ser útiles.] Mas adelante será util el tener una columna para gb_per_month_included"
   ]
  },
  {
   "cell_type": "code",
   "execution_count": 54,
   "metadata": {
    "id": "gfcIEuXV0q04",
    "trusted": false
   },
   "outputs": [],
   "source": [
    "df_plans['gb_per_month_included'] = df_plans['mb_per_month_included'] / 1024"
   ]
  },
  {
   "cell_type": "markdown",
   "metadata": {
    "id": "1n2X6WXf0q04"
   },
   "source": [
    "## Usuarios/as"
   ]
  },
  {
   "cell_type": "code",
   "execution_count": 55,
   "metadata": {
    "id": "2NgjWFqx0q05",
    "trusted": false
   },
   "outputs": [
    {
     "name": "stdout",
     "output_type": "stream",
     "text": [
      "<class 'pandas.core.frame.DataFrame'>\n",
      "RangeIndex: 500 entries, 0 to 499\n",
      "Data columns (total 8 columns):\n",
      " #   Column      Non-Null Count  Dtype \n",
      "---  ------      --------------  ----- \n",
      " 0   user_id     500 non-null    int64 \n",
      " 1   first_name  500 non-null    object\n",
      " 2   last_name   500 non-null    object\n",
      " 3   age         500 non-null    int64 \n",
      " 4   city        500 non-null    object\n",
      " 5   reg_date    500 non-null    object\n",
      " 6   plan        500 non-null    object\n",
      " 7   churn_date  34 non-null     object\n",
      "dtypes: int64(2), object(6)\n",
      "memory usage: 31.4+ KB\n"
     ]
    }
   ],
   "source": [
    "# Imprime la información general/resumida sobre el DataFrame de usuarios\n",
    "df_users.info()"
   ]
  },
  {
   "cell_type": "code",
   "execution_count": 56,
   "metadata": {
    "id": "1IN1L9uh0q05",
    "trusted": false
   },
   "outputs": [
    {
     "data": {
      "text/html": [
       "<div>\n",
       "<style scoped>\n",
       "    .dataframe tbody tr th:only-of-type {\n",
       "        vertical-align: middle;\n",
       "    }\n",
       "\n",
       "    .dataframe tbody tr th {\n",
       "        vertical-align: top;\n",
       "    }\n",
       "\n",
       "    .dataframe thead th {\n",
       "        text-align: right;\n",
       "    }\n",
       "</style>\n",
       "<table border=\"1\" class=\"dataframe\">\n",
       "  <thead>\n",
       "    <tr style=\"text-align: right;\">\n",
       "      <th></th>\n",
       "      <th>user_id</th>\n",
       "      <th>first_name</th>\n",
       "      <th>last_name</th>\n",
       "      <th>age</th>\n",
       "      <th>city</th>\n",
       "      <th>reg_date</th>\n",
       "      <th>plan</th>\n",
       "      <th>churn_date</th>\n",
       "    </tr>\n",
       "  </thead>\n",
       "  <tbody>\n",
       "    <tr>\n",
       "      <th>0</th>\n",
       "      <td>1000</td>\n",
       "      <td>Anamaria</td>\n",
       "      <td>Bauer</td>\n",
       "      <td>45</td>\n",
       "      <td>Atlanta-Sandy Springs-Roswell, GA MSA</td>\n",
       "      <td>2018-12-24</td>\n",
       "      <td>ultimate</td>\n",
       "      <td>NaN</td>\n",
       "    </tr>\n",
       "    <tr>\n",
       "      <th>1</th>\n",
       "      <td>1001</td>\n",
       "      <td>Mickey</td>\n",
       "      <td>Wilkerson</td>\n",
       "      <td>28</td>\n",
       "      <td>Seattle-Tacoma-Bellevue, WA MSA</td>\n",
       "      <td>2018-08-13</td>\n",
       "      <td>surf</td>\n",
       "      <td>NaN</td>\n",
       "    </tr>\n",
       "    <tr>\n",
       "      <th>2</th>\n",
       "      <td>1002</td>\n",
       "      <td>Carlee</td>\n",
       "      <td>Hoffman</td>\n",
       "      <td>36</td>\n",
       "      <td>Las Vegas-Henderson-Paradise, NV MSA</td>\n",
       "      <td>2018-10-21</td>\n",
       "      <td>surf</td>\n",
       "      <td>NaN</td>\n",
       "    </tr>\n",
       "    <tr>\n",
       "      <th>3</th>\n",
       "      <td>1003</td>\n",
       "      <td>Reynaldo</td>\n",
       "      <td>Jenkins</td>\n",
       "      <td>52</td>\n",
       "      <td>Tulsa, OK MSA</td>\n",
       "      <td>2018-01-28</td>\n",
       "      <td>surf</td>\n",
       "      <td>NaN</td>\n",
       "    </tr>\n",
       "    <tr>\n",
       "      <th>4</th>\n",
       "      <td>1004</td>\n",
       "      <td>Leonila</td>\n",
       "      <td>Thompson</td>\n",
       "      <td>40</td>\n",
       "      <td>Seattle-Tacoma-Bellevue, WA MSA</td>\n",
       "      <td>2018-05-23</td>\n",
       "      <td>surf</td>\n",
       "      <td>NaN</td>\n",
       "    </tr>\n",
       "  </tbody>\n",
       "</table>\n",
       "</div>"
      ],
      "text/plain": [
       "   user_id first_name  last_name  age                                   city  \\\n",
       "0     1000   Anamaria      Bauer   45  Atlanta-Sandy Springs-Roswell, GA MSA   \n",
       "1     1001     Mickey  Wilkerson   28        Seattle-Tacoma-Bellevue, WA MSA   \n",
       "2     1002     Carlee    Hoffman   36   Las Vegas-Henderson-Paradise, NV MSA   \n",
       "3     1003   Reynaldo    Jenkins   52                          Tulsa, OK MSA   \n",
       "4     1004    Leonila   Thompson   40        Seattle-Tacoma-Bellevue, WA MSA   \n",
       "\n",
       "     reg_date      plan churn_date  \n",
       "0  2018-12-24  ultimate        NaN  \n",
       "1  2018-08-13      surf        NaN  \n",
       "2  2018-10-21      surf        NaN  \n",
       "3  2018-01-28      surf        NaN  \n",
       "4  2018-05-23      surf        NaN  "
      ]
     },
     "execution_count": 56,
     "metadata": {},
     "output_type": "execute_result"
    }
   ],
   "source": [
    "# Imprime una muestra de datos para usuarios\n",
    "\n",
    "df_users.head()\n"
   ]
  },
  {
   "cell_type": "markdown",
   "metadata": {
    "id": "dCZoUq4f0q06"
   },
   "source": [
    "[Describe lo que ves y observas en la información general y en la muestra de datos impresa para el precio de datos anterior. ¿Hay algún problema (tipos de datos no adecuados, datos ausentes, etc.) que pudieran necesitar investigación y cambios adicionales? ¿Cómo se puede arreglar?] La columna reg_date esde tipo object y es necesario convertirla a datetime"
   ]
  },
  {
   "cell_type": "markdown",
   "metadata": {
    "id": "BX5FQh_I0q06"
   },
   "source": [
    "### Corregir los datos"
   ]
  },
  {
   "cell_type": "markdown",
   "metadata": {
    "id": "8OdKMwJv0q06"
   },
   "source": [
    "[Corrige los problemas obvios con los datos basándote en las observaciones iniciales.]"
   ]
  },
  {
   "cell_type": "code",
   "execution_count": 57,
   "metadata": {
    "id": "yUqX-K0C0q07",
    "trusted": false
   },
   "outputs": [],
   "source": [
    "df_users['reg_date'] = pd.to_datetime(df_users['reg_date'])"
   ]
  },
  {
   "cell_type": "markdown",
   "metadata": {
    "id": "ycwuARJp0q07"
   },
   "source": [
    "### Enriquecer los datos"
   ]
  },
  {
   "cell_type": "markdown",
   "metadata": {
    "id": "96NIh4CJ0q08"
   },
   "source": [
    "[Agrega factores adicionales a los datos si crees que pudieran ser útiles.] No es necesario enriquecer los datos"
   ]
  },
  {
   "cell_type": "markdown",
   "metadata": {
    "id": "o7MeKCid0q08"
   },
   "source": [
    "## Llamadas"
   ]
  },
  {
   "cell_type": "code",
   "execution_count": 58,
   "metadata": {
    "id": "6dDlnoDm0q08",
    "trusted": false
   },
   "outputs": [
    {
     "name": "stdout",
     "output_type": "stream",
     "text": [
      "<class 'pandas.core.frame.DataFrame'>\n",
      "RangeIndex: 137735 entries, 0 to 137734\n",
      "Data columns (total 4 columns):\n",
      " #   Column     Non-Null Count   Dtype  \n",
      "---  ------     --------------   -----  \n",
      " 0   id         137735 non-null  object \n",
      " 1   user_id    137735 non-null  int64  \n",
      " 2   call_date  137735 non-null  object \n",
      " 3   duration   137735 non-null  float64\n",
      "dtypes: float64(1), int64(1), object(2)\n",
      "memory usage: 4.2+ MB\n"
     ]
    }
   ],
   "source": [
    "# Imprime la información general/resumida sobre el DataFrame de las llamadas\n",
    "\n",
    "df_calls.info()"
   ]
  },
  {
   "cell_type": "code",
   "execution_count": 59,
   "metadata": {
    "id": "kuh1vlNB0q09",
    "trusted": false
   },
   "outputs": [
    {
     "data": {
      "text/html": [
       "<div>\n",
       "<style scoped>\n",
       "    .dataframe tbody tr th:only-of-type {\n",
       "        vertical-align: middle;\n",
       "    }\n",
       "\n",
       "    .dataframe tbody tr th {\n",
       "        vertical-align: top;\n",
       "    }\n",
       "\n",
       "    .dataframe thead th {\n",
       "        text-align: right;\n",
       "    }\n",
       "</style>\n",
       "<table border=\"1\" class=\"dataframe\">\n",
       "  <thead>\n",
       "    <tr style=\"text-align: right;\">\n",
       "      <th></th>\n",
       "      <th>id</th>\n",
       "      <th>user_id</th>\n",
       "      <th>call_date</th>\n",
       "      <th>duration</th>\n",
       "    </tr>\n",
       "  </thead>\n",
       "  <tbody>\n",
       "    <tr>\n",
       "      <th>0</th>\n",
       "      <td>1000_93</td>\n",
       "      <td>1000</td>\n",
       "      <td>2018-12-27</td>\n",
       "      <td>8.52</td>\n",
       "    </tr>\n",
       "    <tr>\n",
       "      <th>1</th>\n",
       "      <td>1000_145</td>\n",
       "      <td>1000</td>\n",
       "      <td>2018-12-27</td>\n",
       "      <td>13.66</td>\n",
       "    </tr>\n",
       "    <tr>\n",
       "      <th>2</th>\n",
       "      <td>1000_247</td>\n",
       "      <td>1000</td>\n",
       "      <td>2018-12-27</td>\n",
       "      <td>14.48</td>\n",
       "    </tr>\n",
       "    <tr>\n",
       "      <th>3</th>\n",
       "      <td>1000_309</td>\n",
       "      <td>1000</td>\n",
       "      <td>2018-12-28</td>\n",
       "      <td>5.76</td>\n",
       "    </tr>\n",
       "    <tr>\n",
       "      <th>4</th>\n",
       "      <td>1000_380</td>\n",
       "      <td>1000</td>\n",
       "      <td>2018-12-30</td>\n",
       "      <td>4.22</td>\n",
       "    </tr>\n",
       "  </tbody>\n",
       "</table>\n",
       "</div>"
      ],
      "text/plain": [
       "         id  user_id   call_date  duration\n",
       "0   1000_93     1000  2018-12-27      8.52\n",
       "1  1000_145     1000  2018-12-27     13.66\n",
       "2  1000_247     1000  2018-12-27     14.48\n",
       "3  1000_309     1000  2018-12-28      5.76\n",
       "4  1000_380     1000  2018-12-30      4.22"
      ]
     },
     "execution_count": 59,
     "metadata": {},
     "output_type": "execute_result"
    }
   ],
   "source": [
    "# Imprime una muestra de datos para las llamadas\n",
    "\n",
    "df_calls.head()"
   ]
  },
  {
   "cell_type": "markdown",
   "metadata": {
    "id": "DOAxYJSx0q09"
   },
   "source": [
    "[Describe lo que ves y observas en la información general y en la muestra de datos impresa para el precio de datos anterior. ¿Hay algún problema (tipos de datos no adecuados, datos ausentes, etc.) que pudieran necesitar investigación y cambios adicionales? ¿Cómo se puede arreglar?] La columna call_date es de tipo object y es necesario convertirla a datetime y en la columna duration se debe redondear de acuerdo a los comentarios inciales de las politicas de la compañia."
   ]
  },
  {
   "cell_type": "markdown",
   "metadata": {
    "id": "S7hzxmbX0q0-"
   },
   "source": [
    "### Corregir los datos"
   ]
  },
  {
   "cell_type": "markdown",
   "metadata": {
    "id": "YxWyAjD20q0-"
   },
   "source": [
    "[Corrige los problemas obvios con los datos basándote en las observaciones iniciales.]"
   ]
  },
  {
   "cell_type": "code",
   "execution_count": 60,
   "metadata": {
    "id": "S2r8xA4f0q0-",
    "trusted": false
   },
   "outputs": [],
   "source": [
    "#call date a datetime type\n",
    "df_calls ['call_date'] = pd.to_datetime(df_calls['call_date'])\n",
    "df_calls['duration'] = np.ceil(df_calls['duration'])"
   ]
  },
  {
   "cell_type": "code",
   "execution_count": 61,
   "metadata": {
    "trusted": false
   },
   "outputs": [],
   "source": [
    "df_calls['duration'] = df_calls['duration'].astype(int)"
   ]
  },
  {
   "cell_type": "markdown",
   "metadata": {
    "id": "KrMgTrlG0q0_"
   },
   "source": [
    "### Enriquecer los datos"
   ]
  },
  {
   "cell_type": "markdown",
   "metadata": {
    "id": "a9MbmEvE0q0_"
   },
   "source": [
    "[Agrega factores adicionales a los datos si crees que pudieran ser útiles.]"
   ]
  },
  {
   "cell_type": "code",
   "execution_count": 62,
   "metadata": {
    "id": "iZ1avpA_0q0_",
    "trusted": false
   },
   "outputs": [],
   "source": [
    "#redondear duration con numby\n",
    "df_calls['month'] = df_calls['call_date'].dt.month"
   ]
  },
  {
   "cell_type": "code",
   "execution_count": 63,
   "metadata": {
    "trusted": false
   },
   "outputs": [
    {
     "data": {
      "text/html": [
       "<div>\n",
       "<style scoped>\n",
       "    .dataframe tbody tr th:only-of-type {\n",
       "        vertical-align: middle;\n",
       "    }\n",
       "\n",
       "    .dataframe tbody tr th {\n",
       "        vertical-align: top;\n",
       "    }\n",
       "\n",
       "    .dataframe thead th {\n",
       "        text-align: right;\n",
       "    }\n",
       "</style>\n",
       "<table border=\"1\" class=\"dataframe\">\n",
       "  <thead>\n",
       "    <tr style=\"text-align: right;\">\n",
       "      <th></th>\n",
       "      <th>id</th>\n",
       "      <th>user_id</th>\n",
       "      <th>call_date</th>\n",
       "      <th>duration</th>\n",
       "      <th>month</th>\n",
       "    </tr>\n",
       "  </thead>\n",
       "  <tbody>\n",
       "    <tr>\n",
       "      <th>0</th>\n",
       "      <td>1000_93</td>\n",
       "      <td>1000</td>\n",
       "      <td>2018-12-27</td>\n",
       "      <td>9</td>\n",
       "      <td>12</td>\n",
       "    </tr>\n",
       "    <tr>\n",
       "      <th>1</th>\n",
       "      <td>1000_145</td>\n",
       "      <td>1000</td>\n",
       "      <td>2018-12-27</td>\n",
       "      <td>14</td>\n",
       "      <td>12</td>\n",
       "    </tr>\n",
       "    <tr>\n",
       "      <th>2</th>\n",
       "      <td>1000_247</td>\n",
       "      <td>1000</td>\n",
       "      <td>2018-12-27</td>\n",
       "      <td>15</td>\n",
       "      <td>12</td>\n",
       "    </tr>\n",
       "    <tr>\n",
       "      <th>3</th>\n",
       "      <td>1000_309</td>\n",
       "      <td>1000</td>\n",
       "      <td>2018-12-28</td>\n",
       "      <td>6</td>\n",
       "      <td>12</td>\n",
       "    </tr>\n",
       "    <tr>\n",
       "      <th>4</th>\n",
       "      <td>1000_380</td>\n",
       "      <td>1000</td>\n",
       "      <td>2018-12-30</td>\n",
       "      <td>5</td>\n",
       "      <td>12</td>\n",
       "    </tr>\n",
       "  </tbody>\n",
       "</table>\n",
       "</div>"
      ],
      "text/plain": [
       "         id  user_id  call_date  duration  month\n",
       "0   1000_93     1000 2018-12-27         9     12\n",
       "1  1000_145     1000 2018-12-27        14     12\n",
       "2  1000_247     1000 2018-12-27        15     12\n",
       "3  1000_309     1000 2018-12-28         6     12\n",
       "4  1000_380     1000 2018-12-30         5     12"
      ]
     },
     "execution_count": 63,
     "metadata": {},
     "output_type": "execute_result"
    }
   ],
   "source": [
    "df_calls.head()"
   ]
  },
  {
   "cell_type": "markdown",
   "metadata": {
    "id": "mOUZSi180q0_"
   },
   "source": [
    "## Mensajes"
   ]
  },
  {
   "cell_type": "code",
   "execution_count": 64,
   "metadata": {
    "id": "R-bYJpdV0q1A",
    "trusted": false
   },
   "outputs": [
    {
     "name": "stdout",
     "output_type": "stream",
     "text": [
      "<class 'pandas.core.frame.DataFrame'>\n",
      "RangeIndex: 76051 entries, 0 to 76050\n",
      "Data columns (total 3 columns):\n",
      " #   Column        Non-Null Count  Dtype \n",
      "---  ------        --------------  ----- \n",
      " 0   id            76051 non-null  object\n",
      " 1   user_id       76051 non-null  int64 \n",
      " 2   message_date  76051 non-null  object\n",
      "dtypes: int64(1), object(2)\n",
      "memory usage: 1.7+ MB\n"
     ]
    }
   ],
   "source": [
    "# Imprime la información general/resumida sobre el DataFrame de los mensajes\n",
    "\n",
    "df_messages.info()"
   ]
  },
  {
   "cell_type": "code",
   "execution_count": 65,
   "metadata": {
    "id": "mCEl2iGE0q1A",
    "trusted": false
   },
   "outputs": [
    {
     "data": {
      "text/html": [
       "<div>\n",
       "<style scoped>\n",
       "    .dataframe tbody tr th:only-of-type {\n",
       "        vertical-align: middle;\n",
       "    }\n",
       "\n",
       "    .dataframe tbody tr th {\n",
       "        vertical-align: top;\n",
       "    }\n",
       "\n",
       "    .dataframe thead th {\n",
       "        text-align: right;\n",
       "    }\n",
       "</style>\n",
       "<table border=\"1\" class=\"dataframe\">\n",
       "  <thead>\n",
       "    <tr style=\"text-align: right;\">\n",
       "      <th></th>\n",
       "      <th>id</th>\n",
       "      <th>user_id</th>\n",
       "      <th>message_date</th>\n",
       "    </tr>\n",
       "  </thead>\n",
       "  <tbody>\n",
       "    <tr>\n",
       "      <th>0</th>\n",
       "      <td>1000_125</td>\n",
       "      <td>1000</td>\n",
       "      <td>2018-12-27</td>\n",
       "    </tr>\n",
       "    <tr>\n",
       "      <th>1</th>\n",
       "      <td>1000_160</td>\n",
       "      <td>1000</td>\n",
       "      <td>2018-12-31</td>\n",
       "    </tr>\n",
       "    <tr>\n",
       "      <th>2</th>\n",
       "      <td>1000_223</td>\n",
       "      <td>1000</td>\n",
       "      <td>2018-12-31</td>\n",
       "    </tr>\n",
       "    <tr>\n",
       "      <th>3</th>\n",
       "      <td>1000_251</td>\n",
       "      <td>1000</td>\n",
       "      <td>2018-12-27</td>\n",
       "    </tr>\n",
       "    <tr>\n",
       "      <th>4</th>\n",
       "      <td>1000_255</td>\n",
       "      <td>1000</td>\n",
       "      <td>2018-12-26</td>\n",
       "    </tr>\n",
       "  </tbody>\n",
       "</table>\n",
       "</div>"
      ],
      "text/plain": [
       "         id  user_id message_date\n",
       "0  1000_125     1000   2018-12-27\n",
       "1  1000_160     1000   2018-12-31\n",
       "2  1000_223     1000   2018-12-31\n",
       "3  1000_251     1000   2018-12-27\n",
       "4  1000_255     1000   2018-12-26"
      ]
     },
     "execution_count": 65,
     "metadata": {},
     "output_type": "execute_result"
    }
   ],
   "source": [
    "# Imprime una muestra de datos para los mensajes\n",
    "\n",
    "df_messages.head()"
   ]
  },
  {
   "cell_type": "markdown",
   "metadata": {
    "id": "04xDj7KH0q1A"
   },
   "source": [
    "[Describe lo que ves y observas en la información general y en la muestra de datos impresa para el precio de datos anterior. ¿Hay algún problema (tipos de datos no adecuados, datos ausentes, etc.) que pudieran necesitar investigación y cambios adicionales? ¿Cómo se puede arreglar?] La columna message_date es de tipo object y es necesario convertirla a datetime"
   ]
  },
  {
   "cell_type": "markdown",
   "metadata": {
    "id": "Sprfak900q1B"
   },
   "source": [
    "### Corregir los datos"
   ]
  },
  {
   "cell_type": "markdown",
   "metadata": {
    "id": "eGw7d9j10q1B"
   },
   "source": [
    "[Corrige los problemas obvios con los datos basándote en las observaciones iniciales.]"
   ]
  },
  {
   "cell_type": "code",
   "execution_count": 66,
   "metadata": {
    "id": "vsllvkoa0q1B",
    "trusted": false
   },
   "outputs": [],
   "source": [
    "df_messages ['message_date'] = pd.to_datetime(df_messages['message_date'])"
   ]
  },
  {
   "cell_type": "markdown",
   "metadata": {
    "id": "HvLid7iD0q1B"
   },
   "source": [
    "### Enriquecer los datos"
   ]
  },
  {
   "cell_type": "markdown",
   "metadata": {
    "id": "8nhPFKIe0q1C"
   },
   "source": [
    "[Agrega factores adicionales a los datos si crees que pudieran ser útiles.]"
   ]
  },
  {
   "cell_type": "code",
   "execution_count": 67,
   "metadata": {
    "id": "zYEXZac10q1C",
    "trusted": false
   },
   "outputs": [],
   "source": [
    "df_messages['month'] = df_messages['message_date'].dt.month"
   ]
  },
  {
   "cell_type": "markdown",
   "metadata": {
    "id": "bStkaxn40q1C"
   },
   "source": [
    "## Internet"
   ]
  },
  {
   "cell_type": "code",
   "execution_count": 68,
   "metadata": {
    "id": "e-Uz5qyn0q1C",
    "trusted": false
   },
   "outputs": [
    {
     "name": "stdout",
     "output_type": "stream",
     "text": [
      "<class 'pandas.core.frame.DataFrame'>\n",
      "RangeIndex: 104825 entries, 0 to 104824\n",
      "Data columns (total 4 columns):\n",
      " #   Column        Non-Null Count   Dtype  \n",
      "---  ------        --------------   -----  \n",
      " 0   id            104825 non-null  object \n",
      " 1   user_id       104825 non-null  int64  \n",
      " 2   session_date  104825 non-null  object \n",
      " 3   mb_used       104825 non-null  float64\n",
      "dtypes: float64(1), int64(1), object(2)\n",
      "memory usage: 3.2+ MB\n"
     ]
    }
   ],
   "source": [
    "# Imprime la información general/resumida sobre el DataFrame de internet\n",
    "\n",
    "df_internet.info()"
   ]
  },
  {
   "cell_type": "code",
   "execution_count": 98,
   "metadata": {
    "id": "9r3x_XLw0q1C",
    "trusted": false
   },
   "outputs": [
    {
     "data": {
      "text/html": [
       "<div>\n",
       "<style scoped>\n",
       "    .dataframe tbody tr th:only-of-type {\n",
       "        vertical-align: middle;\n",
       "    }\n",
       "\n",
       "    .dataframe tbody tr th {\n",
       "        vertical-align: top;\n",
       "    }\n",
       "\n",
       "    .dataframe thead th {\n",
       "        text-align: right;\n",
       "    }\n",
       "</style>\n",
       "<table border=\"1\" class=\"dataframe\">\n",
       "  <thead>\n",
       "    <tr style=\"text-align: right;\">\n",
       "      <th></th>\n",
       "      <th>id</th>\n",
       "      <th>user_id</th>\n",
       "      <th>session_date</th>\n",
       "      <th>mb_used</th>\n",
       "    </tr>\n",
       "  </thead>\n",
       "  <tbody>\n",
       "    <tr>\n",
       "      <th>0</th>\n",
       "      <td>1000_13</td>\n",
       "      <td>1000</td>\n",
       "      <td>2018-12-29</td>\n",
       "      <td>89.86</td>\n",
       "    </tr>\n",
       "    <tr>\n",
       "      <th>1</th>\n",
       "      <td>1000_204</td>\n",
       "      <td>1000</td>\n",
       "      <td>2018-12-31</td>\n",
       "      <td>0.00</td>\n",
       "    </tr>\n",
       "    <tr>\n",
       "      <th>2</th>\n",
       "      <td>1000_379</td>\n",
       "      <td>1000</td>\n",
       "      <td>2018-12-28</td>\n",
       "      <td>660.40</td>\n",
       "    </tr>\n",
       "    <tr>\n",
       "      <th>3</th>\n",
       "      <td>1000_413</td>\n",
       "      <td>1000</td>\n",
       "      <td>2018-12-26</td>\n",
       "      <td>270.99</td>\n",
       "    </tr>\n",
       "    <tr>\n",
       "      <th>4</th>\n",
       "      <td>1000_442</td>\n",
       "      <td>1000</td>\n",
       "      <td>2018-12-27</td>\n",
       "      <td>880.22</td>\n",
       "    </tr>\n",
       "  </tbody>\n",
       "</table>\n",
       "</div>"
      ],
      "text/plain": [
       "         id  user_id session_date  mb_used\n",
       "0   1000_13     1000   2018-12-29    89.86\n",
       "1  1000_204     1000   2018-12-31     0.00\n",
       "2  1000_379     1000   2018-12-28   660.40\n",
       "3  1000_413     1000   2018-12-26   270.99\n",
       "4  1000_442     1000   2018-12-27   880.22"
      ]
     },
     "execution_count": 98,
     "metadata": {},
     "output_type": "execute_result"
    }
   ],
   "source": [
    "# Imprime una muestra de datos para el tráfico de internet\n",
    "\n",
    "df_internet.head()"
   ]
  },
  {
   "cell_type": "markdown",
   "metadata": {
    "id": "EzOG5ik30q1D"
   },
   "source": [
    "[Describe lo que ves y observas en la información general y en la muestra de datos impresa para el precio de datos anterior. ¿Hay algún problema (tipos de datos no adecuados, datos ausentes, etc.) que pudieran necesitar investigación y cambios adicionales? ¿Cómo se puede arreglar?] La columna session_date es de tipo object y es necesario convertirla a datetime"
   ]
  },
  {
   "cell_type": "markdown",
   "metadata": {
    "id": "yA0tkPFg0q1D"
   },
   "source": [
    "### Corregir los datos"
   ]
  },
  {
   "cell_type": "markdown",
   "metadata": {
    "id": "zlZMuIEK0q1D"
   },
   "source": [
    "[Corrige los problemas obvios con los datos basándote en las observaciones iniciales.]"
   ]
  },
  {
   "cell_type": "code",
   "execution_count": 69,
   "metadata": {
    "id": "zVeanzdd0q1E",
    "trusted": false
   },
   "outputs": [],
   "source": [
    "df_internet ['session_date'] = pd.to_datetime(df_internet['session_date'])"
   ]
  },
  {
   "cell_type": "markdown",
   "metadata": {
    "id": "e8_mLF4a0q1E"
   },
   "source": [
    "### Enriquecer los datos"
   ]
  },
  {
   "cell_type": "markdown",
   "metadata": {
    "id": "xhNdn2tE0q1E"
   },
   "source": [
    "[Agrega factores adicionales a los datos si crees que pudieran ser útiles.]"
   ]
  },
  {
   "cell_type": "code",
   "execution_count": 70,
   "metadata": {
    "id": "ESiYPIEK0q1E",
    "trusted": false
   },
   "outputs": [],
   "source": [
    "df_internet['month'] = df_internet['session_date'].dt.month"
   ]
  },
  {
   "cell_type": "code",
   "execution_count": 71,
   "metadata": {
    "trusted": false
   },
   "outputs": [],
   "source": [
    "df_internet['gd_used'] = df_internet['mb_used'] / 1024"
   ]
  },
  {
   "cell_type": "code",
   "execution_count": 72,
   "metadata": {
    "trusted": false
   },
   "outputs": [
    {
     "data": {
      "text/html": [
       "<div>\n",
       "<style scoped>\n",
       "    .dataframe tbody tr th:only-of-type {\n",
       "        vertical-align: middle;\n",
       "    }\n",
       "\n",
       "    .dataframe tbody tr th {\n",
       "        vertical-align: top;\n",
       "    }\n",
       "\n",
       "    .dataframe thead th {\n",
       "        text-align: right;\n",
       "    }\n",
       "</style>\n",
       "<table border=\"1\" class=\"dataframe\">\n",
       "  <thead>\n",
       "    <tr style=\"text-align: right;\">\n",
       "      <th></th>\n",
       "      <th>id</th>\n",
       "      <th>user_id</th>\n",
       "      <th>session_date</th>\n",
       "      <th>mb_used</th>\n",
       "      <th>month</th>\n",
       "      <th>gd_used</th>\n",
       "    </tr>\n",
       "  </thead>\n",
       "  <tbody>\n",
       "    <tr>\n",
       "      <th>0</th>\n",
       "      <td>1000_13</td>\n",
       "      <td>1000</td>\n",
       "      <td>2018-12-29</td>\n",
       "      <td>89.86</td>\n",
       "      <td>12</td>\n",
       "      <td>0.087754</td>\n",
       "    </tr>\n",
       "    <tr>\n",
       "      <th>1</th>\n",
       "      <td>1000_204</td>\n",
       "      <td>1000</td>\n",
       "      <td>2018-12-31</td>\n",
       "      <td>0.00</td>\n",
       "      <td>12</td>\n",
       "      <td>0.000000</td>\n",
       "    </tr>\n",
       "    <tr>\n",
       "      <th>2</th>\n",
       "      <td>1000_379</td>\n",
       "      <td>1000</td>\n",
       "      <td>2018-12-28</td>\n",
       "      <td>660.40</td>\n",
       "      <td>12</td>\n",
       "      <td>0.644922</td>\n",
       "    </tr>\n",
       "    <tr>\n",
       "      <th>3</th>\n",
       "      <td>1000_413</td>\n",
       "      <td>1000</td>\n",
       "      <td>2018-12-26</td>\n",
       "      <td>270.99</td>\n",
       "      <td>12</td>\n",
       "      <td>0.264639</td>\n",
       "    </tr>\n",
       "    <tr>\n",
       "      <th>4</th>\n",
       "      <td>1000_442</td>\n",
       "      <td>1000</td>\n",
       "      <td>2018-12-27</td>\n",
       "      <td>880.22</td>\n",
       "      <td>12</td>\n",
       "      <td>0.859590</td>\n",
       "    </tr>\n",
       "  </tbody>\n",
       "</table>\n",
       "</div>"
      ],
      "text/plain": [
       "         id  user_id session_date  mb_used  month   gd_used\n",
       "0   1000_13     1000   2018-12-29    89.86     12  0.087754\n",
       "1  1000_204     1000   2018-12-31     0.00     12  0.000000\n",
       "2  1000_379     1000   2018-12-28   660.40     12  0.644922\n",
       "3  1000_413     1000   2018-12-26   270.99     12  0.264639\n",
       "4  1000_442     1000   2018-12-27   880.22     12  0.859590"
      ]
     },
     "execution_count": 72,
     "metadata": {},
     "output_type": "execute_result"
    }
   ],
   "source": [
    "df_internet.head()"
   ]
  },
  {
   "cell_type": "markdown",
   "metadata": {
    "id": "3UA2cqIW0q1E"
   },
   "source": [
    "## Estudiar las condiciones de las tarifas"
   ]
  },
  {
   "cell_type": "markdown",
   "metadata": {
    "id": "T86Sqltq0q1F"
   },
   "source": [
    "[Es sumamente importante entender cómo funcionan las tarifas, cómo se les cobra a los usuarios en función de su plan de suscripción. Así que te sugerimos imprimir la información de la tarifa para ver una vez más sus condiciones.]"
   ]
  },
  {
   "cell_type": "code",
   "execution_count": 73,
   "metadata": {
    "id": "i409op8p0q1F",
    "trusted": false
   },
   "outputs": [
    {
     "data": {
      "text/html": [
       "<div>\n",
       "<style scoped>\n",
       "    .dataframe tbody tr th:only-of-type {\n",
       "        vertical-align: middle;\n",
       "    }\n",
       "\n",
       "    .dataframe tbody tr th {\n",
       "        vertical-align: top;\n",
       "    }\n",
       "\n",
       "    .dataframe thead th {\n",
       "        text-align: right;\n",
       "    }\n",
       "</style>\n",
       "<table border=\"1\" class=\"dataframe\">\n",
       "  <thead>\n",
       "    <tr style=\"text-align: right;\">\n",
       "      <th></th>\n",
       "      <th>messages_included</th>\n",
       "      <th>mb_per_month_included</th>\n",
       "      <th>minutes_included</th>\n",
       "      <th>usd_monthly_pay</th>\n",
       "      <th>usd_per_gb</th>\n",
       "      <th>usd_per_message</th>\n",
       "      <th>usd_per_minute</th>\n",
       "      <th>plan</th>\n",
       "      <th>gb_per_month_included</th>\n",
       "    </tr>\n",
       "  </thead>\n",
       "  <tbody>\n",
       "    <tr>\n",
       "      <th>0</th>\n",
       "      <td>50</td>\n",
       "      <td>15360</td>\n",
       "      <td>500</td>\n",
       "      <td>20</td>\n",
       "      <td>10</td>\n",
       "      <td>0.03</td>\n",
       "      <td>0.03</td>\n",
       "      <td>surf</td>\n",
       "      <td>15.0</td>\n",
       "    </tr>\n",
       "    <tr>\n",
       "      <th>1</th>\n",
       "      <td>1000</td>\n",
       "      <td>30720</td>\n",
       "      <td>3000</td>\n",
       "      <td>70</td>\n",
       "      <td>7</td>\n",
       "      <td>0.01</td>\n",
       "      <td>0.01</td>\n",
       "      <td>ultimate</td>\n",
       "      <td>30.0</td>\n",
       "    </tr>\n",
       "  </tbody>\n",
       "</table>\n",
       "</div>"
      ],
      "text/plain": [
       "   messages_included  mb_per_month_included  minutes_included  \\\n",
       "0                 50                  15360               500   \n",
       "1               1000                  30720              3000   \n",
       "\n",
       "   usd_monthly_pay  usd_per_gb  usd_per_message  usd_per_minute      plan  \\\n",
       "0               20          10             0.03            0.03      surf   \n",
       "1               70           7             0.01            0.01  ultimate   \n",
       "\n",
       "   gb_per_month_included  \n",
       "0                   15.0  \n",
       "1                   30.0  "
      ]
     },
     "execution_count": 73,
     "metadata": {},
     "output_type": "execute_result"
    }
   ],
   "source": [
    "# Imprime las condiciones de la tarifa y asegúrate de que te quedan claras\n",
    "\n",
    "df_plans.head()"
   ]
  },
  {
   "cell_type": "markdown",
   "metadata": {
    "id": "hMR1tP5d0q1F"
   },
   "source": [
    "## Agregar datos por usuario\n",
    "\n",
    "[Ahora que los datos están limpios, agrega los datos por usuario y por periodo para que solo haya un registro por usuario y por periodo. Esto facilitará mucho el análisis posterior.]"
   ]
  },
  {
   "cell_type": "code",
   "execution_count": 74,
   "metadata": {
    "id": "A332cedB0q1G",
    "trusted": false
   },
   "outputs": [
    {
     "data": {
      "text/html": [
       "<div>\n",
       "<style scoped>\n",
       "    .dataframe tbody tr th:only-of-type {\n",
       "        vertical-align: middle;\n",
       "    }\n",
       "\n",
       "    .dataframe tbody tr th {\n",
       "        vertical-align: top;\n",
       "    }\n",
       "\n",
       "    .dataframe thead th {\n",
       "        text-align: right;\n",
       "    }\n",
       "</style>\n",
       "<table border=\"1\" class=\"dataframe\">\n",
       "  <thead>\n",
       "    <tr style=\"text-align: right;\">\n",
       "      <th></th>\n",
       "      <th>user_id</th>\n",
       "      <th>month</th>\n",
       "      <th>total_calls</th>\n",
       "    </tr>\n",
       "  </thead>\n",
       "  <tbody>\n",
       "    <tr>\n",
       "      <th>0</th>\n",
       "      <td>1000</td>\n",
       "      <td>12</td>\n",
       "      <td>16</td>\n",
       "    </tr>\n",
       "    <tr>\n",
       "      <th>1</th>\n",
       "      <td>1001</td>\n",
       "      <td>8</td>\n",
       "      <td>27</td>\n",
       "    </tr>\n",
       "    <tr>\n",
       "      <th>2</th>\n",
       "      <td>1001</td>\n",
       "      <td>9</td>\n",
       "      <td>49</td>\n",
       "    </tr>\n",
       "    <tr>\n",
       "      <th>3</th>\n",
       "      <td>1001</td>\n",
       "      <td>10</td>\n",
       "      <td>65</td>\n",
       "    </tr>\n",
       "    <tr>\n",
       "      <th>4</th>\n",
       "      <td>1001</td>\n",
       "      <td>11</td>\n",
       "      <td>64</td>\n",
       "    </tr>\n",
       "  </tbody>\n",
       "</table>\n",
       "</div>"
      ],
      "text/plain": [
       "   user_id  month  total_calls\n",
       "0     1000     12           16\n",
       "1     1001      8           27\n",
       "2     1001      9           49\n",
       "3     1001     10           65\n",
       "4     1001     11           64"
      ]
     },
     "execution_count": 74,
     "metadata": {},
     "output_type": "execute_result"
    }
   ],
   "source": [
    "# Calcula el número de llamadas hechas por cada usuario al mes. Guarda el resultado.\n",
    "\n",
    "total_calls = df_calls.groupby(['user_id','month'])['id'].count().reset_index()\n",
    "total_calls.columns = ['user_id','month','total_calls']\n",
    "total_calls.head()"
   ]
  },
  {
   "cell_type": "code",
   "execution_count": 75,
   "metadata": {
    "id": "aw2cmuql0q1G",
    "trusted": false
   },
   "outputs": [
    {
     "data": {
      "text/html": [
       "<div>\n",
       "<style scoped>\n",
       "    .dataframe tbody tr th:only-of-type {\n",
       "        vertical-align: middle;\n",
       "    }\n",
       "\n",
       "    .dataframe tbody tr th {\n",
       "        vertical-align: top;\n",
       "    }\n",
       "\n",
       "    .dataframe thead th {\n",
       "        text-align: right;\n",
       "    }\n",
       "</style>\n",
       "<table border=\"1\" class=\"dataframe\">\n",
       "  <thead>\n",
       "    <tr style=\"text-align: right;\">\n",
       "      <th></th>\n",
       "      <th>user_id</th>\n",
       "      <th>month</th>\n",
       "      <th>total_minutes</th>\n",
       "    </tr>\n",
       "  </thead>\n",
       "  <tbody>\n",
       "    <tr>\n",
       "      <th>0</th>\n",
       "      <td>1000</td>\n",
       "      <td>12</td>\n",
       "      <td>124</td>\n",
       "    </tr>\n",
       "    <tr>\n",
       "      <th>1</th>\n",
       "      <td>1001</td>\n",
       "      <td>8</td>\n",
       "      <td>182</td>\n",
       "    </tr>\n",
       "    <tr>\n",
       "      <th>2</th>\n",
       "      <td>1001</td>\n",
       "      <td>9</td>\n",
       "      <td>315</td>\n",
       "    </tr>\n",
       "    <tr>\n",
       "      <th>3</th>\n",
       "      <td>1001</td>\n",
       "      <td>10</td>\n",
       "      <td>393</td>\n",
       "    </tr>\n",
       "    <tr>\n",
       "      <th>4</th>\n",
       "      <td>1001</td>\n",
       "      <td>11</td>\n",
       "      <td>426</td>\n",
       "    </tr>\n",
       "  </tbody>\n",
       "</table>\n",
       "</div>"
      ],
      "text/plain": [
       "   user_id  month  total_minutes\n",
       "0     1000     12            124\n",
       "1     1001      8            182\n",
       "2     1001      9            315\n",
       "3     1001     10            393\n",
       "4     1001     11            426"
      ]
     },
     "execution_count": 75,
     "metadata": {},
     "output_type": "execute_result"
    }
   ],
   "source": [
    "# Calcula la cantidad de minutos usados por cada usuario al mes. Guarda el resultado.\n",
    "\n",
    "total_minutes = df_calls.groupby(['user_id','month'])['duration'].sum().reset_index()\n",
    "total_minutes.columns = ['user_id','month','total_minutes']\n",
    "total_minutes.head()"
   ]
  },
  {
   "cell_type": "code",
   "execution_count": 76,
   "metadata": {
    "trusted": false
   },
   "outputs": [
    {
     "data": {
      "text/html": [
       "<div>\n",
       "<style scoped>\n",
       "    .dataframe tbody tr th:only-of-type {\n",
       "        vertical-align: middle;\n",
       "    }\n",
       "\n",
       "    .dataframe tbody tr th {\n",
       "        vertical-align: top;\n",
       "    }\n",
       "\n",
       "    .dataframe thead th {\n",
       "        text-align: right;\n",
       "    }\n",
       "</style>\n",
       "<table border=\"1\" class=\"dataframe\">\n",
       "  <thead>\n",
       "    <tr style=\"text-align: right;\">\n",
       "      <th></th>\n",
       "      <th>user_id</th>\n",
       "      <th>month</th>\n",
       "      <th>totaL_calls</th>\n",
       "      <th>total_minutes</th>\n",
       "    </tr>\n",
       "  </thead>\n",
       "  <tbody>\n",
       "    <tr>\n",
       "      <th>0</th>\n",
       "      <td>1000</td>\n",
       "      <td>12</td>\n",
       "      <td>16</td>\n",
       "      <td>124</td>\n",
       "    </tr>\n",
       "    <tr>\n",
       "      <th>1</th>\n",
       "      <td>1001</td>\n",
       "      <td>8</td>\n",
       "      <td>27</td>\n",
       "      <td>182</td>\n",
       "    </tr>\n",
       "    <tr>\n",
       "      <th>2</th>\n",
       "      <td>1001</td>\n",
       "      <td>9</td>\n",
       "      <td>49</td>\n",
       "      <td>315</td>\n",
       "    </tr>\n",
       "    <tr>\n",
       "      <th>3</th>\n",
       "      <td>1001</td>\n",
       "      <td>10</td>\n",
       "      <td>65</td>\n",
       "      <td>393</td>\n",
       "    </tr>\n",
       "    <tr>\n",
       "      <th>4</th>\n",
       "      <td>1001</td>\n",
       "      <td>11</td>\n",
       "      <td>64</td>\n",
       "      <td>426</td>\n",
       "    </tr>\n",
       "  </tbody>\n",
       "</table>\n",
       "</div>"
      ],
      "text/plain": [
       "   user_id  month  totaL_calls  total_minutes\n",
       "0     1000     12           16            124\n",
       "1     1001      8           27            182\n",
       "2     1001      9           49            315\n",
       "3     1001     10           65            393\n",
       "4     1001     11           64            426"
      ]
     },
     "execution_count": 76,
     "metadata": {},
     "output_type": "execute_result"
    }
   ],
   "source": [
    "monthly_calls = df_calls.groupby(['user_id','month']).agg(totaL_calls = ('id','count'),total_minutes = ('duration','sum')).reset_index()\n",
    "monthly_calls.head()"
   ]
  },
  {
   "cell_type": "code",
   "execution_count": 23,
   "metadata": {
    "id": "CcQvNHn60q1G",
    "scrolled": true,
    "trusted": false
   },
   "outputs": [
    {
     "data": {
      "text/html": [
       "<div>\n",
       "<style scoped>\n",
       "    .dataframe tbody tr th:only-of-type {\n",
       "        vertical-align: middle;\n",
       "    }\n",
       "\n",
       "    .dataframe tbody tr th {\n",
       "        vertical-align: top;\n",
       "    }\n",
       "\n",
       "    .dataframe thead th {\n",
       "        text-align: right;\n",
       "    }\n",
       "</style>\n",
       "<table border=\"1\" class=\"dataframe\">\n",
       "  <thead>\n",
       "    <tr style=\"text-align: right;\">\n",
       "      <th></th>\n",
       "      <th>user_id</th>\n",
       "      <th>month</th>\n",
       "      <th>total_messages</th>\n",
       "    </tr>\n",
       "  </thead>\n",
       "  <tbody>\n",
       "    <tr>\n",
       "      <th>0</th>\n",
       "      <td>1000</td>\n",
       "      <td>12</td>\n",
       "      <td>11</td>\n",
       "    </tr>\n",
       "    <tr>\n",
       "      <th>1</th>\n",
       "      <td>1001</td>\n",
       "      <td>8</td>\n",
       "      <td>30</td>\n",
       "    </tr>\n",
       "    <tr>\n",
       "      <th>2</th>\n",
       "      <td>1001</td>\n",
       "      <td>9</td>\n",
       "      <td>44</td>\n",
       "    </tr>\n",
       "    <tr>\n",
       "      <th>3</th>\n",
       "      <td>1001</td>\n",
       "      <td>10</td>\n",
       "      <td>53</td>\n",
       "    </tr>\n",
       "    <tr>\n",
       "      <th>4</th>\n",
       "      <td>1001</td>\n",
       "      <td>11</td>\n",
       "      <td>36</td>\n",
       "    </tr>\n",
       "  </tbody>\n",
       "</table>\n",
       "</div>"
      ],
      "text/plain": [
       "   user_id  month  total_messages\n",
       "0     1000     12              11\n",
       "1     1001      8              30\n",
       "2     1001      9              44\n",
       "3     1001     10              53\n",
       "4     1001     11              36"
      ]
     },
     "execution_count": 23,
     "metadata": {},
     "output_type": "execute_result"
    }
   ],
   "source": [
    "# Calcula el número de mensajes enviados por cada usuario al mes. Guarda el resultado.\n",
    "\n",
    "monthly_messages = df_messages.groupby(['user_id','month'])['id'].count().reset_index()\n",
    "monthly_messages.columns = ['user_id','month','total_messages']\n",
    "monthly_messages.head()"
   ]
  },
  {
   "cell_type": "code",
   "execution_count": 77,
   "metadata": {
    "trusted": false
   },
   "outputs": [
    {
     "data": {
      "text/html": [
       "<div>\n",
       "<style scoped>\n",
       "    .dataframe tbody tr th:only-of-type {\n",
       "        vertical-align: middle;\n",
       "    }\n",
       "\n",
       "    .dataframe tbody tr th {\n",
       "        vertical-align: top;\n",
       "    }\n",
       "\n",
       "    .dataframe thead th {\n",
       "        text-align: right;\n",
       "    }\n",
       "</style>\n",
       "<table border=\"1\" class=\"dataframe\">\n",
       "  <thead>\n",
       "    <tr style=\"text-align: right;\">\n",
       "      <th></th>\n",
       "      <th>id</th>\n",
       "      <th>user_id</th>\n",
       "      <th>session_date</th>\n",
       "      <th>mb_used</th>\n",
       "      <th>month</th>\n",
       "      <th>gd_used</th>\n",
       "    </tr>\n",
       "  </thead>\n",
       "  <tbody>\n",
       "    <tr>\n",
       "      <th>0</th>\n",
       "      <td>1000_13</td>\n",
       "      <td>1000</td>\n",
       "      <td>2018-12-29</td>\n",
       "      <td>89.86</td>\n",
       "      <td>12</td>\n",
       "      <td>0.087754</td>\n",
       "    </tr>\n",
       "    <tr>\n",
       "      <th>1</th>\n",
       "      <td>1000_204</td>\n",
       "      <td>1000</td>\n",
       "      <td>2018-12-31</td>\n",
       "      <td>0.00</td>\n",
       "      <td>12</td>\n",
       "      <td>0.000000</td>\n",
       "    </tr>\n",
       "    <tr>\n",
       "      <th>2</th>\n",
       "      <td>1000_379</td>\n",
       "      <td>1000</td>\n",
       "      <td>2018-12-28</td>\n",
       "      <td>660.40</td>\n",
       "      <td>12</td>\n",
       "      <td>0.644922</td>\n",
       "    </tr>\n",
       "    <tr>\n",
       "      <th>3</th>\n",
       "      <td>1000_413</td>\n",
       "      <td>1000</td>\n",
       "      <td>2018-12-26</td>\n",
       "      <td>270.99</td>\n",
       "      <td>12</td>\n",
       "      <td>0.264639</td>\n",
       "    </tr>\n",
       "    <tr>\n",
       "      <th>4</th>\n",
       "      <td>1000_442</td>\n",
       "      <td>1000</td>\n",
       "      <td>2018-12-27</td>\n",
       "      <td>880.22</td>\n",
       "      <td>12</td>\n",
       "      <td>0.859590</td>\n",
       "    </tr>\n",
       "  </tbody>\n",
       "</table>\n",
       "</div>"
      ],
      "text/plain": [
       "         id  user_id session_date  mb_used  month   gd_used\n",
       "0   1000_13     1000   2018-12-29    89.86     12  0.087754\n",
       "1  1000_204     1000   2018-12-31     0.00     12  0.000000\n",
       "2  1000_379     1000   2018-12-28   660.40     12  0.644922\n",
       "3  1000_413     1000   2018-12-26   270.99     12  0.264639\n",
       "4  1000_442     1000   2018-12-27   880.22     12  0.859590"
      ]
     },
     "execution_count": 77,
     "metadata": {},
     "output_type": "execute_result"
    }
   ],
   "source": [
    "df_internet.head()"
   ]
  },
  {
   "cell_type": "code",
   "execution_count": 78,
   "metadata": {
    "id": "H1AqN2eG0q1H",
    "trusted": false
   },
   "outputs": [
    {
     "data": {
      "text/html": [
       "<div>\n",
       "<style scoped>\n",
       "    .dataframe tbody tr th:only-of-type {\n",
       "        vertical-align: middle;\n",
       "    }\n",
       "\n",
       "    .dataframe tbody tr th {\n",
       "        vertical-align: top;\n",
       "    }\n",
       "\n",
       "    .dataframe thead th {\n",
       "        text-align: right;\n",
       "    }\n",
       "</style>\n",
       "<table border=\"1\" class=\"dataframe\">\n",
       "  <thead>\n",
       "    <tr style=\"text-align: right;\">\n",
       "      <th></th>\n",
       "      <th>user_id</th>\n",
       "      <th>month</th>\n",
       "      <th>gd_used</th>\n",
       "    </tr>\n",
       "  </thead>\n",
       "  <tbody>\n",
       "    <tr>\n",
       "      <th>0</th>\n",
       "      <td>1000</td>\n",
       "      <td>12</td>\n",
       "      <td>2.0</td>\n",
       "    </tr>\n",
       "    <tr>\n",
       "      <th>1</th>\n",
       "      <td>1001</td>\n",
       "      <td>8</td>\n",
       "      <td>7.0</td>\n",
       "    </tr>\n",
       "    <tr>\n",
       "      <th>2</th>\n",
       "      <td>1001</td>\n",
       "      <td>9</td>\n",
       "      <td>14.0</td>\n",
       "    </tr>\n",
       "    <tr>\n",
       "      <th>3</th>\n",
       "      <td>1001</td>\n",
       "      <td>10</td>\n",
       "      <td>22.0</td>\n",
       "    </tr>\n",
       "    <tr>\n",
       "      <th>4</th>\n",
       "      <td>1001</td>\n",
       "      <td>11</td>\n",
       "      <td>19.0</td>\n",
       "    </tr>\n",
       "  </tbody>\n",
       "</table>\n",
       "</div>"
      ],
      "text/plain": [
       "   user_id  month  gd_used\n",
       "0     1000     12      2.0\n",
       "1     1001      8      7.0\n",
       "2     1001      9     14.0\n",
       "3     1001     10     22.0\n",
       "4     1001     11     19.0"
      ]
     },
     "execution_count": 78,
     "metadata": {},
     "output_type": "execute_result"
    }
   ],
   "source": [
    "# Calcula el volumen del tráfico de Internet usado por cada usuario al mes. Guarda el resultado.\n",
    "monthly_internet = df_internet.groupby(['user_id','month'])['gd_used'].sum().reset_index()\n",
    "monthly_internet['gd_used'] = np.ceil(monthly_internet['gd_used'])\n",
    "monthly_internet.head()"
   ]
  },
  {
   "cell_type": "markdown",
   "metadata": {
    "id": "VDfYXnj80q1H"
   },
   "source": [
    "[Junta los datos agregados en un DataFrame para que haya un registro que represente lo que consumió un usuario único en un mes determinado.]"
   ]
  },
  {
   "cell_type": "code",
   "execution_count": 79,
   "metadata": {
    "id": "FW99ykyf0q1H",
    "trusted": false
   },
   "outputs": [
    {
     "data": {
      "text/html": [
       "<div>\n",
       "<style scoped>\n",
       "    .dataframe tbody tr th:only-of-type {\n",
       "        vertical-align: middle;\n",
       "    }\n",
       "\n",
       "    .dataframe tbody tr th {\n",
       "        vertical-align: top;\n",
       "    }\n",
       "\n",
       "    .dataframe thead th {\n",
       "        text-align: right;\n",
       "    }\n",
       "</style>\n",
       "<table border=\"1\" class=\"dataframe\">\n",
       "  <thead>\n",
       "    <tr style=\"text-align: right;\">\n",
       "      <th></th>\n",
       "      <th>user_id</th>\n",
       "      <th>month</th>\n",
       "      <th>total_messages</th>\n",
       "      <th>gd_used</th>\n",
       "      <th>totaL_calls</th>\n",
       "      <th>total_minutes</th>\n",
       "    </tr>\n",
       "  </thead>\n",
       "  <tbody>\n",
       "    <tr>\n",
       "      <th>0</th>\n",
       "      <td>1000</td>\n",
       "      <td>12</td>\n",
       "      <td>11.0</td>\n",
       "      <td>2.0</td>\n",
       "      <td>16.0</td>\n",
       "      <td>124.0</td>\n",
       "    </tr>\n",
       "    <tr>\n",
       "      <th>1</th>\n",
       "      <td>1001</td>\n",
       "      <td>8</td>\n",
       "      <td>30.0</td>\n",
       "      <td>7.0</td>\n",
       "      <td>27.0</td>\n",
       "      <td>182.0</td>\n",
       "    </tr>\n",
       "    <tr>\n",
       "      <th>2</th>\n",
       "      <td>1001</td>\n",
       "      <td>9</td>\n",
       "      <td>44.0</td>\n",
       "      <td>14.0</td>\n",
       "      <td>49.0</td>\n",
       "      <td>315.0</td>\n",
       "    </tr>\n",
       "    <tr>\n",
       "      <th>3</th>\n",
       "      <td>1001</td>\n",
       "      <td>10</td>\n",
       "      <td>53.0</td>\n",
       "      <td>22.0</td>\n",
       "      <td>65.0</td>\n",
       "      <td>393.0</td>\n",
       "    </tr>\n",
       "    <tr>\n",
       "      <th>4</th>\n",
       "      <td>1001</td>\n",
       "      <td>11</td>\n",
       "      <td>36.0</td>\n",
       "      <td>19.0</td>\n",
       "      <td>64.0</td>\n",
       "      <td>426.0</td>\n",
       "    </tr>\n",
       "  </tbody>\n",
       "</table>\n",
       "</div>"
      ],
      "text/plain": [
       "   user_id  month  total_messages  gd_used  totaL_calls  total_minutes\n",
       "0     1000     12            11.0      2.0         16.0          124.0\n",
       "1     1001      8            30.0      7.0         27.0          182.0\n",
       "2     1001      9            44.0     14.0         49.0          315.0\n",
       "3     1001     10            53.0     22.0         65.0          393.0\n",
       "4     1001     11            36.0     19.0         64.0          426.0"
      ]
     },
     "execution_count": 79,
     "metadata": {},
     "output_type": "execute_result"
    }
   ],
   "source": [
    "# Fusiona los datos de llamadas, minutos, mensajes e Internet con base en user_id y month\n",
    "total_info = monthly_messages.merge(monthly_internet, on = ['user_id','month'], how =  'outer')\n",
    "total_info = total_info.merge(monthly_calls, on = ['user_id','month'], how =  'outer')\n",
    "total_info.head()"
   ]
  },
  {
   "cell_type": "code",
   "execution_count": 80,
   "metadata": {
    "trusted": false
   },
   "outputs": [
    {
     "data": {
      "text/html": [
       "<div>\n",
       "<style scoped>\n",
       "    .dataframe tbody tr th:only-of-type {\n",
       "        vertical-align: middle;\n",
       "    }\n",
       "\n",
       "    .dataframe tbody tr th {\n",
       "        vertical-align: top;\n",
       "    }\n",
       "\n",
       "    .dataframe thead th {\n",
       "        text-align: right;\n",
       "    }\n",
       "</style>\n",
       "<table border=\"1\" class=\"dataframe\">\n",
       "  <thead>\n",
       "    <tr style=\"text-align: right;\">\n",
       "      <th></th>\n",
       "      <th>messages_included</th>\n",
       "      <th>mb_per_month_included</th>\n",
       "      <th>minutes_included</th>\n",
       "      <th>usd_monthly_pay</th>\n",
       "      <th>usd_per_gb</th>\n",
       "      <th>usd_per_message</th>\n",
       "      <th>usd_per_minute</th>\n",
       "      <th>plan</th>\n",
       "      <th>gb_per_month_included</th>\n",
       "    </tr>\n",
       "  </thead>\n",
       "  <tbody>\n",
       "    <tr>\n",
       "      <th>0</th>\n",
       "      <td>50</td>\n",
       "      <td>15360</td>\n",
       "      <td>500</td>\n",
       "      <td>20</td>\n",
       "      <td>10</td>\n",
       "      <td>0.03</td>\n",
       "      <td>0.03</td>\n",
       "      <td>surf</td>\n",
       "      <td>15.0</td>\n",
       "    </tr>\n",
       "    <tr>\n",
       "      <th>1</th>\n",
       "      <td>1000</td>\n",
       "      <td>30720</td>\n",
       "      <td>3000</td>\n",
       "      <td>70</td>\n",
       "      <td>7</td>\n",
       "      <td>0.01</td>\n",
       "      <td>0.01</td>\n",
       "      <td>ultimate</td>\n",
       "      <td>30.0</td>\n",
       "    </tr>\n",
       "  </tbody>\n",
       "</table>\n",
       "</div>"
      ],
      "text/plain": [
       "   messages_included  mb_per_month_included  minutes_included  \\\n",
       "0                 50                  15360               500   \n",
       "1               1000                  30720              3000   \n",
       "\n",
       "   usd_monthly_pay  usd_per_gb  usd_per_message  usd_per_minute      plan  \\\n",
       "0               20          10             0.03            0.03      surf   \n",
       "1               70           7             0.01            0.01  ultimate   \n",
       "\n",
       "   gb_per_month_included  \n",
       "0                   15.0  \n",
       "1                   30.0  "
      ]
     },
     "execution_count": 80,
     "metadata": {},
     "output_type": "execute_result"
    }
   ],
   "source": [
    "df_plans.head()"
   ]
  },
  {
   "cell_type": "code",
   "execution_count": 81,
   "metadata": {
    "id": "0dNOXHag0q1H",
    "trusted": false
   },
   "outputs": [],
   "source": [
    "# Añade la información de la tarifa\n",
    "\n",
    "user_info = df_users.merge(df_plans,  on = 'plan')\n",
    "total_info = total_info.merge(user_info, on = 'user_id')                     "
   ]
  },
  {
   "cell_type": "code",
   "execution_count": 90,
   "metadata": {
    "trusted": false
   },
   "outputs": [
    {
     "data": {
      "text/html": [
       "<div>\n",
       "<style scoped>\n",
       "    .dataframe tbody tr th:only-of-type {\n",
       "        vertical-align: middle;\n",
       "    }\n",
       "\n",
       "    .dataframe tbody tr th {\n",
       "        vertical-align: top;\n",
       "    }\n",
       "\n",
       "    .dataframe thead th {\n",
       "        text-align: right;\n",
       "    }\n",
       "</style>\n",
       "<table border=\"1\" class=\"dataframe\">\n",
       "  <thead>\n",
       "    <tr style=\"text-align: right;\">\n",
       "      <th></th>\n",
       "      <th>user_id</th>\n",
       "      <th>month</th>\n",
       "      <th>total_messages</th>\n",
       "      <th>gd_used</th>\n",
       "      <th>totaL_calls</th>\n",
       "      <th>total_minutes</th>\n",
       "      <th>first_name</th>\n",
       "      <th>last_name</th>\n",
       "      <th>age</th>\n",
       "      <th>city</th>\n",
       "      <th>...</th>\n",
       "      <th>plan</th>\n",
       "      <th>churn_date</th>\n",
       "      <th>messages_included</th>\n",
       "      <th>mb_per_month_included</th>\n",
       "      <th>minutes_included</th>\n",
       "      <th>usd_monthly_pay</th>\n",
       "      <th>usd_per_gb</th>\n",
       "      <th>usd_per_message</th>\n",
       "      <th>usd_per_minute</th>\n",
       "      <th>gb_per_month_included</th>\n",
       "    </tr>\n",
       "  </thead>\n",
       "  <tbody>\n",
       "    <tr>\n",
       "      <th>0</th>\n",
       "      <td>1000</td>\n",
       "      <td>12</td>\n",
       "      <td>11.0</td>\n",
       "      <td>2.0</td>\n",
       "      <td>16.0</td>\n",
       "      <td>124.0</td>\n",
       "      <td>Anamaria</td>\n",
       "      <td>Bauer</td>\n",
       "      <td>45</td>\n",
       "      <td>Atlanta-Sandy Springs-Roswell, GA MSA</td>\n",
       "      <td>...</td>\n",
       "      <td>ultimate</td>\n",
       "      <td>NaN</td>\n",
       "      <td>1000</td>\n",
       "      <td>30720</td>\n",
       "      <td>3000</td>\n",
       "      <td>70</td>\n",
       "      <td>7</td>\n",
       "      <td>0.01</td>\n",
       "      <td>0.01</td>\n",
       "      <td>30.0</td>\n",
       "    </tr>\n",
       "    <tr>\n",
       "      <th>1</th>\n",
       "      <td>1001</td>\n",
       "      <td>8</td>\n",
       "      <td>30.0</td>\n",
       "      <td>7.0</td>\n",
       "      <td>27.0</td>\n",
       "      <td>182.0</td>\n",
       "      <td>Mickey</td>\n",
       "      <td>Wilkerson</td>\n",
       "      <td>28</td>\n",
       "      <td>Seattle-Tacoma-Bellevue, WA MSA</td>\n",
       "      <td>...</td>\n",
       "      <td>surf</td>\n",
       "      <td>NaN</td>\n",
       "      <td>50</td>\n",
       "      <td>15360</td>\n",
       "      <td>500</td>\n",
       "      <td>20</td>\n",
       "      <td>10</td>\n",
       "      <td>0.03</td>\n",
       "      <td>0.03</td>\n",
       "      <td>15.0</td>\n",
       "    </tr>\n",
       "    <tr>\n",
       "      <th>2</th>\n",
       "      <td>1001</td>\n",
       "      <td>9</td>\n",
       "      <td>44.0</td>\n",
       "      <td>14.0</td>\n",
       "      <td>49.0</td>\n",
       "      <td>315.0</td>\n",
       "      <td>Mickey</td>\n",
       "      <td>Wilkerson</td>\n",
       "      <td>28</td>\n",
       "      <td>Seattle-Tacoma-Bellevue, WA MSA</td>\n",
       "      <td>...</td>\n",
       "      <td>surf</td>\n",
       "      <td>NaN</td>\n",
       "      <td>50</td>\n",
       "      <td>15360</td>\n",
       "      <td>500</td>\n",
       "      <td>20</td>\n",
       "      <td>10</td>\n",
       "      <td>0.03</td>\n",
       "      <td>0.03</td>\n",
       "      <td>15.0</td>\n",
       "    </tr>\n",
       "    <tr>\n",
       "      <th>3</th>\n",
       "      <td>1001</td>\n",
       "      <td>10</td>\n",
       "      <td>53.0</td>\n",
       "      <td>22.0</td>\n",
       "      <td>65.0</td>\n",
       "      <td>393.0</td>\n",
       "      <td>Mickey</td>\n",
       "      <td>Wilkerson</td>\n",
       "      <td>28</td>\n",
       "      <td>Seattle-Tacoma-Bellevue, WA MSA</td>\n",
       "      <td>...</td>\n",
       "      <td>surf</td>\n",
       "      <td>NaN</td>\n",
       "      <td>50</td>\n",
       "      <td>15360</td>\n",
       "      <td>500</td>\n",
       "      <td>20</td>\n",
       "      <td>10</td>\n",
       "      <td>0.03</td>\n",
       "      <td>0.03</td>\n",
       "      <td>15.0</td>\n",
       "    </tr>\n",
       "    <tr>\n",
       "      <th>4</th>\n",
       "      <td>1001</td>\n",
       "      <td>11</td>\n",
       "      <td>36.0</td>\n",
       "      <td>19.0</td>\n",
       "      <td>64.0</td>\n",
       "      <td>426.0</td>\n",
       "      <td>Mickey</td>\n",
       "      <td>Wilkerson</td>\n",
       "      <td>28</td>\n",
       "      <td>Seattle-Tacoma-Bellevue, WA MSA</td>\n",
       "      <td>...</td>\n",
       "      <td>surf</td>\n",
       "      <td>NaN</td>\n",
       "      <td>50</td>\n",
       "      <td>15360</td>\n",
       "      <td>500</td>\n",
       "      <td>20</td>\n",
       "      <td>10</td>\n",
       "      <td>0.03</td>\n",
       "      <td>0.03</td>\n",
       "      <td>15.0</td>\n",
       "    </tr>\n",
       "  </tbody>\n",
       "</table>\n",
       "<p>5 rows × 21 columns</p>\n",
       "</div>"
      ],
      "text/plain": [
       "   user_id  month  total_messages  gd_used  totaL_calls  total_minutes  \\\n",
       "0     1000     12            11.0      2.0         16.0          124.0   \n",
       "1     1001      8            30.0      7.0         27.0          182.0   \n",
       "2     1001      9            44.0     14.0         49.0          315.0   \n",
       "3     1001     10            53.0     22.0         65.0          393.0   \n",
       "4     1001     11            36.0     19.0         64.0          426.0   \n",
       "\n",
       "  first_name  last_name  age                                   city  ...  \\\n",
       "0   Anamaria      Bauer   45  Atlanta-Sandy Springs-Roswell, GA MSA  ...   \n",
       "1     Mickey  Wilkerson   28        Seattle-Tacoma-Bellevue, WA MSA  ...   \n",
       "2     Mickey  Wilkerson   28        Seattle-Tacoma-Bellevue, WA MSA  ...   \n",
       "3     Mickey  Wilkerson   28        Seattle-Tacoma-Bellevue, WA MSA  ...   \n",
       "4     Mickey  Wilkerson   28        Seattle-Tacoma-Bellevue, WA MSA  ...   \n",
       "\n",
       "       plan churn_date messages_included  mb_per_month_included  \\\n",
       "0  ultimate        NaN              1000                  30720   \n",
       "1      surf        NaN                50                  15360   \n",
       "2      surf        NaN                50                  15360   \n",
       "3      surf        NaN                50                  15360   \n",
       "4      surf        NaN                50                  15360   \n",
       "\n",
       "   minutes_included  usd_monthly_pay  usd_per_gb  usd_per_message  \\\n",
       "0              3000               70           7             0.01   \n",
       "1               500               20          10             0.03   \n",
       "2               500               20          10             0.03   \n",
       "3               500               20          10             0.03   \n",
       "4               500               20          10             0.03   \n",
       "\n",
       "   usd_per_minute  gb_per_month_included  \n",
       "0            0.01                   30.0  \n",
       "1            0.03                   15.0  \n",
       "2            0.03                   15.0  \n",
       "3            0.03                   15.0  \n",
       "4            0.03                   15.0  \n",
       "\n",
       "[5 rows x 21 columns]"
      ]
     },
     "execution_count": 90,
     "metadata": {},
     "output_type": "execute_result"
    }
   ],
   "source": [
    "total_info.head()"
   ]
  },
  {
   "cell_type": "code",
   "execution_count": 82,
   "metadata": {
    "trusted": false
   },
   "outputs": [
    {
     "name": "stdout",
     "output_type": "stream",
     "text": [
      "<class 'pandas.core.frame.DataFrame'>\n",
      "Int64Index: 2293 entries, 0 to 2292\n",
      "Data columns (total 21 columns):\n",
      " #   Column                 Non-Null Count  Dtype         \n",
      "---  ------                 --------------  -----         \n",
      " 0   user_id                2293 non-null   int64         \n",
      " 1   month                  2293 non-null   int64         \n",
      " 2   total_messages         1806 non-null   float64       \n",
      " 3   gd_used                2277 non-null   float64       \n",
      " 4   totaL_calls            2258 non-null   float64       \n",
      " 5   total_minutes          2258 non-null   float64       \n",
      " 6   first_name             2293 non-null   object        \n",
      " 7   last_name              2293 non-null   object        \n",
      " 8   age                    2293 non-null   int64         \n",
      " 9   city                   2293 non-null   object        \n",
      " 10  reg_date               2293 non-null   datetime64[ns]\n",
      " 11  plan                   2293 non-null   object        \n",
      " 12  churn_date             158 non-null    object        \n",
      " 13  messages_included      2293 non-null   int64         \n",
      " 14  mb_per_month_included  2293 non-null   int64         \n",
      " 15  minutes_included       2293 non-null   int64         \n",
      " 16  usd_monthly_pay        2293 non-null   int64         \n",
      " 17  usd_per_gb             2293 non-null   int64         \n",
      " 18  usd_per_message        2293 non-null   float64       \n",
      " 19  usd_per_minute         2293 non-null   float64       \n",
      " 20  gb_per_month_included  2293 non-null   float64       \n",
      "dtypes: datetime64[ns](1), float64(7), int64(8), object(5)\n",
      "memory usage: 394.1+ KB\n"
     ]
    }
   ],
   "source": [
    "total_info.info()"
   ]
  },
  {
   "cell_type": "markdown",
   "metadata": {
    "id": "1IwGo4wg0q1I"
   },
   "source": [
    "[Calcula los ingresos mensuales por usuario (resta el límite del paquete gratuito del número total de llamadas, mensajes de texto y datos; multiplica el resultado por el valor del plan de llamadas; añade la tarifa mensual en función del plan de llamadas). Nota: Dadas las condiciones del plan, ¡esto podría no ser tan trivial como un par de líneas! Así que no pasa nada si dedicas algo de tiempo a ello.]"
   ]
  },
  {
   "cell_type": "code",
   "execution_count": 93,
   "metadata": {
    "id": "5FGCf_c60q1I",
    "trusted": false
   },
   "outputs": [],
   "source": [
    "# Calcula el ingreso mensual para cada usuario\n",
    "\n",
    "total_info['price_gb'] = total_info['usd_per_gb']*(total_info['gd_used'] - total_info['gb_per_month_included'])\n",
    "total_info['price_gb'] = total_info['price_gb'].apply(lambda x: max(x,0))\n",
    "\n",
    "total_info['price_calls'] = total_info['usd_per_minute']*(total_info['total_minutes'] - total_info['minutes_included'])\n",
    "total_info['price_calls'] = total_info['price_calls'].apply(lambda x: max(x,0))\n",
    "\n",
    "total_info['price_messages'] = total_info['usd_per_message']*(total_info['total_messages'] - total_info['messages_included'])\n",
    "total_info['price_messages'] = total_info['price_messages'].apply(lambda x: max(x,0))"
   ]
  },
  {
   "cell_type": "code",
   "execution_count": 94,
   "metadata": {
    "trusted": false
   },
   "outputs": [],
   "source": [
    "total_info['total_price'] = total_info['price_gb'] + total_info['price_calls'] + total_info['price_messages'] + total_info['usd_monthly_pay']"
   ]
  },
  {
   "cell_type": "markdown",
   "metadata": {
    "id": "-jtyHzJb0q1I"
   },
   "source": [
    "## Estudia el comportamiento de usuario"
   ]
  },
  {
   "cell_type": "markdown",
   "metadata": {
    "id": "AxU3Y0N70q1J"
   },
   "source": [
    "[Calcula algunas estadísticas descriptivas para los datos agregados y fusionados que nos sean útiles y que muestren un panorama general captado por los datos. Dibuja gráficos útiles para facilitar la comprensión. Dado que la tarea principal es comparar las tarifas y decidir cuál es más rentable, las estadísticas y gráficas deben calcularse por tarifa.]\n",
    "\n",
    "[En los comentarios hallarás pistas relevantes para las llamadas, pero no las hay para los mensajes e Internet. Sin embargo, el principio del estudio estadístico que se aplica para ellos es el mismo que para las llamadas.]"
   ]
  },
  {
   "cell_type": "markdown",
   "metadata": {
    "id": "vtW4CJEe0q1J"
   },
   "source": [
    "### Llamadas"
   ]
  },
  {
   "cell_type": "code",
   "execution_count": 97,
   "metadata": {
    "id": "Jf5v5--k0q1J",
    "trusted": false
   },
   "outputs": [
    {
     "data": {
      "image/png": "[encoded data removed]",
      "text/plain": [
       "<Figure size 1200x600 with 1 Axes>"
      ]
     },
     "metadata": {},
     "output_type": "display_data"
    }
   ],
   "source": [
    "# Compara la duración promedio de llamadas por cada plan y por cada mes. Traza un gráfico de barras para visualizarla.\n",
    "\n",
    "average_call_duration = total_info.groupby(['plan', 'month'])['total_minutes'].mean().reset_index()\n",
    "\n",
    "plt.figure(figsize=(12, 6))\n",
    "for plan in average_call_duration['plan'].unique():\n",
    "    plan_data = average_call_duration[average_call_duration['plan'] == plan]\n",
    "    plt.bar(plan_data['month'], plan_data['total_minutes'], label=plan)\n",
    "\n",
    "plt.xlabel('Mes')\n",
    "plt.ylabel('Duración promedio de llamadas (minutos)')\n",
    "plt.title('Duración promedio de llamadas por plan y mes')\n",
    "plt.xticks(average_call_duration['month'].unique())\n",
    "plt.legend()\n",
    "plt.grid(True)\n",
    "plt.show()"
   ]
  },
  {
   "cell_type": "code",
   "execution_count": 98,
   "metadata": {
    "id": "QoLqW1S_0q1J",
    "trusted": false
   },
   "outputs": [
    {
     "data": {
      "image/png": "[encoded data removed]",
      "text/plain": [
       "<Figure size 1000x600 with 1 Axes>"
      ]
     },
     "metadata": {},
     "output_type": "display_data"
    }
   ],
   "source": [
    "# Compara el número de minutos mensuales que necesitan los usuarios de cada plan. Traza un histograma.\n",
    "minutes_per_plan = total_info.groupby('plan')['total_minutes'].sum()\n",
    "\n",
    "plt.figure(figsize=(10, 6))\n",
    "plt.hist(minutes_per_plan, bins=10, edgecolor='black')\n",
    "plt.xlabel('Minutos totales')\n",
    "plt.ylabel('Número de planes')\n",
    "plt.title('Histograma de minutos totales por plan')\n",
    "plt.grid(True)\n",
    "plt.show()\n"
   ]
  },
  {
   "cell_type": "markdown",
   "metadata": {
    "id": "bLS9T8OH0q1K"
   },
   "source": [
    "[Calcula la media y la variable de la duración de las llamadas para averiguar si los usuarios de los distintos planes se comportan de forma diferente al realizar sus llamadas.]"
   ]
  },
  {
   "cell_type": "code",
   "execution_count": 99,
   "metadata": {
    "id": "oSndbAnt0q1K",
    "trusted": false
   },
   "outputs": [
    {
     "name": "stdout",
     "output_type": "stream",
     "text": [
      "Media de la duración mensual de llamadas: 435.9375553587245\n",
      "Varianza de la duración mensual de llamadas: 53811.16800855365\n"
     ]
    }
   ],
   "source": [
    "# Calcula la media y la varianza de la duración mensual de llamadas.\n",
    "\n",
    "mean_duration = total_info['total_minutes'].mean()\n",
    "variance_duration = total_info['total_minutes'].var()\n",
    "\n",
    "print(f\"Media de la duración mensual de llamadas: {mean_duration}\")\n",
    "print(f\"Varianza de la duración mensual de llamadas: {variance_duration}\")"
   ]
  },
  {
   "cell_type": "code",
   "execution_count": 154,
   "metadata": {
    "id": "nZzoRUKc0q1K",
    "trusted": false
   },
   "outputs": [
    {
     "data": {
      "image/png": "[encoded data removed]",
      "text/plain": [
       "<Figure size 640x480 with 1 Axes>"
      ]
     },
     "metadata": {},
     "output_type": "display_data"
    }
   ],
   "source": [
    "# Traza un diagrama de caja para visualizar la distribución de la duración mensual de llamadas\n",
    "import seaborn as sns\n",
    "import pandas as pd \n",
    "dataset = total_info['total_minutes']\n",
    "sns.boxplot(dataset)\n",
    "plt.xlabel('Duración mensual de llamadas (minutos)')\n",
    "plt.title('Distribución de la duración mensual de llamadas')\n",
    "plt.grid(True)\n",
    "plt.show()"
   ]
  },
  {
   "cell_type": "markdown",
   "metadata": {
    "id": "r627zBO50q1K"
   },
   "source": [
    "[Elabora las conclusiones sobre el comportamiento de los usuarios con respecto a las llamadas. ¿Su comportamiento varía en función del plan?]\n",
    "\n",
    "1. Duración promedio de llamadas por plan y mes:\n",
    "El gráfico de barras muestra la duración promedio de las llamadas para cada plan a lo largo de los meses. \n",
    "Se puede observar si existe una tendencia en la duración de las llamadas para cada plan a lo largo del tiempo.\n",
    "si un plan tiene una duración promedio consistentemente mayor que otro, podría indicar diferencias en el uso o en las necesidades de los usuarios de cada plan."
   ]
  },
  {
   "cell_type": "markdown",
   "metadata": {
    "id": "8idKy8Wh0q1L"
   },
   "source": [
    "### Mensajes"
   ]
  },
  {
   "cell_type": "code",
   "execution_count": 109,
   "metadata": {
    "id": "NXLxiTit0q1L",
    "trusted": false
   },
   "outputs": [
    {
     "data": {
      "image/png": "[encoded data removed]",
      "text/plain": [
       "<Figure size 1200x600 with 1 Axes>"
      ]
     },
     "metadata": {},
     "output_type": "display_data"
    }
   ],
   "source": [
    "# Comprara el número de mensajes que tienden a enviar cada mes los usuarios de cada plan\n",
    "\n",
    "average_messages = total_info.groupby(['plan', 'month'])['total_messages'].mean().reset_index()\n",
    "\n",
    "plt.figure(figsize=(12, 6))\n",
    "for plan in average_messages['plan'].unique():\n",
    "    plan_data = average_messages[average_messages['plan'] == plan]\n",
    "    plt.bar(plan_data['month'], plan_data['total_messages'], label=plan)\n",
    "\n",
    "plt.xlabel('Mes')\n",
    "plt.ylabel('Número promedio de mensajes')\n",
    "plt.title('Número promedio de mensajes por plan y mes')\n",
    "plt.xticks(average_messages['month'].unique())\n",
    "plt.legend()\n",
    "plt.grid(True)\n",
    "plt.show()"
   ]
  },
  {
   "cell_type": "code",
   "execution_count": 147,
   "metadata": {
    "id": "GRI_R7xF0q1L",
    "trusted": false
   },
   "outputs": [
    {
     "data": {
      "image/png": "[encoded data removed]",
      "text/plain": [
       "<Figure size 1200x600 with 1 Axes>"
      ]
     },
     "metadata": {},
     "output_type": "display_data"
    }
   ],
   "source": [
    "# Compara la cantidad de tráfico de Internet consumido por usuarios por plan\n",
    "\n",
    "average_internet = total_info.groupby(['plan', 'month'])['gd_used'].mean().reset_index()\n",
    "\n",
    "plt.figure(figsize=(12, 6))\n",
    "for plan in average_internet['plan'].unique():\n",
    "    plan_data = average_internet[average_internet['plan'] == plan]\n",
    "    plt.plot(plan_data['month'], plan_data['gd_used'], label=plan)\n",
    "\n",
    "plt.xlabel('Mes')\n",
    "plt.ylabel('GB promedio de internet consumido')\n",
    "plt.title('Consumo promedio de internet por plan y mes')\n",
    "plt.xticks(average_internet['month'].unique())\n",
    "plt.legend()\n",
    "plt.grid(True)\n",
    "plt.show()"
   ]
  },
  {
   "cell_type": "code",
   "execution_count": 156,
   "metadata": {
    "id": "dtFwCGAp0q1M",
    "trusted": false
   },
   "outputs": [
    {
     "data": {
      "image/png": "[encoded data removed]",
      "text/plain": [
       "<Figure size 1000x600 with 1 Axes>"
      ]
     },
     "metadata": {},
     "output_type": "display_data"
    }
   ],
   "source": [
    "# Compara la cantidad de tráfico de Internet consumido por usuarios por plan\n",
    "internet_per_plan = total_info.groupby('plan')['gd_used'].sum().reset_index()\n",
    "\n",
    "plt.figure(figsize=(10, 6))\n",
    "plt.bar(internet_per_plan['plan'], internet_per_plan['gd_used'])\n",
    "plt.xlabel('Plan')\n",
    "plt.ylabel('gb de datos usados')\n",
    "plt.title('gb de datos consumidos por plan')\n",
    "plt.xticks(rotation=45, ha='right') \n",
    "plt.grid(axis='y')\n",
    "plt.tight_layout() \n",
    "plt.show()\n"
   ]
  },
  {
   "cell_type": "markdown",
   "metadata": {
    "id": "390SSL480q1M"
   },
   "source": [
    "[Elabora las conclusiones sobre el comportamiento de los usuarios con respecto a los mensajes. ¿Su comportamiento varía en función del plan?]\n",
    "se puede identificar si un plan presenta un mayor número promedio de mensajes en ciertos meses, lo que podría estar relacionado con promociones u otras variables externas. Hay valores atípicos, lo cuál representa usuarios con un consumo inusualmente alto o bajo. El gráfico de barras muestra el consumo total de datos (en gb) para cada plan. Es posible que exista una relación entre el uso de estos servicios y el plan contratado."
   ]
  },
  {
   "cell_type": "markdown",
   "metadata": {
    "id": "42YSypXz0q1M"
   },
   "source": [
    "### Internet"
   ]
  },
  {
   "cell_type": "code",
   "execution_count": 144,
   "metadata": {
    "id": "lSuKPtjh0q1M",
    "trusted": false
   },
   "outputs": [
    {
     "data": {
      "image/png": "[encoded data removed]",
      "text/plain": [
       "<Figure size 1200x600 with 1 Axes>"
      ]
     },
     "metadata": {},
     "output_type": "display_data"
    }
   ],
   "source": [
    "average_data_per_month = total_info.groupby(['plan', 'month'])['gd_used'].mean().reset_index()\n",
    "\n",
    "plt.figure(figsize=(12, 6))\n",
    "for plan in average_data_per_month['plan'].unique():\n",
    "  plan_data = average_data_per_month[average_data_per_month['plan'] == plan]\n",
    "  plt.plot(plan_data['month'], plan_data['gd_used'], label=plan)\n",
    "\n",
    "plt.xlabel('Mes')\n",
    "plt.ylabel('Consumo promedio de datos (GB)')\n",
    "plt.title('Consumo promedio de datos por plan y mes')\n",
    "plt.xticks(average_data_per_month['month'].unique())\n",
    "plt.legend()\n",
    "plt.grid(True)\n",
    "plt.show()"
   ]
  },
  {
   "cell_type": "markdown",
   "metadata": {
    "id": "UN9zwuMP0q1N"
   },
   "source": [
    "[Elabora las conclusiones sobre cómo los usuarios tienden a consumir el tráfico de Internet. ¿Su comportamiento varía en función del plan?]"
   ]
  },
  {
   "cell_type": "markdown",
   "metadata": {
    "id": "tCijq3260q1N"
   },
   "source": [
    "## Ingreso"
   ]
  },
  {
   "cell_type": "markdown",
   "metadata": {
    "id": "9nq5IAcy0q1O"
   },
   "source": [
    "[Del mismo modo que has estudiado el comportamiento de los usuarios, describe estadísticamente los ingresos de los planes.]"
   ]
  },
  {
   "cell_type": "code",
   "execution_count": 140,
   "metadata": {
    "id": "tz-dq_V00q1O",
    "trusted": false
   },
   "outputs": [
    {
     "name": "stdout",
     "output_type": "stream",
     "text": [
      "               mean  median        std   min     max\n",
      "plan                                                \n",
      "surf      60.415839  41.035  53.595739  20.0  590.37\n",
      "ultimate  72.248705  70.000  11.034406  70.0  182.00\n"
     ]
    }
   ],
   "source": [
    "plan_revenue_stats = total_info.groupby('plan')['total_price'].agg(['mean', 'median', 'std', 'min', 'max'])\n",
    "\n",
    "print(plan_revenue_stats)\n"
   ]
  },
  {
   "cell_type": "code",
   "execution_count": 142,
   "metadata": {
    "id": "bYmwxyVh0q1P",
    "trusted": false
   },
   "outputs": [
    {
     "data": {
      "image/png": "[encoded data removed]",
      "text/plain": [
       "<Figure size 1000x600 with 1 Axes>"
      ]
     },
     "metadata": {},
     "output_type": "display_data"
    }
   ],
   "source": [
    "plt.figure(figsize=(10, 6))\n",
    "plt.hist(total_info['total_price'], bins=20, edgecolor='black')\n",
    "plt.xlabel('Ingreso total')\n",
    "plt.ylabel('Frecuencia')\n",
    "plt.title('Histograma de ingresos totales')\n",
    "plt.grid(True)\n",
    "plt.show()"
   ]
  },
  {
   "cell_type": "markdown",
   "metadata": {
    "id": "KAFidcXZ0q1P"
   },
   "source": [
    "[Elabora las conclusiones sobre cómo difiere el ingreso entre los planes.]"
   ]
  },
  {
   "cell_type": "markdown",
   "metadata": {
    "id": "ajJ7VKeI0q1Q"
   },
   "source": [
    "## Prueba las hipótesis estadísticas"
   ]
  },
  {
   "cell_type": "markdown",
   "metadata": {
    "id": "AdXAZ-yL0q1Q"
   },
   "source": [
    "[Prueba la hipótesis de que son diferentes los ingresos promedio procedentes de los usuarios de los planes de llamada Ultimate y Surf.]"
   ]
  },
  {
   "cell_type": "markdown",
   "metadata": {
    "id": "IQwa_hsh0q1Q"
   },
   "source": [
    "[Elabora las hipótesis nula y alternativa, escoge la prueba estadística, determina el valor alfa.]\n",
    "\n",
    "HO: Los ingresos promedio de los ususarios de los planes ultima y surf son iguales\n",
    "HA: Los ingresos promedio de los ususarios de los planes ultima y surf son diferentes.\n",
    "\n",
    "Utilizaremos un nivel alfa de 0.05"
   ]
  },
  {
   "cell_type": "code",
   "execution_count": 123,
   "metadata": {
    "trusted": false
   },
   "outputs": [
    {
     "data": {
      "text/plain": [
       "array(['ultimate', 'surf'], dtype=object)"
      ]
     },
     "execution_count": 123,
     "metadata": {},
     "output_type": "execute_result"
    }
   ],
   "source": [
    "total_info.plan.unique()"
   ]
  },
  {
   "cell_type": "code",
   "execution_count": 124,
   "metadata": {
    "trusted": false
   },
   "outputs": [],
   "source": [
    "alpha = 0.05\n",
    "ingresos_surf = total_info[total_info['plan'] == 'surf']['total_price'].dropna()\n",
    "ingresos_ultimate = total_info[total_info['plan'] == 'ultimate']['total_price'].dropna()"
   ]
  },
  {
   "cell_type": "code",
   "execution_count": 128,
   "metadata": {
    "trusted": false
   },
   "outputs": [
    {
     "name": "stdout",
     "output_type": "stream",
     "text": [
      "Las varianzas son distintas\n",
      "p-valoe levene: 2.0941791851299124e-69\n"
     ]
    }
   ],
   "source": [
    "from scipy.stats import levene\n",
    "\n",
    "#HO: Las varianzas son iguales\n",
    "#HA: Las varianzas son distintas\n",
    "\n",
    "\n",
    "levene_stat, pvalue_levene = levene(ingresos_surf, ingresos_ultimate)\n",
    "\n",
    "if pvalue_levene <= alpha:\n",
    "    print('Las varianzas son distintas')\n",
    "    equal_var = False\n",
    "else:\n",
    "    print('Las varianzas son iguales')\n",
    "    equal_var = True\n",
    "print('p-valoe levene:', pvalue_levene)"
   ]
  },
  {
   "cell_type": "code",
   "execution_count": 127,
   "metadata": {
    "trusted": false
   },
   "outputs": [
    {
     "name": "stdout",
     "output_type": "stream",
     "text": [
      "Rechazamos la hipotesis nula, el ingreso promedio por plan es distinto\n",
      "p_valor: 5.756661975640558e-13\n"
     ]
    }
   ],
   "source": [
    "from scipy import stats\n",
    "t_value, pvalue = stats.ttest_ind(ingresos_surf, ingresos_ultimate, equal_var=equal_var) # Call ttest_ind from stats\n",
    "if pvalue <= alpha:\n",
    "    print('Rechazamos la hipotesis nula, el ingreso promedio por plan es distinto')\n",
    "else:\n",
    "    print('No rechazamos la hipotesis nula, el ingreso promedio por plan es distinto')\n",
    "print('p_valor:', pvalue)"
   ]
  },
  {
   "cell_type": "markdown",
   "metadata": {
    "id": "tCcAruM60q1R"
   },
   "source": [
    "[Prueba la hipótesis de que el ingreso promedio de los usuarios del área NY-NJ es diferente al de los usuarios de otras regiones.]"
   ]
  },
  {
   "cell_type": "markdown",
   "metadata": {
    "id": "LsBgitqj0q1R"
   },
   "source": [
    "[Elabora las hipótesis nula y alternativa, escoge la prueba estadística, determina el valor alfa.]"
   ]
  },
  {
   "cell_type": "code",
   "execution_count": 129,
   "metadata": {
    "id": "Cqcj7wrZ0q1S",
    "trusted": false
   },
   "outputs": [
    {
     "data": {
      "text/plain": [
       "array(['Atlanta-Sandy Springs-Roswell, GA MSA',\n",
       "       'Seattle-Tacoma-Bellevue, WA MSA',\n",
       "       'Las Vegas-Henderson-Paradise, NV MSA', 'Tulsa, OK MSA',\n",
       "       'Dallas-Fort Worth-Arlington, TX MSA',\n",
       "       'San Francisco-Oakland-Berkeley, CA MSA',\n",
       "       'Grand Rapids-Kentwood, MI MSA',\n",
       "       'Orlando-Kissimmee-Sanford, FL MSA', 'Cleveland-Elyria, OH MSA',\n",
       "       'Knoxville, TN MSA', 'New York-Newark-Jersey City, NY-NJ-PA MSA',\n",
       "       'Pittsburgh, PA MSA', 'Fresno, CA MSA',\n",
       "       'Washington-Arlington-Alexandria, DC-VA-MD-WV MSA',\n",
       "       'Indianapolis-Carmel-Anderson, IN MSA', 'Jacksonville, FL MSA',\n",
       "       'Omaha-Council Bluffs, NE-IA MSA',\n",
       "       'Houston-The Woodlands-Sugar Land, TX MSA',\n",
       "       'Philadelphia-Camden-Wilmington, PA-NJ-DE-MD MSA',\n",
       "       'Tampa-St. Petersburg-Clearwater, FL MSA',\n",
       "       'Chicago-Naperville-Elgin, IL-IN-WI MSA',\n",
       "       'Birmingham-Hoover, AL MSA', 'Oklahoma City, OK MSA',\n",
       "       'Charlotte-Concord-Gastonia, NC-SC MSA',\n",
       "       'Denver-Aurora-Lakewood, CO MSA',\n",
       "       'Nashville-Davidson–Murfreesboro–Franklin, TN MSA',\n",
       "       'Columbus, OH MSA', 'Albuquerque, NM MSA',\n",
       "       'Boston-Cambridge-Newton, MA-NH MSA',\n",
       "       'San Diego-Chula Vista-Carlsbad, CA MSA',\n",
       "       'Phoenix-Mesa-Chandler, AZ MSA',\n",
       "       'Portland-Vancouver-Hillsboro, OR-WA MSA',\n",
       "       'Cincinnati, OH-KY-IN MSA',\n",
       "       'Los Angeles-Long Beach-Anaheim, CA MSA', 'Columbia, SC MSA',\n",
       "       'San Antonio-New Braunfels, TX MSA', 'Buffalo-Cheektowaga, NY MSA',\n",
       "       'Memphis, TN-MS-AR MSA',\n",
       "       'Miami-Fort Lauderdale-West Palm Beach, FL MSA',\n",
       "       'Riverside-San Bernardino-Ontario, CA MSA',\n",
       "       'Louisville/Jefferson County, KY-IN MSA',\n",
       "       'Albany-Schenectady-Troy, NY MSA', 'Providence-Warwick, RI-MA MSA',\n",
       "       'Urban Honolulu, HI MSA', 'El Paso, TX MSA',\n",
       "       'New Haven-Milford, CT MSA',\n",
       "       'North Port-Sarasota-Bradenton, FL MSA',\n",
       "       'New Orleans-Metairie, LA MSA',\n",
       "       'San Jose-Sunnyvale-Santa Clara, CA MSA',\n",
       "       'Milwaukee-Waukesha, WI MSA',\n",
       "       'Oxnard-Thousand Oaks-Ventura, CA MSA',\n",
       "       'Sacramento–Roseville–Folsom, CA MSA',\n",
       "       'Austin-Round Rock-Georgetown, TX MSA', 'Richmond, VA MSA',\n",
       "       'Virginia Beach-Norfolk-Newport News, VA-NC MSA',\n",
       "       'St. Louis, MO-IL MSA', 'Bridgeport-Stamford-Norwalk, CT MSA',\n",
       "       'Bakersfield, CA MSA', 'Detroit-Warren-Dearborn, MI MSA',\n",
       "       'Minneapolis-St. Paul-Bloomington, MN-WI MSA',\n",
       "       'Baton Rouge, LA MSA', 'Kansas City, MO-KS MSA',\n",
       "       'Dayton-Kettering, OH MSA', 'Charleston-North Charleston, SC MSA',\n",
       "       'Rochester, NY MSA', 'Raleigh-Cary, NC MSA',\n",
       "       'Baltimore-Columbia-Towson, MD MSA',\n",
       "       'Greensboro-High Point, NC MSA', 'Tucson, AZ MSA',\n",
       "       'Stockton, CA MSA', 'Salt Lake City, UT MSA',\n",
       "       'Cape Coral-Fort Myers, FL MSA', 'Colorado Springs, CO MSA'],\n",
       "      dtype=object)"
      ]
     },
     "execution_count": 129,
     "metadata": {},
     "output_type": "execute_result"
    }
   ],
   "source": [
    "# Prueba las hipótesis\n",
    "\n",
    "total_info['city'].unique()"
   ]
  },
  {
   "cell_type": "code",
   "execution_count": 148,
   "metadata": {
    "trusted": false
   },
   "outputs": [],
   "source": [
    "alpha = 0.05\n",
    "ingresos_surf = total_info[total_info['plan'] == 'surf']['total_price'].dropna()\n",
    "ingresos_ultimate = total_info[total_info['plan'] == 'ultimate']['total_price'].dropna()"
   ]
  },
  {
   "cell_type": "code",
   "execution_count": 150,
   "metadata": {
    "trusted": false
   },
   "outputs": [
    {
     "name": "stdout",
     "output_type": "stream",
     "text": [
      "Estadístico t: nan\n",
      "Valor p: nan\n",
      "No rechazamos la hipótesis nula. No hay suficiente evidencia estadística para afirmar que el ingreso promedio de los usuarios del área NY-NJ es diferente al de otras regiones.\n"
     ]
    }
   ],
   "source": [
    "import scipy.stats as st\n",
    "\n",
    "nynj_users = total_info[total_info['city'] == 'New York-Newark-Jersey City, NY-NJ-PA']\n",
    "other_regions_users = total_info[total_info['city'] != 'New York-Newark-Jersey City, NY-NJ-PA']\n",
    "\n",
    "\n",
    "t_statistic, p_value = st.ttest_ind(nynj_users['total_price'], other_regions_users['total_price'])\n",
    "\n",
    "print(f\"Estadístico t: {t_statistic}\")\n",
    "print(f\"Valor p: {p_value}\")\n",
    "\n",
    "alpha = 0.05\n",
    "\n",
    "if p_value < alpha:\n",
    "    print(\"Rechazamos la hipótesis nula. Existe evidencia estadísticamente significativa para afirmar que el ingreso promedio de los usuarios del área NY-NJ es diferente al de otras regiones.\")\n",
    "else:\n",
    "    print(\"No rechazamos la hipótesis nula. No hay suficiente evidencia estadística para afirmar que el ingreso promedio de los usuarios del área NY-NJ es diferente al de otras regiones.\")"
   ]
  },
  {
   "cell_type": "markdown",
   "metadata": {
    "id": "bbTR8UQO0q1T"
   },
   "source": [
    "1. Comportamiento de uso de minutos por plan:\n",
    "Se observaron diferencias en el consumo total de minutos entre los planes, como se evidenció en el histograma.\n",
    "La media y la varianza de la duración mensual de llamadas proporcionaron medidas de tendencia central y dispersión, útiles para comprender la variabilidad en el uso de minutos.\n",
    "El diagrama de caja mostró la distribución de la duración de las llamadas, incluyendo la mediana, cuartiles y valores atípicos.\n",
    "\n",
    "1. Comportamiento de uso de mensajes por plan:\n",
    "El gráfico de barras del número promedio de mensajes por plan y mes reveló patrones de uso a lo largo del tiempo. Se identificaron posibles diferencias en el envío de mensajes entre los planes.\n",
    "\n",
    "1. Comportamiento de uso de datos por plan:\n",
    "Los gráficos de barras y los diagramas de caja del consumo de datos permitieron comparar la cantidad total y la distribución del tráfico de internet entre los planes.  Se observaron diferencias en el consumo de datos y su variabilidad entre los planes.\n",
    "El gráfico de líneas del consumo promedio de datos mensuales profundizó en el comportamiento del uso de datos a lo largo del tiempo por plan.\n",
    "\n",
    "1. Análisis de ingresos:\n",
    "Las estadísticas descriptivas (media, mediana, desviación estándar, mínimo y máximo) del ingreso total por plan, junto con los diagramas de caja e histogramas, revelaron la distribución de ingresos y su variabilidad.\n",
    "Esto permite identificar planes con mayor o menor rentabilidad y comprender la dispersión de los ingresos.\n",
    "\n",
    "1. Prueba de hipótesis:\n",
    "En ambas pruebas rechazamos la hipotesis nula.\n",
    "\n",
    "\n",
    "\n"
   ]
  },
  {
   "cell_type": "code",
   "execution_count": null,
   "metadata": {
    "trusted": false
   },
   "outputs": [],
   "source": []
  }
 ],
 "metadata": {
  "ExecuteTimeLog": [
   {
    "duration": 828,
    "start_time": "2021-11-16T09:21:11.304Z"
   },
   {
    "duration": 893,
    "start_time": "2021-11-16T09:21:17.728Z"
   },
   {
    "duration": 1150,
    "start_time": "2021-11-16T09:21:29.568Z"
   },
   {
    "duration": 3,
    "start_time": "2021-11-16T09:24:14.495Z"
   },
   {
    "duration": 120,
    "start_time": "2021-11-16T09:24:46.630Z"
   },
   {
    "duration": 3,
    "start_time": "2021-11-16T09:28:27.882Z"
   },
   {
    "duration": 4,
    "start_time": "2021-11-16T09:29:54.281Z"
   },
   {
    "duration": 3,
    "start_time": "2021-11-16T09:30:45.936Z"
   },
   {
    "duration": 4,
    "start_time": "2021-11-16T09:31:06.300Z"
   },
   {
    "duration": 113,
    "start_time": "2021-11-16T09:31:37.208Z"
   },
   {
    "duration": 143,
    "start_time": "2021-11-16T09:31:48.656Z"
   },
   {
    "duration": 98,
    "start_time": "2021-11-16T09:31:55.678Z"
   },
   {
    "duration": 3,
    "start_time": "2021-11-16T09:32:08.535Z"
   },
   {
    "duration": 111,
    "start_time": "2021-11-16T09:32:10.120Z"
   },
   {
    "duration": 3,
    "start_time": "2021-11-16T09:32:15.732Z"
   },
   {
    "duration": 4,
    "start_time": "2021-11-16T09:32:29.423Z"
   },
   {
    "duration": 3,
    "start_time": "2021-11-16T10:03:03.074Z"
   },
   {
    "duration": 3,
    "start_time": "2021-11-16T10:10:01.288Z"
   },
   {
    "duration": 3,
    "start_time": "2021-11-16T10:10:46.923Z"
   },
   {
    "duration": 121,
    "start_time": "2021-11-16T10:37:46.494Z"
   },
   {
    "duration": 125,
    "start_time": "2021-11-16T10:38:20.632Z"
   },
   {
    "duration": 112,
    "start_time": "2021-11-16T10:46:53.001Z"
   },
   {
    "duration": 110,
    "start_time": "2021-11-16T10:48:25.775Z"
   },
   {
    "duration": 3,
    "start_time": "2021-11-16T10:50:18.720Z"
   },
   {
    "duration": 4,
    "start_time": "2021-11-16T10:50:37.649Z"
   },
   {
    "duration": 2,
    "start_time": "2021-11-16T10:50:51.884Z"
   },
   {
    "duration": 3,
    "start_time": "2021-11-16T10:51:56.237Z"
   },
   {
    "duration": 101,
    "start_time": "2021-11-16T10:53:13.791Z"
   },
   {
    "duration": 3,
    "start_time": "2021-11-16T10:55:59.186Z"
   },
   {
    "duration": 3,
    "start_time": "2021-11-16T10:56:10.751Z"
   },
   {
    "duration": 3,
    "start_time": "2021-11-16T10:56:49.038Z"
   },
   {
    "duration": 3,
    "start_time": "2021-11-16T10:56:49.174Z"
   },
   {
    "duration": 4,
    "start_time": "2021-11-16T10:56:49.414Z"
   },
   {
    "duration": 3,
    "start_time": "2021-11-16T10:56:49.680Z"
   },
   {
    "duration": 3,
    "start_time": "2021-11-16T10:56:50.370Z"
   },
   {
    "duration": 114,
    "start_time": "2021-11-16T10:59:34.518Z"
   },
   {
    "duration": 3,
    "start_time": "2021-11-16T11:01:41.201Z"
   },
   {
    "duration": 116,
    "start_time": "2021-11-16T11:01:48.754Z"
   },
   {
    "duration": 3,
    "start_time": "2021-11-16T11:02:16.685Z"
   },
   {
    "duration": 3,
    "start_time": "2021-11-16T11:02:19.479Z"
   },
   {
    "duration": 3,
    "start_time": "2021-11-16T11:02:47.067Z"
   },
   {
    "duration": 3,
    "start_time": "2021-11-16T11:02:49.353Z"
   },
   {
    "duration": 3,
    "start_time": "2021-11-16T11:03:07.835Z"
   },
   {
    "duration": 3,
    "start_time": "2021-11-16T11:03:07.953Z"
   },
   {
    "duration": 112,
    "start_time": "2021-11-16T11:07:52.072Z"
   },
   {
    "duration": 187,
    "start_time": "2021-11-16T11:09:23.468Z"
   },
   {
    "duration": 4,
    "start_time": "2021-11-16T11:10:01.455Z"
   },
   {
    "duration": 3,
    "start_time": "2021-11-16T11:10:05.069Z"
   },
   {
    "duration": 4,
    "start_time": "2021-11-16T11:10:13.376Z"
   },
   {
    "duration": 3,
    "start_time": "2021-11-16T11:10:14.434Z"
   },
   {
    "duration": 3,
    "start_time": "2021-11-16T11:10:22.853Z"
   },
   {
    "duration": 4,
    "start_time": "2021-11-16T11:27:29.279Z"
   },
   {
    "duration": 4,
    "start_time": "2021-11-16T11:29:08.919Z"
   },
   {
    "duration": 118,
    "start_time": "2021-11-16T11:29:46.703Z"
   },
   {
    "duration": 437,
    "start_time": "2021-11-16T11:36:02.181Z"
   },
   {
    "duration": 157,
    "start_time": "2021-11-16T11:36:14.388Z"
   },
   {
    "duration": 207,
    "start_time": "2021-11-16T11:47:15.898Z"
   },
   {
    "duration": 3,
    "start_time": "2021-11-16T11:53:52.092Z"
   },
   {
    "duration": 3,
    "start_time": "2021-11-16T11:53:52.236Z"
   },
   {
    "duration": 3,
    "start_time": "2021-11-16T11:59:12.005Z"
   },
   {
    "duration": 112,
    "start_time": "2021-11-16T12:00:33.446Z"
   },
   {
    "duration": 3,
    "start_time": "2021-11-16T12:02:14.453Z"
   },
   {
    "duration": 3,
    "start_time": "2021-11-16T12:02:39.512Z"
   },
   {
    "duration": 106,
    "start_time": "2021-11-16T12:03:03.460Z"
   },
   {
    "duration": 3,
    "start_time": "2021-11-17T20:37:21.139Z"
   },
   {
    "duration": 3,
    "start_time": "2021-11-17T20:37:22.229Z"
   },
   {
    "duration": 3,
    "start_time": "2021-11-17T20:38:38.806Z"
   },
   {
    "duration": 3,
    "start_time": "2021-11-17T20:38:41.958Z"
   },
   {
    "duration": 3,
    "start_time": "2021-11-17T20:43:46.551Z"
   },
   {
    "duration": 4,
    "start_time": "2021-11-17T20:58:21.835Z"
   },
   {
    "duration": 3,
    "start_time": "2021-11-17T20:59:21.872Z"
   },
   {
    "duration": 4,
    "start_time": "2021-11-17T20:59:45.352Z"
   },
   {
    "duration": 4,
    "start_time": "2021-11-17T20:59:49.646Z"
   },
   {
    "duration": 159,
    "start_time": "2021-11-17T21:02:26.949Z"
   },
   {
    "duration": 3,
    "start_time": "2021-11-17T21:03:53.461Z"
   },
   {
    "duration": 3,
    "start_time": "2021-11-17T21:03:53.694Z"
   },
   {
    "duration": 3,
    "start_time": "2021-11-17T21:05:28.145Z"
   },
   {
    "duration": 116,
    "start_time": "2021-11-17T21:05:57.787Z"
   },
   {
    "duration": 3,
    "start_time": "2021-11-17T21:06:37.993Z"
   },
   {
    "duration": 3,
    "start_time": "2021-11-17T21:06:38.261Z"
   },
   {
    "duration": 3,
    "start_time": "2021-11-17T21:11:54.358Z"
   },
   {
    "duration": 3,
    "start_time": "2021-11-17T21:12:43.846Z"
   },
   {
    "duration": 4,
    "start_time": "2021-11-17T21:13:08.773Z"
   },
   {
    "duration": 3,
    "start_time": "2021-11-17T21:14:44.441Z"
   },
   {
    "duration": 3,
    "start_time": "2021-11-17T21:15:42.059Z"
   },
   {
    "duration": 4,
    "start_time": "2021-11-17T21:15:51.995Z"
   },
   {
    "duration": 3,
    "start_time": "2021-11-17T21:15:53.923Z"
   },
   {
    "duration": 3,
    "start_time": "2021-11-17T21:15:55.282Z"
   },
   {
    "duration": 3,
    "start_time": "2021-11-17T21:16:28.492Z"
   },
   {
    "duration": 3,
    "start_time": "2021-11-17T21:16:32.603Z"
   },
   {
    "duration": 3,
    "start_time": "2021-11-17T21:17:06.941Z"
   },
   {
    "duration": 98,
    "start_time": "2021-11-17T21:18:05.733Z"
   },
   {
    "duration": 4,
    "start_time": "2021-11-17T21:21:35.255Z"
   },
   {
    "duration": 3,
    "start_time": "2021-11-17T21:21:37.804Z"
   },
   {
    "duration": 4,
    "start_time": "2021-11-17T21:23:06.071Z"
   },
   {
    "duration": 3,
    "start_time": "2021-11-17T21:23:24.799Z"
   },
   {
    "duration": 3,
    "start_time": "2021-11-17T21:23:32.591Z"
   },
   {
    "duration": 98,
    "start_time": "2021-11-17T21:28:31.559Z"
   },
   {
    "duration": 3,
    "start_time": "2021-11-17T21:28:45.448Z"
   },
   {
    "duration": 3,
    "start_time": "2021-11-17T21:29:17.303Z"
   },
   {
    "duration": 3,
    "start_time": "2021-11-17T21:29:29.617Z"
   },
   {
    "duration": 3,
    "start_time": "2021-11-17T21:29:32.681Z"
   },
   {
    "duration": 3,
    "start_time": "2021-11-17T21:36:11.474Z"
   },
   {
    "duration": 3,
    "start_time": "2021-11-17T21:36:14.791Z"
   },
   {
    "duration": 3,
    "start_time": "2021-11-17T21:36:53.943Z"
   },
   {
    "duration": 3,
    "start_time": "2021-11-17T21:36:56.165Z"
   },
   {
    "duration": 4,
    "start_time": "2021-11-17T21:37:16.590Z"
   },
   {
    "duration": 3,
    "start_time": "2021-11-17T21:37:22.702Z"
   },
   {
    "duration": 4,
    "start_time": "2021-11-17T21:38:03.479Z"
   },
   {
    "duration": 3,
    "start_time": "2021-11-17T21:38:08.601Z"
   },
   {
    "duration": 3,
    "start_time": "2021-11-17T21:38:12.928Z"
   },
   {
    "duration": 3,
    "start_time": "2021-11-17T21:38:48.896Z"
   },
   {
    "duration": 2,
    "start_time": "2021-11-17T21:38:49.171Z"
   },
   {
    "duration": 4,
    "start_time": "2021-11-17T21:39:57.889Z"
   },
   {
    "duration": 3,
    "start_time": "2021-11-17T21:39:58.057Z"
   },
   {
    "duration": 3,
    "start_time": "2021-11-17T21:41:20.108Z"
   },
   {
    "duration": 3,
    "start_time": "2021-11-17T21:41:20.629Z"
   },
   {
    "duration": 3,
    "start_time": "2021-11-17T21:42:49.136Z"
   },
   {
    "duration": 3,
    "start_time": "2021-11-17T21:43:15.137Z"
   },
   {
    "duration": 4,
    "start_time": "2021-11-17T21:43:16.766Z"
   },
   {
    "duration": 4,
    "start_time": "2021-11-17T21:43:31.711Z"
   },
   {
    "duration": 3,
    "start_time": "2021-11-17T21:43:36.312Z"
   },
   {
    "duration": 4,
    "start_time": "2021-11-17T21:45:08.825Z"
   },
   {
    "duration": 4,
    "start_time": "2021-11-17T21:45:10.119Z"
   },
   {
    "duration": 4,
    "start_time": "2021-11-17T21:45:13.748Z"
   },
   {
    "duration": 3,
    "start_time": "2021-11-17T21:45:22.219Z"
   },
   {
    "duration": 3,
    "start_time": "2021-11-17T21:45:33.412Z"
   },
   {
    "duration": 2,
    "start_time": "2021-11-17T21:46:01.885Z"
   },
   {
    "duration": 3,
    "start_time": "2021-11-17T21:46:03.628Z"
   },
   {
    "duration": 107,
    "start_time": "2021-11-17T21:47:32.512Z"
   },
   {
    "duration": 103,
    "start_time": "2021-11-17T21:50:36.243Z"
   },
   {
    "duration": 3,
    "start_time": "2021-11-18T06:28:31.440Z"
   },
   {
    "duration": 3,
    "start_time": "2021-11-18T06:29:00.168Z"
   },
   {
    "duration": 3,
    "start_time": "2021-11-18T06:31:27.008Z"
   },
   {
    "duration": 2,
    "start_time": "2021-11-18T06:35:34.288Z"
   },
   {
    "duration": 2,
    "start_time": "2021-11-18T06:38:04.527Z"
   },
   {
    "duration": 323,
    "start_time": "2024-12-06T21:20:15.105Z"
   },
   {
    "duration": 518,
    "start_time": "2024-12-06T21:20:55.665Z"
   },
   {
    "duration": 56,
    "start_time": "2024-12-06T21:21:06.324Z"
   },
   {
    "duration": 102,
    "start_time": "2024-12-06T21:21:18.665Z"
   },
   {
    "duration": 198,
    "start_time": "2024-12-06T21:23:00.502Z"
   },
   {
    "duration": 162,
    "start_time": "2024-12-06T21:23:35.408Z"
   },
   {
    "duration": 154,
    "start_time": "2024-12-06T21:23:49.388Z"
   },
   {
    "duration": 159,
    "start_time": "2024-12-06T21:24:25.500Z"
   },
   {
    "duration": 155,
    "start_time": "2024-12-06T21:24:37.377Z"
   },
   {
    "duration": 157,
    "start_time": "2024-12-06T21:24:45.582Z"
   },
   {
    "duration": 159,
    "start_time": "2024-12-06T21:24:59.928Z"
   },
   {
    "duration": 155,
    "start_time": "2024-12-06T21:25:15.236Z"
   },
   {
    "duration": 2,
    "start_time": "2024-12-06T21:32:49.108Z"
   },
   {
    "duration": 153,
    "start_time": "2024-12-06T21:32:50.814Z"
   },
   {
    "duration": 2204,
    "start_time": "2024-12-06T21:36:49.846Z"
   },
   {
    "duration": 159,
    "start_time": "2024-12-06T21:36:52.052Z"
   },
   {
    "duration": 155,
    "start_time": "2024-12-06T21:50:48.127Z"
   },
   {
    "duration": 8,
    "start_time": "2024-12-06T21:57:30.558Z"
   },
   {
    "duration": 7,
    "start_time": "2024-12-06T21:57:57.851Z"
   },
   {
    "duration": 8,
    "start_time": "2024-12-06T21:59:21.674Z"
   },
   {
    "duration": 19,
    "start_time": "2024-12-06T22:02:27.938Z"
   },
   {
    "duration": 7,
    "start_time": "2024-12-06T22:05:54.997Z"
   },
   {
    "duration": 159,
    "start_time": "2024-12-09T15:20:43.985Z"
   },
   {
    "duration": 13,
    "start_time": "2024-12-09T15:20:52.813Z"
   },
   {
    "duration": 13,
    "start_time": "2024-12-09T15:21:06.538Z"
   },
   {
    "duration": 2525,
    "start_time": "2024-12-09T15:21:09.990Z"
   },
   {
    "duration": 220,
    "start_time": "2024-12-09T15:21:12.517Z"
   },
   {
    "duration": 26,
    "start_time": "2024-12-09T15:21:15.627Z"
   },
   {
    "duration": 28,
    "start_time": "2024-12-09T15:21:24.079Z"
   },
   {
    "duration": 9,
    "start_time": "2024-12-09T15:21:43.708Z"
   },
   {
    "duration": 5,
    "start_time": "2024-12-09T16:39:45.056Z"
   },
   {
    "duration": 5,
    "start_time": "2024-12-09T16:40:33.639Z"
   },
   {
    "duration": 6,
    "start_time": "2024-12-09T16:40:40.061Z"
   },
   {
    "duration": 5,
    "start_time": "2024-12-09T16:40:47.618Z"
   },
   {
    "duration": 3,
    "start_time": "2024-12-09T16:40:57.736Z"
   },
   {
    "duration": 3,
    "start_time": "2024-12-09T16:41:43.827Z"
   },
   {
    "duration": 5,
    "start_time": "2024-12-09T16:42:05.448Z"
   },
   {
    "duration": 26,
    "start_time": "2024-12-09T16:43:06.673Z"
   },
   {
    "duration": 7,
    "start_time": "2024-12-09T16:43:09.850Z"
   },
   {
    "duration": 5,
    "start_time": "2024-12-09T16:43:13.166Z"
   },
   {
    "duration": 29,
    "start_time": "2024-12-09T16:44:57.714Z"
   },
   {
    "duration": 22,
    "start_time": "2024-12-09T16:50:52.198Z"
   },
   {
    "duration": 21,
    "start_time": "2024-12-09T16:51:06.052Z"
   },
   {
    "duration": 3,
    "start_time": "2024-12-09T16:51:29.958Z"
   },
   {
    "duration": 18,
    "start_time": "2024-12-09T16:51:57.007Z"
   },
   {
    "duration": 21,
    "start_time": "2024-12-09T16:53:10.906Z"
   },
   {
    "duration": 19,
    "start_time": "2024-12-09T16:53:14.008Z"
   },
   {
    "duration": 3,
    "start_time": "2024-12-09T16:58:27.766Z"
   },
   {
    "duration": 3,
    "start_time": "2024-12-09T16:58:31.909Z"
   },
   {
    "duration": 23,
    "start_time": "2024-12-09T16:59:24.746Z"
   },
   {
    "duration": 26,
    "start_time": "2024-12-09T17:06:27.274Z"
   },
   {
    "duration": 5,
    "start_time": "2024-12-09T17:06:41.011Z"
   },
   {
    "duration": 23,
    "start_time": "2024-12-09T17:06:47.117Z"
   },
   {
    "duration": 8,
    "start_time": "2024-12-09T17:06:50.767Z"
   },
   {
    "duration": 4,
    "start_time": "2024-12-09T17:09:03.037Z"
   },
   {
    "duration": 3,
    "start_time": "2024-12-09T17:10:00.548Z"
   },
   {
    "duration": 13,
    "start_time": "2024-12-09T17:10:09.134Z"
   },
   {
    "duration": 3,
    "start_time": "2024-12-09T17:13:04.299Z"
   },
   {
    "duration": 25,
    "start_time": "2024-12-09T17:14:17.680Z"
   },
   {
    "duration": 13,
    "start_time": "2024-12-09T17:14:58.153Z"
   },
   {
    "duration": 7,
    "start_time": "2024-12-09T17:18:03.486Z"
   },
   {
    "duration": 103,
    "start_time": "2024-12-09T17:18:20.108Z"
   },
   {
    "duration": 6,
    "start_time": "2024-12-09T17:18:30.059Z"
   },
   {
    "duration": 21,
    "start_time": "2024-12-09T17:19:22.470Z"
   },
   {
    "duration": 26,
    "start_time": "2024-12-09T17:20:26.389Z"
   },
   {
    "duration": 32,
    "start_time": "2024-12-09T17:20:52.387Z"
   },
   {
    "duration": 8,
    "start_time": "2024-12-09T17:21:21.435Z"
   },
   {
    "duration": 19,
    "start_time": "2024-12-09T17:21:42.269Z"
   },
   {
    "duration": 12,
    "start_time": "2024-12-09T17:22:11.536Z"
   },
   {
    "duration": 3,
    "start_time": "2024-12-09T17:24:29.794Z"
   },
   {
    "duration": 3,
    "start_time": "2024-12-09T17:24:31.479Z"
   },
   {
    "duration": 8,
    "start_time": "2024-12-09T17:27:06.156Z"
   },
   {
    "duration": 8,
    "start_time": "2024-12-09T17:27:08.674Z"
   },
   {
    "duration": 3,
    "start_time": "2024-12-09T17:27:11.825Z"
   },
   {
    "duration": 3,
    "start_time": "2024-12-09T17:27:13.358Z"
   },
   {
    "duration": 423,
    "start_time": "2024-12-09T17:27:15.328Z"
   },
   {
    "duration": 6,
    "start_time": "2024-12-09T17:29:37.109Z"
   },
   {
    "duration": 3,
    "start_time": "2024-12-09T17:31:56.446Z"
   },
   {
    "duration": 175,
    "start_time": "2024-12-09T17:31:57.718Z"
   },
   {
    "duration": 9,
    "start_time": "2024-12-09T17:32:01.524Z"
   },
   {
    "duration": 11,
    "start_time": "2024-12-09T17:32:37.501Z"
   },
   {
    "duration": 9,
    "start_time": "2024-12-09T17:32:45.157Z"
   },
   {
    "duration": 10,
    "start_time": "2024-12-09T17:32:47.174Z"
   },
   {
    "duration": 8,
    "start_time": "2024-12-09T17:33:00.528Z"
   },
   {
    "duration": 300,
    "start_time": "2024-12-09T17:33:04.034Z"
   },
   {
    "duration": 8,
    "start_time": "2024-12-09T17:33:10.730Z"
   },
   {
    "duration": 7,
    "start_time": "2024-12-09T17:48:01.434Z"
   },
   {
    "duration": 8,
    "start_time": "2024-12-09T17:48:07.212Z"
   },
   {
    "duration": 106,
    "start_time": "2024-12-09T17:49:08.198Z"
   },
   {
    "duration": 98,
    "start_time": "2024-12-09T17:49:50.272Z"
   },
   {
    "duration": 104,
    "start_time": "2024-12-09T17:50:05.859Z"
   },
   {
    "duration": 101,
    "start_time": "2024-12-09T17:50:18.263Z"
   },
   {
    "duration": 8,
    "start_time": "2024-12-09T18:50:09.878Z"
   },
   {
    "duration": 4,
    "start_time": "2024-12-09T18:50:12.235Z"
   },
   {
    "duration": 3,
    "start_time": "2024-12-09T18:50:14.044Z"
   },
   {
    "duration": 20,
    "start_time": "2024-12-09T18:50:16.114Z"
   },
   {
    "duration": 3,
    "start_time": "2024-12-09T18:58:27.910Z"
   },
   {
    "duration": 184,
    "start_time": "2024-12-09T18:58:29.433Z"
   },
   {
    "duration": 10,
    "start_time": "2024-12-09T18:58:34.596Z"
   },
   {
    "duration": 20,
    "start_time": "2024-12-09T18:59:03.609Z"
   },
   {
    "duration": 20,
    "start_time": "2024-12-09T18:59:10.440Z"
   },
   {
    "duration": 10,
    "start_time": "2024-12-09T18:59:49.379Z"
   },
   {
    "duration": 21,
    "start_time": "2024-12-09T19:00:06.629Z"
   },
   {
    "duration": 12,
    "start_time": "2024-12-09T19:02:31.008Z"
   },
   {
    "duration": 3,
    "start_time": "2024-12-09T21:16:46.248Z"
   },
   {
    "duration": 154,
    "start_time": "2024-12-09T21:16:48.900Z"
   },
   {
    "duration": 14,
    "start_time": "2024-12-09T21:16:51.077Z"
   },
   {
    "duration": 25,
    "start_time": "2024-12-09T21:18:33.697Z"
   },
   {
    "duration": 8,
    "start_time": "2024-12-09T21:18:48.815Z"
   },
   {
    "duration": 116,
    "start_time": "2024-12-09T21:54:51.398Z"
   },
   {
    "duration": 26,
    "start_time": "2024-12-09T21:54:55.345Z"
   },
   {
    "duration": 8,
    "start_time": "2024-12-09T21:54:58.501Z"
   },
   {
    "duration": 35,
    "start_time": "2024-12-09T21:55:01.640Z"
   },
   {
    "duration": 39,
    "start_time": "2024-12-09T21:55:30.626Z"
   },
   {
    "duration": 3,
    "start_time": "2024-12-09T21:55:44.984Z"
   },
   {
    "duration": 33,
    "start_time": "2024-12-09T21:55:48.501Z"
   },
   {
    "duration": 34,
    "start_time": "2024-12-09T21:55:51.114Z"
   },
   {
    "duration": 35,
    "start_time": "2024-12-09T21:55:59.425Z"
   },
   {
    "duration": 35,
    "start_time": "2024-12-09T21:56:14.710Z"
   },
   {
    "duration": 4,
    "start_time": "2024-12-09T22:08:34.933Z"
   },
   {
    "duration": 35,
    "start_time": "2024-12-09T22:08:41.943Z"
   },
   {
    "duration": 3,
    "start_time": "2024-12-09T22:15:29.793Z"
   },
   {
    "duration": 163,
    "start_time": "2024-12-09T22:15:31.352Z"
   },
   {
    "duration": 26,
    "start_time": "2024-12-09T22:15:34.153Z"
   },
   {
    "duration": 7,
    "start_time": "2024-12-09T22:15:47.718Z"
   },
   {
    "duration": 37,
    "start_time": "2024-12-09T22:18:10.589Z"
   },
   {
    "duration": 3,
    "start_time": "2024-12-09T22:18:24.298Z"
   },
   {
    "duration": 3,
    "start_time": "2024-12-09T22:18:27.007Z"
   },
   {
    "duration": 3,
    "start_time": "2024-12-09T22:42:46.179Z"
   },
   {
    "duration": 161,
    "start_time": "2024-12-10T01:34:02.422Z"
   },
   {
    "duration": 2548,
    "start_time": "2024-12-10T01:34:08.019Z"
   },
   {
    "duration": 216,
    "start_time": "2024-12-10T01:34:10.569Z"
   },
   {
    "duration": 10,
    "start_time": "2024-12-10T01:34:22.976Z"
   },
   {
    "duration": 9,
    "start_time": "2024-12-10T01:34:40.532Z"
   },
   {
    "duration": 5,
    "start_time": "2024-12-10T01:40:16.666Z"
   },
   {
    "duration": 3,
    "start_time": "2024-12-10T01:40:55.910Z"
   },
   {
    "duration": 75,
    "start_time": "2024-12-10T01:41:57.444Z"
   },
   {
    "duration": 8,
    "start_time": "2024-12-10T01:42:11.636Z"
   },
   {
    "duration": 8,
    "start_time": "2024-12-10T01:42:26.901Z"
   },
   {
    "duration": 16,
    "start_time": "2024-12-10T01:49:28.548Z"
   },
   {
    "duration": 6,
    "start_time": "2024-12-10T01:49:41.737Z"
   },
   {
    "duration": 4,
    "start_time": "2024-12-10T01:54:44.874Z"
   },
   {
    "duration": 3,
    "start_time": "2024-12-10T01:54:57.130Z"
   },
   {
    "duration": 4,
    "start_time": "2024-12-10T01:55:32.647Z"
   },
   {
    "duration": 3,
    "start_time": "2024-12-10T01:56:49.628Z"
   },
   {
    "duration": 5,
    "start_time": "2024-12-10T01:58:08.116Z"
   },
   {
    "duration": 4,
    "start_time": "2024-12-10T01:58:22.031Z"
   },
   {
    "duration": 314,
    "start_time": "2024-12-10T01:58:29.742Z"
   },
   {
    "duration": 29,
    "start_time": "2024-12-10T01:58:54.279Z"
   },
   {
    "duration": 13,
    "start_time": "2024-12-10T01:59:35.954Z"
   },
   {
    "duration": 6,
    "start_time": "2024-12-10T01:59:55.137Z"
   },
   {
    "duration": 7,
    "start_time": "2024-12-10T02:02:51.243Z"
   },
   {
    "duration": 392,
    "start_time": "2024-12-10T02:08:05.909Z"
   },
   {
    "duration": 41,
    "start_time": "2024-12-10T02:08:31.325Z"
   },
   {
    "duration": 2592,
    "start_time": "2024-12-10T15:57:03.976Z"
   },
   {
    "duration": 226,
    "start_time": "2024-12-10T15:57:06.570Z"
   },
   {
    "duration": 216,
    "start_time": "2024-12-10T15:57:08.290Z"
   },
   {
    "duration": 11,
    "start_time": "2024-12-10T15:57:15.909Z"
   },
   {
    "duration": 11,
    "start_time": "2024-12-10T15:57:20.383Z"
   },
   {
    "duration": 14,
    "start_time": "2024-12-10T15:57:24.156Z"
   },
   {
    "duration": 3,
    "start_time": "2024-12-10T15:57:30.018Z"
   },
   {
    "duration": 10,
    "start_time": "2024-12-10T15:57:39.663Z"
   },
   {
    "duration": 7,
    "start_time": "2024-12-10T16:31:49.619Z"
   },
   {
    "duration": 2,
    "start_time": "2024-12-10T16:34:15.357Z"
   },
   {
    "duration": 162,
    "start_time": "2024-12-10T16:34:17.148Z"
   },
   {
    "duration": 8,
    "start_time": "2024-12-10T16:34:19.454Z"
   },
   {
    "duration": 7,
    "start_time": "2024-12-10T16:34:21.784Z"
   },
   {
    "duration": 3,
    "start_time": "2024-12-10T16:34:25.947Z"
   },
   {
    "duration": 8,
    "start_time": "2024-12-10T16:34:30.829Z"
   },
   {
    "duration": 10,
    "start_time": "2024-12-10T16:58:43.668Z"
   },
   {
    "duration": 8,
    "start_time": "2024-12-10T16:58:53.673Z"
   },
   {
    "duration": 4,
    "start_time": "2024-12-10T16:59:11.049Z"
   },
   {
    "duration": 14,
    "start_time": "2024-12-10T16:59:16.245Z"
   },
   {
    "duration": 8,
    "start_time": "2024-12-10T16:59:21.031Z"
   },
   {
    "duration": 8,
    "start_time": "2024-12-10T16:59:26.667Z"
   },
   {
    "duration": 3,
    "start_time": "2024-12-10T17:02:42.724Z"
   },
   {
    "duration": 14,
    "start_time": "2024-12-10T17:02:52.943Z"
   },
   {
    "duration": 10,
    "start_time": "2024-12-10T17:03:08.591Z"
   },
   {
    "duration": 15,
    "start_time": "2024-12-10T17:03:24.622Z"
   },
   {
    "duration": 7,
    "start_time": "2024-12-10T17:03:30.214Z"
   },
   {
    "duration": 7,
    "start_time": "2024-12-10T17:36:37.412Z"
   },
   {
    "duration": 17,
    "start_time": "2024-12-10T17:38:32.648Z"
   },
   {
    "duration": 3,
    "start_time": "2024-12-10T17:39:57.721Z"
   },
   {
    "duration": 9,
    "start_time": "2024-12-10T17:40:40.745Z"
   },
   {
    "duration": 12,
    "start_time": "2024-12-10T17:43:46.849Z"
   },
   {
    "duration": 6,
    "start_time": "2024-12-10T17:43:51.916Z"
   },
   {
    "duration": 13,
    "start_time": "2024-12-10T17:46:44.521Z"
   },
   {
    "duration": 168,
    "start_time": "2024-12-10T17:47:44.684Z"
   },
   {
    "duration": 3,
    "start_time": "2024-12-10T17:47:47.375Z"
   },
   {
    "duration": 160,
    "start_time": "2024-12-10T17:47:48.629Z"
   },
   {
    "duration": 9,
    "start_time": "2024-12-10T17:47:53.364Z"
   },
   {
    "duration": 7,
    "start_time": "2024-12-10T17:47:56.421Z"
   },
   {
    "duration": 3,
    "start_time": "2024-12-10T17:48:00.910Z"
   },
   {
    "duration": 8,
    "start_time": "2024-12-10T17:48:02.249Z"
   },
   {
    "duration": 3,
    "start_time": "2024-12-10T17:48:07.908Z"
   },
   {
    "duration": 9,
    "start_time": "2024-12-10T17:48:11.684Z"
   },
   {
    "duration": 8,
    "start_time": "2024-12-10T17:48:13.870Z"
   },
   {
    "duration": 3,
    "start_time": "2024-12-10T17:48:17.502Z"
   },
   {
    "duration": 9,
    "start_time": "2024-12-10T17:48:20.079Z"
   },
   {
    "duration": 16,
    "start_time": "2024-12-10T17:48:22.427Z"
   },
   {
    "duration": 7,
    "start_time": "2024-12-10T17:48:24.758Z"
   },
   {
    "duration": 15,
    "start_time": "2024-12-10T17:48:27.316Z"
   },
   {
    "duration": 3,
    "start_time": "2024-12-10T17:48:29.178Z"
   },
   {
    "duration": 8,
    "start_time": "2024-12-10T17:48:31.872Z"
   },
   {
    "duration": 13,
    "start_time": "2024-12-10T17:48:37.416Z"
   },
   {
    "duration": 6,
    "start_time": "2024-12-10T17:48:40.757Z"
   },
   {
    "duration": 19,
    "start_time": "2024-12-10T17:48:45.380Z"
   },
   {
    "duration": 300,
    "start_time": "2024-12-10T17:49:47.205Z"
   },
   {
    "duration": 26,
    "start_time": "2024-12-10T17:49:58.897Z"
   },
   {
    "duration": 27,
    "start_time": "2024-12-10T17:50:32.544Z"
   },
   {
    "duration": 26,
    "start_time": "2024-12-10T17:51:03.207Z"
   },
   {
    "duration": 25,
    "start_time": "2024-12-10T17:52:28.777Z"
   },
   {
    "duration": 10,
    "start_time": "2024-12-10T17:54:17.075Z"
   },
   {
    "duration": 6,
    "start_time": "2024-12-10T17:54:22.762Z"
   },
   {
    "duration": 14,
    "start_time": "2024-12-10T17:54:42.417Z"
   },
   {
    "duration": 7,
    "start_time": "2024-12-10T17:54:53.378Z"
   },
   {
    "duration": 12,
    "start_time": "2024-12-10T17:55:50.135Z"
   },
   {
    "duration": 17,
    "start_time": "2024-12-10T17:58:06.049Z"
   },
   {
    "duration": 18,
    "start_time": "2024-12-10T17:58:15.480Z"
   },
   {
    "duration": 458,
    "start_time": "2024-12-10T17:58:20.269Z"
   },
   {
    "duration": 11,
    "start_time": "2024-12-10T17:58:46.059Z"
   },
   {
    "duration": 43,
    "start_time": "2024-12-10T17:58:47.615Z"
   },
   {
    "duration": 45,
    "start_time": "2024-12-10T17:59:41.928Z"
   },
   {
    "duration": 43,
    "start_time": "2024-12-10T18:06:27.789Z"
   },
   {
    "duration": 13,
    "start_time": "2024-12-10T18:06:30.651Z"
   },
   {
    "duration": 43,
    "start_time": "2024-12-10T18:06:32.490Z"
   },
   {
    "duration": 43,
    "start_time": "2024-12-10T18:08:25.396Z"
   },
   {
    "duration": 43,
    "start_time": "2024-12-10T18:08:30.073Z"
   },
   {
    "duration": 11,
    "start_time": "2024-12-10T18:08:33.308Z"
   },
   {
    "duration": 43,
    "start_time": "2024-12-10T18:08:34.851Z"
   },
   {
    "duration": 11,
    "start_time": "2024-12-10T18:21:05.918Z"
   },
   {
    "duration": 7,
    "start_time": "2024-12-10T18:21:07.880Z"
   },
   {
    "duration": 98,
    "start_time": "2024-12-10T18:21:10.809Z"
   },
   {
    "duration": 44,
    "start_time": "2024-12-10T18:21:12.728Z"
   },
   {
    "duration": 45,
    "start_time": "2024-12-10T18:22:25.598Z"
   },
   {
    "duration": 7,
    "start_time": "2024-12-10T18:22:45.088Z"
   },
   {
    "duration": 40,
    "start_time": "2024-12-10T18:22:48.931Z"
   },
   {
    "duration": 42,
    "start_time": "2024-12-10T18:23:34.307Z"
   },
   {
    "duration": 45,
    "start_time": "2024-12-10T18:26:25.688Z"
   },
   {
    "duration": 4,
    "start_time": "2024-12-10T18:26:59.367Z"
   },
   {
    "duration": 3,
    "start_time": "2024-12-10T18:27:41.871Z"
   },
   {
    "duration": 14,
    "start_time": "2024-12-10T18:28:26.568Z"
   },
   {
    "duration": 8,
    "start_time": "2024-12-10T18:28:31.724Z"
   },
   {
    "duration": 19,
    "start_time": "2024-12-10T18:29:16.638Z"
   },
   {
    "duration": 18,
    "start_time": "2024-12-10T18:31:16.785Z"
   },
   {
    "duration": 18,
    "start_time": "2024-12-10T18:32:33.654Z"
   },
   {
    "duration": 15,
    "start_time": "2024-12-10T18:32:43.571Z"
   },
   {
    "duration": 16,
    "start_time": "2024-12-10T18:33:03.019Z"
   },
   {
    "duration": 15,
    "start_time": "2024-12-10T18:33:49.484Z"
   },
   {
    "duration": 18,
    "start_time": "2024-12-10T18:33:51.192Z"
   },
   {
    "duration": 16,
    "start_time": "2024-12-10T18:33:53.563Z"
   },
   {
    "duration": 15,
    "start_time": "2024-12-10T18:34:22.926Z"
   },
   {
    "duration": 31,
    "start_time": "2024-12-10T18:37:46.661Z"
   },
   {
    "duration": 26,
    "start_time": "2024-12-10T18:41:47.956Z"
   },
   {
    "duration": 14,
    "start_time": "2024-12-10T18:44:47.543Z"
   },
   {
    "duration": 18,
    "start_time": "2024-12-10T18:53:50.485Z"
   },
   {
    "duration": 13,
    "start_time": "2024-12-10T18:54:18.964Z"
   },
   {
    "duration": 27,
    "start_time": "2024-12-10T18:57:09.631Z"
   },
   {
    "duration": 15,
    "start_time": "2024-12-10T18:58:14.723Z"
   },
   {
    "duration": 18,
    "start_time": "2024-12-10T18:59:30.758Z"
   },
   {
    "duration": 14,
    "start_time": "2024-12-10T19:02:10.724Z"
   },
   {
    "duration": 21,
    "start_time": "2024-12-10T19:05:15.446Z"
   },
   {
    "duration": 27,
    "start_time": "2024-12-10T19:05:25.017Z"
   },
   {
    "duration": 21,
    "start_time": "2024-12-10T19:06:07.105Z"
   },
   {
    "duration": 20,
    "start_time": "2024-12-10T19:06:12.532Z"
   },
   {
    "duration": 56,
    "start_time": "2024-12-10T19:06:30.511Z"
   },
   {
    "duration": 48,
    "start_time": "2024-12-10T19:07:19.653Z"
   },
   {
    "duration": 49,
    "start_time": "2024-12-10T19:07:52.669Z"
   },
   {
    "duration": 114,
    "start_time": "2024-12-10T19:08:14.853Z"
   },
   {
    "duration": 24,
    "start_time": "2024-12-10T19:08:23.464Z"
   },
   {
    "duration": 34,
    "start_time": "2024-12-10T19:08:54.083Z"
   },
   {
    "duration": 22,
    "start_time": "2024-12-10T19:11:39.876Z"
   },
   {
    "duration": 24,
    "start_time": "2024-12-10T19:12:46.312Z"
   },
   {
    "duration": 14,
    "start_time": "2024-12-10T19:45:20.527Z"
   },
   {
    "duration": 2160,
    "start_time": "2024-12-11T14:36:32.545Z"
   },
   {
    "duration": 215,
    "start_time": "2024-12-11T14:36:34.707Z"
   },
   {
    "duration": 11,
    "start_time": "2024-12-11T14:36:44.489Z"
   },
   {
    "duration": 3,
    "start_time": "2024-12-11T14:36:47.482Z"
   },
   {
    "duration": 7,
    "start_time": "2024-12-11T14:36:50.191Z"
   },
   {
    "duration": 5,
    "start_time": "2024-12-11T14:36:52.960Z"
   },
   {
    "duration": 9,
    "start_time": "2024-12-11T14:36:55.097Z"
   },
   {
    "duration": 8,
    "start_time": "2024-12-11T14:36:58.121Z"
   },
   {
    "duration": 4,
    "start_time": "2024-12-11T14:37:00.492Z"
   },
   {
    "duration": 15,
    "start_time": "2024-12-11T14:37:02.921Z"
   },
   {
    "duration": 6,
    "start_time": "2024-12-11T14:37:05.253Z"
   },
   {
    "duration": 17,
    "start_time": "2024-12-11T14:37:07.923Z"
   },
   {
    "duration": 4,
    "start_time": "2024-12-11T14:37:10.484Z"
   },
   {
    "duration": 8,
    "start_time": "2024-12-11T14:37:12.620Z"
   },
   {
    "duration": 12,
    "start_time": "2024-12-11T14:37:16.143Z"
   },
   {
    "duration": 6,
    "start_time": "2024-12-11T14:37:18.428Z"
   },
   {
    "duration": 10,
    "start_time": "2024-12-11T14:37:20.801Z"
   },
   {
    "duration": 6,
    "start_time": "2024-12-11T14:37:23.703Z"
   },
   {
    "duration": 13,
    "start_time": "2024-12-11T14:37:25.820Z"
   },
   {
    "duration": 7,
    "start_time": "2024-12-11T14:37:28.082Z"
   },
   {
    "duration": 13,
    "start_time": "2024-12-11T14:37:30.449Z"
   },
   {
    "duration": 7,
    "start_time": "2024-12-11T14:37:32.039Z"
   },
   {
    "duration": 3,
    "start_time": "2024-12-11T14:37:33.884Z"
   },
   {
    "duration": 8,
    "start_time": "2024-12-11T14:37:36.318Z"
   },
   {
    "duration": 20,
    "start_time": "2024-12-11T14:37:39.239Z"
   },
   {
    "duration": 27,
    "start_time": "2024-12-11T14:37:42.060Z"
   },
   {
    "duration": 14,
    "start_time": "2024-12-11T14:37:44.809Z"
   },
   {
    "duration": 320,
    "start_time": "2024-12-11T14:41:01.808Z"
   },
   {
    "duration": 24,
    "start_time": "2024-12-11T14:42:13.537Z"
   },
   {
    "duration": 21,
    "start_time": "2024-12-11T14:43:55.757Z"
   },
   {
    "duration": 22,
    "start_time": "2024-12-11T14:48:07.587Z"
   },
   {
    "duration": 29,
    "start_time": "2024-12-11T14:48:15.895Z"
   },
   {
    "duration": 34,
    "start_time": "2024-12-11T14:52:08.156Z"
   },
   {
    "duration": 35,
    "start_time": "2024-12-11T14:52:18.977Z"
   },
   {
    "duration": 24,
    "start_time": "2024-12-11T14:52:58.855Z"
   },
   {
    "duration": 10,
    "start_time": "2024-12-11T14:53:40.320Z"
   },
   {
    "duration": 7,
    "start_time": "2024-12-11T14:53:42.911Z"
   },
   {
    "duration": 3,
    "start_time": "2024-12-11T14:53:44.511Z"
   },
   {
    "duration": 8,
    "start_time": "2024-12-11T14:53:46.873Z"
   },
   {
    "duration": 22,
    "start_time": "2024-12-11T14:54:22.839Z"
   },
   {
    "duration": 22,
    "start_time": "2024-12-11T14:54:34.744Z"
   },
   {
    "duration": 24,
    "start_time": "2024-12-11T14:54:43.507Z"
   },
   {
    "duration": 3,
    "start_time": "2024-12-11T15:00:27.391Z"
   },
   {
    "duration": 13,
    "start_time": "2024-12-11T15:03:32.318Z"
   },
   {
    "duration": 4,
    "start_time": "2024-12-11T15:07:43.933Z"
   },
   {
    "duration": 15,
    "start_time": "2024-12-11T15:07:46.204Z"
   },
   {
    "duration": 7,
    "start_time": "2024-12-11T15:07:48.538Z"
   },
   {
    "duration": 58,
    "start_time": "2024-12-11T15:07:51.536Z"
   },
   {
    "duration": 4,
    "start_time": "2024-12-11T15:07:53.691Z"
   },
   {
    "duration": 8,
    "start_time": "2024-12-11T15:07:55.553Z"
   },
   {
    "duration": 11,
    "start_time": "2024-12-11T15:07:58.330Z"
   },
   {
    "duration": 10,
    "start_time": "2024-12-11T15:08:20.397Z"
   },
   {
    "duration": 6,
    "start_time": "2024-12-11T15:08:22.602Z"
   },
   {
    "duration": 12,
    "start_time": "2024-12-11T15:08:32.369Z"
   },
   {
    "duration": 8,
    "start_time": "2024-12-11T15:08:34.408Z"
   },
   {
    "duration": 9,
    "start_time": "2024-12-11T15:08:36.989Z"
   },
   {
    "duration": 6,
    "start_time": "2024-12-11T15:08:53.902Z"
   },
   {
    "duration": 4,
    "start_time": "2024-12-11T15:08:55.935Z"
   },
   {
    "duration": 13,
    "start_time": "2024-12-11T15:09:21.258Z"
   },
   {
    "duration": 3,
    "start_time": "2024-12-11T15:09:28.403Z"
   },
   {
    "duration": 8,
    "start_time": "2024-12-11T15:09:33.079Z"
   },
   {
    "duration": 17,
    "start_time": "2024-12-11T15:09:57.329Z"
   },
   {
    "duration": 24,
    "start_time": "2024-12-11T15:10:00.234Z"
   },
   {
    "duration": 15,
    "start_time": "2024-12-11T15:10:23.009Z"
   },
   {
    "duration": 25,
    "start_time": "2024-12-11T15:10:26.646Z"
   },
   {
    "duration": 12,
    "start_time": "2024-12-11T15:10:40.469Z"
   },
   {
    "duration": 12,
    "start_time": "2024-12-11T15:10:45.478Z"
   },
   {
    "duration": 38,
    "start_time": "2024-12-11T15:11:34.099Z"
   },
   {
    "duration": 11,
    "start_time": "2024-12-11T15:12:08.649Z"
   },
   {
    "duration": 22,
    "start_time": "2024-12-11T15:12:34.924Z"
   },
   {
    "duration": 22,
    "start_time": "2024-12-11T15:12:49.944Z"
   },
   {
    "duration": 21,
    "start_time": "2024-12-11T15:13:02.569Z"
   },
   {
    "duration": 19,
    "start_time": "2024-12-11T15:13:23.106Z"
   },
   {
    "duration": 25,
    "start_time": "2024-12-11T15:13:48.615Z"
   },
   {
    "duration": 23,
    "start_time": "2024-12-11T15:14:26.218Z"
   },
   {
    "duration": 19,
    "start_time": "2024-12-11T15:14:44.165Z"
   },
   {
    "duration": 12,
    "start_time": "2024-12-11T15:15:11.254Z"
   },
   {
    "duration": 23,
    "start_time": "2024-12-11T15:30:26.433Z"
   },
   {
    "duration": 14,
    "start_time": "2024-12-11T15:32:50.861Z"
   },
   {
    "duration": 13,
    "start_time": "2024-12-11T15:33:16.944Z"
   },
   {
    "duration": 23,
    "start_time": "2024-12-11T15:33:23.053Z"
   },
   {
    "duration": 26,
    "start_time": "2024-12-11T15:35:46.292Z"
   },
   {
    "duration": 23,
    "start_time": "2024-12-11T15:36:05.558Z"
   },
   {
    "duration": 13,
    "start_time": "2024-12-11T15:42:59.927Z"
   },
   {
    "duration": 14,
    "start_time": "2024-12-11T15:43:16.181Z"
   },
   {
    "duration": 11,
    "start_time": "2024-12-11T15:43:52.706Z"
   },
   {
    "duration": 3,
    "start_time": "2024-12-11T15:43:54.367Z"
   },
   {
    "duration": 7,
    "start_time": "2024-12-11T15:43:57.099Z"
   },
   {
    "duration": 13,
    "start_time": "2024-12-11T15:44:19.028Z"
   },
   {
    "duration": 3,
    "start_time": "2024-12-11T15:44:31.754Z"
   },
   {
    "duration": 13,
    "start_time": "2024-12-11T15:44:42.689Z"
   },
   {
    "duration": 23,
    "start_time": "2024-12-11T15:45:08.269Z"
   },
   {
    "duration": 13,
    "start_time": "2024-12-11T15:46:33.675Z"
   },
   {
    "duration": 15,
    "start_time": "2024-12-11T15:47:01.881Z"
   },
   {
    "duration": 15,
    "start_time": "2024-12-11T15:47:34.501Z"
   },
   {
    "duration": 5,
    "start_time": "2024-12-11T15:51:09.375Z"
   },
   {
    "duration": 5,
    "start_time": "2024-12-11T15:51:40.140Z"
   },
   {
    "duration": 15,
    "start_time": "2024-12-11T15:52:05.518Z"
   },
   {
    "duration": 14,
    "start_time": "2024-12-11T15:56:17.793Z"
   },
   {
    "duration": 15,
    "start_time": "2024-12-11T15:57:22.236Z"
   },
   {
    "duration": 23,
    "start_time": "2024-12-11T15:57:57.658Z"
   },
   {
    "duration": 14,
    "start_time": "2024-12-11T15:58:56.597Z"
   },
   {
    "duration": 15,
    "start_time": "2024-12-11T15:58:59.055Z"
   },
   {
    "duration": 23,
    "start_time": "2024-12-11T16:03:30.605Z"
   },
   {
    "duration": 25,
    "start_time": "2024-12-11T16:04:21.364Z"
   },
   {
    "duration": 13,
    "start_time": "2024-12-11T16:05:18.683Z"
   },
   {
    "duration": 15,
    "start_time": "2024-12-11T16:05:20.848Z"
   },
   {
    "duration": 8,
    "start_time": "2024-12-11T16:06:23.621Z"
   },
   {
    "duration": 22,
    "start_time": "2024-12-11T16:08:29.692Z"
   },
   {
    "duration": 4,
    "start_time": "2024-12-11T16:10:37.631Z"
   },
   {
    "duration": 5,
    "start_time": "2024-12-11T16:11:27.654Z"
   },
   {
    "duration": 4,
    "start_time": "2024-12-11T16:11:41.684Z"
   },
   {
    "duration": 4,
    "start_time": "2024-12-11T16:12:28.754Z"
   },
   {
    "duration": 5,
    "start_time": "2024-12-11T16:16:27.328Z"
   },
   {
    "duration": 36,
    "start_time": "2024-12-11T16:17:17.777Z"
   },
   {
    "duration": 4,
    "start_time": "2024-12-11T16:21:17.602Z"
   },
   {
    "duration": 3,
    "start_time": "2024-12-11T16:21:25.706Z"
   },
   {
    "duration": 3,
    "start_time": "2024-12-11T16:22:16.532Z"
   },
   {
    "duration": 5,
    "start_time": "2024-12-11T16:22:30.009Z"
   },
   {
    "duration": 408,
    "start_time": "2024-12-11T16:22:54.316Z"
   },
   {
    "duration": 3,
    "start_time": "2024-12-11T16:23:14.357Z"
   },
   {
    "duration": 148,
    "start_time": "2024-12-11T16:23:15.837Z"
   },
   {
    "duration": 3,
    "start_time": "2024-12-11T16:23:21.149Z"
   },
   {
    "duration": 7,
    "start_time": "2024-12-11T16:23:24.140Z"
   },
   {
    "duration": 3,
    "start_time": "2024-12-11T16:23:27.930Z"
   },
   {
    "duration": 18,
    "start_time": "2024-12-11T16:23:32.538Z"
   },
   {
    "duration": 3,
    "start_time": "2024-12-11T16:23:33.863Z"
   },
   {
    "duration": 8,
    "start_time": "2024-12-11T16:23:36.489Z"
   },
   {
    "duration": 11,
    "start_time": "2024-12-11T16:23:39.814Z"
   },
   {
    "duration": 6,
    "start_time": "2024-12-11T16:23:41.488Z"
   },
   {
    "duration": 13,
    "start_time": "2024-12-11T16:23:46.507Z"
   },
   {
    "duration": 7,
    "start_time": "2024-12-11T16:23:48.146Z"
   },
   {
    "duration": 4,
    "start_time": "2024-12-11T16:23:50.195Z"
   },
   {
    "duration": 19,
    "start_time": "2024-12-11T16:23:52.833Z"
   },
   {
    "duration": 30,
    "start_time": "2024-12-11T16:23:55.438Z"
   },
   {
    "duration": 18,
    "start_time": "2024-12-11T16:23:58.945Z"
   },
   {
    "duration": 25,
    "start_time": "2024-12-11T16:24:01.536Z"
   },
   {
    "duration": 12,
    "start_time": "2024-12-11T16:24:04.972Z"
   },
   {
    "duration": 15,
    "start_time": "2024-12-11T16:24:07.994Z"
   },
   {
    "duration": 18,
    "start_time": "2024-12-11T16:24:10.473Z"
   },
   {
    "duration": 38,
    "start_time": "2024-12-11T16:24:53.617Z"
   },
   {
    "duration": 31,
    "start_time": "2024-12-11T17:20:41.799Z"
   },
   {
    "duration": 7,
    "start_time": "2024-12-11T17:21:16.345Z"
   },
   {
    "duration": 4,
    "start_time": "2024-12-11T17:21:17.830Z"
   },
   {
    "duration": 12,
    "start_time": "2024-12-11T17:21:20.399Z"
   },
   {
    "duration": 10,
    "start_time": "2024-12-11T17:21:24.653Z"
   },
   {
    "duration": 17,
    "start_time": "2024-12-11T17:21:37.123Z"
   },
   {
    "duration": 25,
    "start_time": "2024-12-11T17:21:39.287Z"
   },
   {
    "duration": 12,
    "start_time": "2024-12-11T17:21:43.207Z"
   },
   {
    "duration": 25,
    "start_time": "2024-12-11T17:21:51.000Z"
   },
   {
    "duration": 13,
    "start_time": "2024-12-11T17:23:11.554Z"
   },
   {
    "duration": 7,
    "start_time": "2024-12-11T17:24:51.283Z"
   },
   {
    "duration": 4,
    "start_time": "2024-12-11T17:24:52.994Z"
   },
   {
    "duration": 9,
    "start_time": "2024-12-11T17:25:30.962Z"
   },
   {
    "duration": 3,
    "start_time": "2024-12-11T17:26:00.765Z"
   },
   {
    "duration": 14,
    "start_time": "2024-12-11T17:26:02.908Z"
   },
   {
    "duration": 3,
    "start_time": "2024-12-11T17:26:14.936Z"
   },
   {
    "duration": 7,
    "start_time": "2024-12-11T17:26:16.817Z"
   },
   {
    "duration": 7,
    "start_time": "2024-12-11T17:26:33.449Z"
   },
   {
    "duration": 19,
    "start_time": "2024-12-11T17:27:12.878Z"
   },
   {
    "duration": 25,
    "start_time": "2024-12-11T17:27:15.409Z"
   },
   {
    "duration": 13,
    "start_time": "2024-12-11T17:27:23.164Z"
   },
   {
    "duration": 13,
    "start_time": "2024-12-11T17:27:26.722Z"
   },
   {
    "duration": 22,
    "start_time": "2024-12-11T17:27:41.752Z"
   },
   {
    "duration": 3,
    "start_time": "2024-12-11T17:30:23.111Z"
   },
   {
    "duration": 3,
    "start_time": "2024-12-11T17:30:31.017Z"
   },
   {
    "duration": 17,
    "start_time": "2024-12-11T17:30:42.600Z"
   },
   {
    "duration": 14,
    "start_time": "2024-12-11T17:30:51.399Z"
   },
   {
    "duration": 13,
    "start_time": "2024-12-11T17:30:59.983Z"
   },
   {
    "duration": 16,
    "start_time": "2024-12-11T17:31:06.602Z"
   },
   {
    "duration": 14,
    "start_time": "2024-12-11T17:32:01.347Z"
   },
   {
    "duration": 17,
    "start_time": "2024-12-11T17:32:04.148Z"
   },
   {
    "duration": 15,
    "start_time": "2024-12-11T17:32:07.828Z"
   },
   {
    "duration": 23,
    "start_time": "2024-12-11T17:32:10.797Z"
   },
   {
    "duration": 15,
    "start_time": "2024-12-11T17:32:59.468Z"
   },
   {
    "duration": 20,
    "start_time": "2024-12-11T17:33:10.538Z"
   },
   {
    "duration": 40,
    "start_time": "2024-12-11T17:33:21.430Z"
   },
   {
    "duration": 14,
    "start_time": "2024-12-11T17:33:33.884Z"
   },
   {
    "duration": 14,
    "start_time": "2024-12-11T17:33:37.433Z"
   },
   {
    "duration": 19,
    "start_time": "2024-12-11T17:34:10.967Z"
   },
   {
    "duration": 14,
    "start_time": "2024-12-11T17:34:33.802Z"
   },
   {
    "duration": 13,
    "start_time": "2024-12-11T17:34:56.284Z"
   },
   {
    "duration": 14,
    "start_time": "2024-12-11T17:35:29.090Z"
   },
   {
    "duration": 79,
    "start_time": "2024-12-11T17:35:52.584Z"
   },
   {
    "duration": 3,
    "start_time": "2024-12-11T17:35:54.800Z"
   },
   {
    "duration": 7,
    "start_time": "2024-12-11T17:36:07.484Z"
   },
   {
    "duration": 8,
    "start_time": "2024-12-11T17:40:02.695Z"
   },
   {
    "duration": 7,
    "start_time": "2024-12-11T17:40:08.143Z"
   },
   {
    "duration": 15,
    "start_time": "2024-12-11T17:40:34.326Z"
   },
   {
    "duration": 18,
    "start_time": "2024-12-11T17:43:18.892Z"
   },
   {
    "duration": 26,
    "start_time": "2024-12-11T17:43:21.633Z"
   },
   {
    "duration": 13,
    "start_time": "2024-12-11T17:43:27.052Z"
   },
   {
    "duration": 13,
    "start_time": "2024-12-11T17:43:29.253Z"
   },
   {
    "duration": 14,
    "start_time": "2024-12-11T17:43:30.909Z"
   },
   {
    "duration": 15,
    "start_time": "2024-12-11T17:43:33.006Z"
   },
   {
    "duration": 16,
    "start_time": "2024-12-11T17:43:36.968Z"
   },
   {
    "duration": 13,
    "start_time": "2024-12-11T17:47:09.832Z"
   },
   {
    "duration": 18,
    "start_time": "2024-12-11T17:48:52.155Z"
   },
   {
    "duration": 18,
    "start_time": "2024-12-11T17:49:27.291Z"
   },
   {
    "duration": 25,
    "start_time": "2024-12-11T17:49:30.015Z"
   },
   {
    "duration": 13,
    "start_time": "2024-12-11T17:49:32.680Z"
   },
   {
    "duration": 12,
    "start_time": "2024-12-11T17:49:34.981Z"
   },
   {
    "duration": 14,
    "start_time": "2024-12-11T17:49:38.290Z"
   },
   {
    "duration": 14,
    "start_time": "2024-12-11T17:49:42.266Z"
   },
   {
    "duration": 18,
    "start_time": "2024-12-11T17:50:34.131Z"
   },
   {
    "duration": 20,
    "start_time": "2024-12-11T17:50:38.194Z"
   },
   {
    "duration": 13,
    "start_time": "2024-12-11T17:52:24.071Z"
   },
   {
    "duration": 14,
    "start_time": "2024-12-11T17:52:27.482Z"
   },
   {
    "duration": 23,
    "start_time": "2024-12-11T17:52:33.646Z"
   },
   {
    "duration": 15,
    "start_time": "2024-12-11T17:52:44.226Z"
   },
   {
    "duration": 13,
    "start_time": "2024-12-11T17:52:52.486Z"
   },
   {
    "duration": 25,
    "start_time": "2024-12-11T17:52:58.372Z"
   },
   {
    "duration": 18,
    "start_time": "2024-12-11T17:54:22.959Z"
   },
   {
    "duration": 29,
    "start_time": "2024-12-11T17:54:26.714Z"
   },
   {
    "duration": 19,
    "start_time": "2024-12-11T17:56:54.462Z"
   },
   {
    "duration": 326,
    "start_time": "2024-12-11T17:59:00.843Z"
   },
   {
    "duration": 47,
    "start_time": "2024-12-11T17:59:20.899Z"
   },
   {
    "duration": 2,
    "start_time": "2024-12-11T17:59:31.580Z"
   },
   {
    "duration": 154,
    "start_time": "2024-12-11T17:59:32.991Z"
   },
   {
    "duration": 8,
    "start_time": "2024-12-11T17:59:36.018Z"
   },
   {
    "duration": 7,
    "start_time": "2024-12-11T17:59:36.842Z"
   },
   {
    "duration": 4,
    "start_time": "2024-12-11T17:59:39.488Z"
   },
   {
    "duration": 7,
    "start_time": "2024-12-11T17:59:40.136Z"
   },
   {
    "duration": 3,
    "start_time": "2024-12-11T17:59:40.961Z"
   },
   {
    "duration": 9,
    "start_time": "2024-12-11T17:59:41.323Z"
   },
   {
    "duration": 9,
    "start_time": "2024-12-11T17:59:41.506Z"
   },
   {
    "duration": 6,
    "start_time": "2024-12-11T17:59:42.236Z"
   },
   {
    "duration": 15,
    "start_time": "2024-12-11T17:59:42.983Z"
   },
   {
    "duration": 7,
    "start_time": "2024-12-11T17:59:43.198Z"
   },
   {
    "duration": 20,
    "start_time": "2024-12-11T17:59:45.014Z"
   },
   {
    "duration": 4,
    "start_time": "2024-12-11T17:59:45.530Z"
   },
   {
    "duration": 8,
    "start_time": "2024-12-11T17:59:47.019Z"
   },
   {
    "duration": 7,
    "start_time": "2024-12-11T17:59:47.949Z"
   },
   {
    "duration": 12,
    "start_time": "2024-12-11T17:59:49.391Z"
   },
   {
    "duration": 6,
    "start_time": "2024-12-11T17:59:49.920Z"
   },
   {
    "duration": 10,
    "start_time": "2024-12-11T17:59:52.467Z"
   },
   {
    "duration": 6,
    "start_time": "2024-12-11T17:59:53.889Z"
   },
   {
    "duration": 13,
    "start_time": "2024-12-11T17:59:55.075Z"
   },
   {
    "duration": 7,
    "start_time": "2024-12-11T17:59:55.279Z"
   },
   {
    "duration": 12,
    "start_time": "2024-12-11T17:59:56.102Z"
   },
   {
    "duration": 7,
    "start_time": "2024-12-11T17:59:57.242Z"
   },
   {
    "duration": 4,
    "start_time": "2024-12-11T17:59:57.489Z"
   },
   {
    "duration": 7,
    "start_time": "2024-12-11T17:59:57.760Z"
   },
   {
    "duration": 8,
    "start_time": "2024-12-11T17:59:59.908Z"
   },
   {
    "duration": 20,
    "start_time": "2024-12-11T18:00:03.121Z"
   },
   {
    "duration": 19,
    "start_time": "2024-12-11T18:00:08.510Z"
   },
   {
    "duration": 45,
    "start_time": "2024-12-11T18:00:11.135Z"
   },
   {
    "duration": 16,
    "start_time": "2024-12-11T18:01:34.736Z"
   },
   {
    "duration": 15,
    "start_time": "2024-12-11T18:01:41.427Z"
   },
   {
    "duration": 115,
    "start_time": "2024-12-11T18:01:44.050Z"
   },
   {
    "duration": 10,
    "start_time": "2024-12-11T18:02:53.925Z"
   },
   {
    "duration": 7,
    "start_time": "2024-12-11T18:02:55.858Z"
   },
   {
    "duration": 3,
    "start_time": "2024-12-11T18:02:57.813Z"
   },
   {
    "duration": 8,
    "start_time": "2024-12-11T18:02:59.942Z"
   },
   {
    "duration": 22,
    "start_time": "2024-12-11T18:03:17.734Z"
   },
   {
    "duration": 17,
    "start_time": "2024-12-11T18:03:33.600Z"
   },
   {
    "duration": 15,
    "start_time": "2024-12-11T18:03:35.337Z"
   },
   {
    "duration": 12,
    "start_time": "2024-12-11T18:03:37.852Z"
   },
   {
    "duration": 23,
    "start_time": "2024-12-11T18:03:41.751Z"
   },
   {
    "duration": 25,
    "start_time": "2024-12-11T18:08:12.750Z"
   },
   {
    "duration": 26,
    "start_time": "2024-12-11T18:08:40.459Z"
   },
   {
    "duration": 13,
    "start_time": "2024-12-11T18:08:49.812Z"
   },
   {
    "duration": 12,
    "start_time": "2024-12-11T18:08:52.748Z"
   },
   {
    "duration": 22,
    "start_time": "2024-12-11T18:08:55.098Z"
   },
   {
    "duration": 21,
    "start_time": "2024-12-11T18:10:19.663Z"
   },
   {
    "duration": 29,
    "start_time": "2024-12-11T18:10:46.181Z"
   },
   {
    "duration": 24,
    "start_time": "2024-12-11T18:10:52.461Z"
   },
   {
    "duration": 12,
    "start_time": "2024-12-11T18:11:01.774Z"
   },
   {
    "duration": 11,
    "start_time": "2024-12-11T18:11:05.120Z"
   },
   {
    "duration": 21,
    "start_time": "2024-12-11T18:11:07.675Z"
   },
   {
    "duration": 23,
    "start_time": "2024-12-11T18:11:10.138Z"
   },
   {
    "duration": 9,
    "start_time": "2024-12-11T18:11:36.486Z"
   },
   {
    "duration": 21,
    "start_time": "2024-12-11T18:11:45.466Z"
   },
   {
    "duration": 12,
    "start_time": "2024-12-11T18:13:21.095Z"
   },
   {
    "duration": 8,
    "start_time": "2024-12-11T18:14:09.449Z"
   },
   {
    "duration": 22,
    "start_time": "2024-12-11T18:14:44.172Z"
   },
   {
    "duration": 23,
    "start_time": "2024-12-11T18:15:20.326Z"
   },
   {
    "duration": 14,
    "start_time": "2024-12-11T18:15:41.891Z"
   },
   {
    "duration": 13,
    "start_time": "2024-12-11T18:16:41.488Z"
   },
   {
    "duration": 13,
    "start_time": "2024-12-11T18:16:43.910Z"
   },
   {
    "duration": 16,
    "start_time": "2024-12-11T18:18:38.888Z"
   },
   {
    "duration": 23,
    "start_time": "2024-12-11T18:19:10.351Z"
   },
   {
    "duration": 42,
    "start_time": "2024-12-11T18:19:14.000Z"
   },
   {
    "duration": 20,
    "start_time": "2024-12-11T18:19:55.097Z"
   },
   {
    "duration": 15,
    "start_time": "2024-12-11T18:20:10.533Z"
   },
   {
    "duration": 25,
    "start_time": "2024-12-11T18:20:50.850Z"
   },
   {
    "duration": 16,
    "start_time": "2024-12-11T18:21:03.410Z"
   },
   {
    "duration": 26,
    "start_time": "2024-12-11T18:21:07.927Z"
   },
   {
    "duration": 8,
    "start_time": "2024-12-11T18:22:35.530Z"
   },
   {
    "duration": 22,
    "start_time": "2024-12-11T18:23:07.566Z"
   },
   {
    "duration": 26,
    "start_time": "2024-12-11T18:29:14.596Z"
   },
   {
    "duration": 26,
    "start_time": "2024-12-11T18:30:11.559Z"
   },
   {
    "duration": 19,
    "start_time": "2024-12-11T18:30:48.369Z"
   },
   {
    "duration": 21,
    "start_time": "2024-12-11T18:31:04.428Z"
   },
   {
    "duration": 17,
    "start_time": "2024-12-11T18:31:16.717Z"
   },
   {
    "duration": 25,
    "start_time": "2024-12-11T18:31:28.061Z"
   },
   {
    "duration": 16,
    "start_time": "2024-12-11T18:31:30.050Z"
   },
   {
    "duration": 29,
    "start_time": "2024-12-11T18:32:31.380Z"
   },
   {
    "duration": 17,
    "start_time": "2024-12-11T18:32:40.605Z"
   },
   {
    "duration": 25,
    "start_time": "2024-12-11T18:33:01.249Z"
   },
   {
    "duration": 16,
    "start_time": "2024-12-11T18:33:07.692Z"
   },
   {
    "duration": 40,
    "start_time": "2024-12-11T18:33:20.328Z"
   },
   {
    "duration": 14,
    "start_time": "2024-12-11T18:35:18.272Z"
   },
   {
    "duration": 22,
    "start_time": "2024-12-11T18:35:24.607Z"
   },
   {
    "duration": 9,
    "start_time": "2024-12-11T18:35:39.779Z"
   },
   {
    "duration": 9,
    "start_time": "2024-12-11T18:35:51.818Z"
   },
   {
    "duration": 33,
    "start_time": "2024-12-11T18:36:01.350Z"
   },
   {
    "duration": 16,
    "start_time": "2024-12-11T18:36:02.972Z"
   },
   {
    "duration": 10,
    "start_time": "2024-12-11T18:36:05.854Z"
   },
   {
    "duration": 15,
    "start_time": "2024-12-11T18:36:27.263Z"
   },
   {
    "duration": 8,
    "start_time": "2024-12-11T18:36:30.380Z"
   },
   {
    "duration": 10,
    "start_time": "2024-12-11T18:36:32.766Z"
   },
   {
    "duration": 23,
    "start_time": "2024-12-11T18:36:37.930Z"
   },
   {
    "duration": 11,
    "start_time": "2024-12-11T18:36:42.596Z"
   },
   {
    "duration": 6,
    "start_time": "2024-12-11T18:40:14.765Z"
   },
   {
    "duration": 6,
    "start_time": "2024-12-11T18:41:05.545Z"
   },
   {
    "duration": 16,
    "start_time": "2024-12-11T18:49:33.632Z"
   },
   {
    "duration": 43,
    "start_time": "2024-12-11T18:50:02.261Z"
   },
   {
    "duration": 45,
    "start_time": "2024-12-11T18:51:11.598Z"
   },
   {
    "duration": 45,
    "start_time": "2024-12-11T18:51:45.535Z"
   },
   {
    "duration": 10,
    "start_time": "2024-12-11T18:52:22.589Z"
   },
   {
    "duration": 8,
    "start_time": "2024-12-11T18:52:25.987Z"
   },
   {
    "duration": 3,
    "start_time": "2024-12-11T18:54:42.747Z"
   },
   {
    "duration": 6,
    "start_time": "2024-12-11T20:41:59.120Z"
   },
   {
    "duration": 3,
    "start_time": "2024-12-11T20:45:07.609Z"
   },
   {
    "duration": 4,
    "start_time": "2024-12-11T20:48:35.889Z"
   },
   {
    "duration": 17,
    "start_time": "2024-12-11T20:49:40.572Z"
   },
   {
    "duration": 5,
    "start_time": "2024-12-11T20:50:18.365Z"
   },
   {
    "duration": 17,
    "start_time": "2024-12-11T20:50:19.993Z"
   },
   {
    "duration": 14,
    "start_time": "2024-12-11T20:51:56.088Z"
   },
   {
    "duration": 16,
    "start_time": "2024-12-11T20:52:33.818Z"
   },
   {
    "duration": 5,
    "start_time": "2024-12-11T20:52:36.977Z"
   },
   {
    "duration": 14,
    "start_time": "2024-12-11T20:52:39.284Z"
   },
   {
    "duration": 5,
    "start_time": "2024-12-11T20:53:43.212Z"
   },
   {
    "duration": 13,
    "start_time": "2024-12-11T20:53:44.684Z"
   },
   {
    "duration": 15,
    "start_time": "2024-12-11T20:53:54.798Z"
   },
   {
    "duration": 13,
    "start_time": "2024-12-11T20:57:29.422Z"
   },
   {
    "duration": 13,
    "start_time": "2024-12-11T20:58:05.588Z"
   },
   {
    "duration": 16,
    "start_time": "2024-12-11T20:58:14.227Z"
   },
   {
    "duration": 13,
    "start_time": "2024-12-11T20:58:16.100Z"
   },
   {
    "duration": 5,
    "start_time": "2024-12-11T20:58:38.701Z"
   },
   {
    "duration": 17,
    "start_time": "2024-12-11T20:58:44.133Z"
   },
   {
    "duration": 13,
    "start_time": "2024-12-11T20:58:49.307Z"
   },
   {
    "duration": 15,
    "start_time": "2024-12-11T21:04:52.734Z"
   },
   {
    "duration": 17,
    "start_time": "2024-12-11T21:05:29.293Z"
   },
   {
    "duration": 13,
    "start_time": "2024-12-11T21:05:32.672Z"
   },
   {
    "duration": 16,
    "start_time": "2024-12-11T21:06:03.526Z"
   },
   {
    "duration": 17,
    "start_time": "2024-12-11T21:06:07.234Z"
   },
   {
    "duration": 16,
    "start_time": "2024-12-11T21:06:34.581Z"
   },
   {
    "duration": 16,
    "start_time": "2024-12-11T21:06:45.503Z"
   },
   {
    "duration": 16,
    "start_time": "2024-12-11T21:07:30.010Z"
   },
   {
    "duration": 16,
    "start_time": "2024-12-11T21:08:17.916Z"
   },
   {
    "duration": 18,
    "start_time": "2024-12-11T21:08:50.071Z"
   },
   {
    "duration": 14,
    "start_time": "2024-12-11T21:09:00.213Z"
   },
   {
    "duration": 4,
    "start_time": "2024-12-11T21:09:42.740Z"
   },
   {
    "duration": 6,
    "start_time": "2024-12-11T21:12:50.814Z"
   },
   {
    "duration": 19,
    "start_time": "2024-12-11T21:12:54.409Z"
   },
   {
    "duration": 17,
    "start_time": "2024-12-11T21:13:51.003Z"
   },
   {
    "duration": 13,
    "start_time": "2024-12-11T21:15:53.074Z"
   },
   {
    "duration": 404,
    "start_time": "2024-12-11T21:17:13.798Z"
   },
   {
    "duration": 45,
    "start_time": "2024-12-11T21:17:20.347Z"
   },
   {
    "duration": 5,
    "start_time": "2024-12-11T21:17:36.035Z"
   },
   {
    "duration": 14,
    "start_time": "2024-12-11T21:17:50.313Z"
   },
   {
    "duration": 5,
    "start_time": "2024-12-11T21:20:38.772Z"
   },
   {
    "duration": 4,
    "start_time": "2024-12-11T21:21:15.411Z"
   },
   {
    "duration": 4,
    "start_time": "2024-12-11T21:21:30.814Z"
   },
   {
    "duration": 13,
    "start_time": "2024-12-11T21:22:31.786Z"
   },
   {
    "duration": 12,
    "start_time": "2024-12-11T21:22:34.546Z"
   },
   {
    "duration": 15,
    "start_time": "2024-12-11T21:25:47.336Z"
   },
   {
    "duration": 4,
    "start_time": "2024-12-11T21:26:29.130Z"
   },
   {
    "duration": 14,
    "start_time": "2024-12-11T21:29:40.898Z"
   },
   {
    "duration": 13,
    "start_time": "2024-12-11T21:29:48.502Z"
   },
   {
    "duration": 15,
    "start_time": "2024-12-11T21:29:54.077Z"
   },
   {
    "duration": 13,
    "start_time": "2024-12-11T21:30:00.636Z"
   },
   {
    "duration": 14,
    "start_time": "2024-12-11T21:32:24.643Z"
   },
   {
    "duration": 4,
    "start_time": "2024-12-11T21:32:37.778Z"
   },
   {
    "duration": 14,
    "start_time": "2024-12-11T21:32:40.033Z"
   },
   {
    "duration": 4,
    "start_time": "2024-12-11T21:34:33.900Z"
   },
   {
    "duration": 4,
    "start_time": "2024-12-11T21:34:52.977Z"
   },
   {
    "duration": 20,
    "start_time": "2024-12-11T21:34:58.752Z"
   },
   {
    "duration": 18,
    "start_time": "2024-12-11T21:35:07.978Z"
   },
   {
    "duration": 18,
    "start_time": "2024-12-11T21:35:58.897Z"
   },
   {
    "duration": 13,
    "start_time": "2024-12-11T21:37:17.758Z"
   },
   {
    "duration": 4,
    "start_time": "2024-12-11T21:37:23.240Z"
   },
   {
    "duration": 4,
    "start_time": "2024-12-11T21:46:44.845Z"
   },
   {
    "duration": 4,
    "start_time": "2024-12-11T21:51:49.426Z"
   },
   {
    "duration": 14,
    "start_time": "2024-12-11T21:52:16.999Z"
   },
   {
    "duration": 15,
    "start_time": "2024-12-11T21:52:20.553Z"
   },
   {
    "duration": 5,
    "start_time": "2024-12-11T21:52:25.915Z"
   },
   {
    "duration": 14,
    "start_time": "2024-12-11T22:03:44.670Z"
   },
   {
    "duration": 5,
    "start_time": "2024-12-11T22:04:12.370Z"
   },
   {
    "duration": 15,
    "start_time": "2024-12-11T22:04:14.704Z"
   },
   {
    "duration": 14,
    "start_time": "2024-12-11T22:05:20.375Z"
   },
   {
    "duration": 13,
    "start_time": "2024-12-11T22:05:28.335Z"
   },
   {
    "duration": 156,
    "start_time": "2024-12-12T03:10:38.032Z"
   },
   {
    "duration": 14,
    "start_time": "2024-12-12T03:28:02.323Z"
   },
   {
    "duration": 13,
    "start_time": "2024-12-12T03:28:19.197Z"
   },
   {
    "duration": 569,
    "start_time": "2024-12-12T03:34:49.914Z"
   },
   {
    "duration": 13,
    "start_time": "2024-12-12T03:48:09.649Z"
   },
   {
    "duration": 2166,
    "start_time": "2024-12-12T03:49:51.244Z"
   },
   {
    "duration": 16,
    "start_time": "2024-12-12T03:50:09.619Z"
   },
   {
    "duration": 14,
    "start_time": "2024-12-12T03:50:39.301Z"
   },
   {
    "duration": 13,
    "start_time": "2024-12-12T03:51:09.592Z"
   },
   {
    "duration": 15,
    "start_time": "2024-12-12T03:51:12.921Z"
   },
   {
    "duration": 2,
    "start_time": "2024-12-12T03:51:54.126Z"
   },
   {
    "duration": 239,
    "start_time": "2024-12-12T03:51:56.496Z"
   },
   {
    "duration": 10,
    "start_time": "2024-12-12T03:51:57.106Z"
   },
   {
    "duration": 11,
    "start_time": "2024-12-12T03:51:57.250Z"
   },
   {
    "duration": 3,
    "start_time": "2024-12-12T03:51:57.842Z"
   },
   {
    "duration": 8,
    "start_time": "2024-12-12T03:51:58.015Z"
   },
   {
    "duration": 10,
    "start_time": "2024-12-12T03:51:58.477Z"
   },
   {
    "duration": 9,
    "start_time": "2024-12-12T03:51:58.797Z"
   },
   {
    "duration": 8,
    "start_time": "2024-12-12T03:51:58.966Z"
   },
   {
    "duration": 4,
    "start_time": "2024-12-12T03:51:59.643Z"
   },
   {
    "duration": 15,
    "start_time": "2024-12-12T03:52:00.337Z"
   },
   {
    "duration": 7,
    "start_time": "2024-12-12T03:52:00.507Z"
   },
   {
    "duration": 17,
    "start_time": "2024-12-12T03:52:01.181Z"
   },
   {
    "duration": 4,
    "start_time": "2024-12-12T03:52:01.363Z"
   },
   {
    "duration": 8,
    "start_time": "2024-12-12T03:52:01.877Z"
   },
   {
    "duration": 7,
    "start_time": "2024-12-12T03:52:02.045Z"
   },
   {
    "duration": 12,
    "start_time": "2024-12-12T03:52:02.407Z"
   },
   {
    "duration": 6,
    "start_time": "2024-12-12T03:52:02.576Z"
   },
   {
    "duration": 10,
    "start_time": "2024-12-12T03:52:03.290Z"
   },
   {
    "duration": 6,
    "start_time": "2024-12-12T03:52:05.086Z"
   },
   {
    "duration": 14,
    "start_time": "2024-12-12T03:52:05.409Z"
   },
   {
    "duration": 6,
    "start_time": "2024-12-12T03:52:05.563Z"
   },
   {
    "duration": 13,
    "start_time": "2024-12-12T03:52:06.194Z"
   },
   {
    "duration": 7,
    "start_time": "2024-12-12T03:52:06.673Z"
   },
   {
    "duration": 4,
    "start_time": "2024-12-12T03:52:06.837Z"
   },
   {
    "duration": 8,
    "start_time": "2024-12-12T03:52:07.004Z"
   },
   {
    "duration": 8,
    "start_time": "2024-12-12T03:52:08.302Z"
   },
   {
    "duration": 21,
    "start_time": "2024-12-12T03:52:08.824Z"
   },
   {
    "duration": 17,
    "start_time": "2024-12-12T03:52:08.985Z"
   },
   {
    "duration": 26,
    "start_time": "2024-12-12T03:52:09.148Z"
   },
   {
    "duration": 14,
    "start_time": "2024-12-12T03:52:09.318Z"
   },
   {
    "duration": 8,
    "start_time": "2024-12-12T03:52:09.482Z"
   },
   {
    "duration": 114,
    "start_time": "2024-12-12T03:52:09.655Z"
   },
   {
    "duration": 15,
    "start_time": "2024-12-12T03:52:10.474Z"
   },
   {
    "duration": 8,
    "start_time": "2024-12-12T03:52:11.026Z"
   },
   {
    "duration": 18,
    "start_time": "2024-12-12T03:52:22.299Z"
   },
   {
    "duration": 3,
    "start_time": "2024-12-12T03:52:43.794Z"
   },
   {
    "duration": 159,
    "start_time": "2024-12-12T03:52:46.139Z"
   },
   {
    "duration": 3,
    "start_time": "2024-12-12T03:52:52.417Z"
   },
   {
    "duration": 9,
    "start_time": "2024-12-12T03:52:55.407Z"
   },
   {
    "duration": 4,
    "start_time": "2024-12-12T03:52:58.991Z"
   },
   {
    "duration": 3,
    "start_time": "2024-12-12T03:53:05.202Z"
   },
   {
    "duration": 17,
    "start_time": "2024-12-12T03:53:11.357Z"
   },
   {
    "duration": 3,
    "start_time": "2024-12-12T03:53:14.321Z"
   },
   {
    "duration": 7,
    "start_time": "2024-12-12T03:53:16.687Z"
   },
   {
    "duration": 12,
    "start_time": "2024-12-12T03:53:24.800Z"
   },
   {
    "duration": 6,
    "start_time": "2024-12-12T03:53:27.676Z"
   },
   {
    "duration": 13,
    "start_time": "2024-12-12T03:53:33.748Z"
   },
   {
    "duration": 7,
    "start_time": "2024-12-12T03:53:37.943Z"
   },
   {
    "duration": 4,
    "start_time": "2024-12-12T03:53:40.020Z"
   },
   {
    "duration": 8,
    "start_time": "2024-12-12T03:53:45.378Z"
   },
   {
    "duration": 7,
    "start_time": "2024-12-12T03:53:50.405Z"
   },
   {
    "duration": 25,
    "start_time": "2024-12-12T03:53:54.707Z"
   },
   {
    "duration": 16,
    "start_time": "2024-12-12T03:54:00.692Z"
   },
   {
    "duration": 25,
    "start_time": "2024-12-12T03:54:06.601Z"
   },
   {
    "duration": 23,
    "start_time": "2024-12-12T03:54:19.800Z"
   },
   {
    "duration": 23,
    "start_time": "2024-12-12T03:54:33.257Z"
   },
   {
    "duration": 7,
    "start_time": "2024-12-12T03:54:47.592Z"
   },
   {
    "duration": 3,
    "start_time": "2024-12-12T03:54:49.583Z"
   },
   {
    "duration": 8,
    "start_time": "2024-12-12T03:54:51.865Z"
   },
   {
    "duration": 21,
    "start_time": "2024-12-12T03:55:02.280Z"
   },
   {
    "duration": 10,
    "start_time": "2024-12-12T03:55:48.920Z"
   },
   {
    "duration": 7,
    "start_time": "2024-12-12T03:55:52.435Z"
   },
   {
    "duration": 3,
    "start_time": "2024-12-12T03:55:54.957Z"
   },
   {
    "duration": 22,
    "start_time": "2024-12-12T03:56:05.653Z"
   },
   {
    "duration": 23,
    "start_time": "2024-12-12T03:57:09.632Z"
   },
   {
    "duration": 13,
    "start_time": "2024-12-12T03:57:31.009Z"
   },
   {
    "duration": 8,
    "start_time": "2024-12-12T03:57:35.188Z"
   },
   {
    "duration": 13,
    "start_time": "2024-12-12T03:59:14.356Z"
   },
   {
    "duration": 6,
    "start_time": "2024-12-12T03:59:57.538Z"
   },
   {
    "duration": 4,
    "start_time": "2024-12-12T03:59:59.894Z"
   },
   {
    "duration": 7,
    "start_time": "2024-12-12T04:00:03.191Z"
   },
   {
    "duration": 8,
    "start_time": "2024-12-12T04:00:09.369Z"
   },
   {
    "duration": 20,
    "start_time": "2024-12-12T04:00:16.016Z"
   },
   {
    "duration": 15,
    "start_time": "2024-12-12T04:00:21.057Z"
   },
   {
    "duration": 26,
    "start_time": "2024-12-12T04:00:25.684Z"
   },
   {
    "duration": 14,
    "start_time": "2024-12-12T04:00:30.123Z"
   },
   {
    "duration": 9,
    "start_time": "2024-12-12T04:00:35.001Z"
   },
   {
    "duration": 34,
    "start_time": "2024-12-12T04:02:23.651Z"
   },
   {
    "duration": 23,
    "start_time": "2024-12-12T04:02:35.977Z"
   },
   {
    "duration": 24,
    "start_time": "2024-12-12T04:17:08.091Z"
   },
   {
    "duration": 22,
    "start_time": "2024-12-12T04:38:29.793Z"
   },
   {
    "duration": 12,
    "start_time": "2024-12-12T04:40:09.775Z"
   },
   {
    "duration": 9,
    "start_time": "2024-12-12T04:40:12.706Z"
   },
   {
    "duration": 2,
    "start_time": "2024-12-12T04:40:41.423Z"
   },
   {
    "duration": 167,
    "start_time": "2024-12-12T04:40:43.620Z"
   },
   {
    "duration": 13,
    "start_time": "2024-12-12T04:41:01.987Z"
   },
   {
    "duration": 7,
    "start_time": "2024-12-12T04:41:05.176Z"
   },
   {
    "duration": 12,
    "start_time": "2024-12-12T04:41:11.033Z"
   },
   {
    "duration": 7,
    "start_time": "2024-12-12T04:41:13.501Z"
   },
   {
    "duration": 3,
    "start_time": "2024-12-12T04:41:16.147Z"
   },
   {
    "duration": 7,
    "start_time": "2024-12-12T04:41:19.578Z"
   },
   {
    "duration": 23,
    "start_time": "2024-12-12T04:41:32.761Z"
   },
   {
    "duration": 3,
    "start_time": "2024-12-12T04:42:00.729Z"
   },
   {
    "duration": 153,
    "start_time": "2024-12-12T04:42:03.468Z"
   },
   {
    "duration": 12,
    "start_time": "2024-12-12T04:42:26.164Z"
   },
   {
    "duration": 7,
    "start_time": "2024-12-12T04:42:28.784Z"
   },
   {
    "duration": 3,
    "start_time": "2024-12-12T04:42:31.335Z"
   },
   {
    "duration": 83,
    "start_time": "2024-12-12T04:42:40.137Z"
   },
   {
    "duration": 2156,
    "start_time": "2024-12-13T15:07:04.502Z"
   },
   {
    "duration": 223,
    "start_time": "2024-12-13T15:07:06.660Z"
   },
   {
    "duration": 14,
    "start_time": "2024-12-13T15:07:34.902Z"
   },
   {
    "duration": 8,
    "start_time": "2024-12-13T15:07:36.855Z"
   },
   {
    "duration": 11,
    "start_time": "2024-12-13T15:07:40.446Z"
   },
   {
    "duration": 7,
    "start_time": "2024-12-13T15:07:48.726Z"
   },
   {
    "duration": 10,
    "start_time": "2024-12-13T15:07:53.326Z"
   },
   {
    "duration": 7,
    "start_time": "2024-12-13T15:07:54.853Z"
   },
   {
    "duration": 4,
    "start_time": "2024-12-13T15:07:56.342Z"
   },
   {
    "duration": 8,
    "start_time": "2024-12-13T15:07:58.870Z"
   },
   {
    "duration": 13,
    "start_time": "2024-12-13T15:08:51.110Z"
   },
   {
    "duration": 2,
    "start_time": "2024-12-13T15:09:11.437Z"
   },
   {
    "duration": 3,
    "start_time": "2024-12-13T15:09:14.347Z"
   },
   {
    "duration": 3,
    "start_time": "2024-12-13T15:09:18.325Z"
   },
   {
    "duration": 20,
    "start_time": "2024-12-13T15:09:22.648Z"
   },
   {
    "duration": 3,
    "start_time": "2024-12-13T15:09:24.348Z"
   },
   {
    "duration": 8,
    "start_time": "2024-12-13T15:09:27.324Z"
   },
   {
    "duration": 10,
    "start_time": "2024-12-13T15:09:33.547Z"
   },
   {
    "duration": 6,
    "start_time": "2024-12-13T15:09:35.339Z"
   },
   {
    "duration": 18,
    "start_time": "2024-12-13T15:09:46.880Z"
   },
   {
    "duration": 15,
    "start_time": "2024-12-13T15:09:51.037Z"
   },
   {
    "duration": 24,
    "start_time": "2024-12-13T15:09:54.687Z"
   },
   {
    "duration": 13,
    "start_time": "2024-12-13T15:10:01.718Z"
   },
   {
    "duration": 7,
    "start_time": "2024-12-13T15:10:11.343Z"
   },
   {
    "duration": 15,
    "start_time": "2024-12-13T15:10:15.103Z"
   },
   {
    "duration": 8,
    "start_time": "2024-12-13T15:10:20.676Z"
   },
   {
    "duration": 11,
    "start_time": "2024-12-13T15:10:23.310Z"
   },
   {
    "duration": 633,
    "start_time": "2024-12-13T15:10:28.368Z"
   },
   {
    "duration": 40,
    "start_time": "2024-12-13T15:10:34.987Z"
   },
   {
    "duration": 41,
    "start_time": "2024-12-13T15:11:29.612Z"
   },
   {
    "duration": 44,
    "start_time": "2024-12-13T15:11:41.541Z"
   },
   {
    "duration": 3,
    "start_time": "2024-12-13T15:11:58.051Z"
   },
   {
    "duration": 156,
    "start_time": "2024-12-13T15:11:59.666Z"
   },
   {
    "duration": 14,
    "start_time": "2024-12-13T15:12:11.563Z"
   },
   {
    "duration": 7,
    "start_time": "2024-12-13T15:12:13.506Z"
   },
   {
    "duration": 4,
    "start_time": "2024-12-13T15:12:15.460Z"
   },
   {
    "duration": 13,
    "start_time": "2024-12-13T15:12:26.708Z"
   },
   {
    "duration": 52,
    "start_time": "2024-12-13T15:12:31.411Z"
   },
   {
    "duration": 41,
    "start_time": "2024-12-13T15:12:35.042Z"
   },
   {
    "duration": 40,
    "start_time": "2024-12-13T15:13:10.677Z"
   },
   {
    "duration": 39,
    "start_time": "2024-12-13T15:13:15.179Z"
   },
   {
    "duration": 41,
    "start_time": "2024-12-13T15:15:46.347Z"
   },
   {
    "duration": 41,
    "start_time": "2024-12-13T15:15:53.323Z"
   },
   {
    "duration": 42,
    "start_time": "2024-12-13T15:17:05.625Z"
   },
   {
    "duration": 14,
    "start_time": "2024-12-13T15:17:24.983Z"
   },
   {
    "duration": 8,
    "start_time": "2024-12-13T15:17:28.982Z"
   },
   {
    "duration": 22,
    "start_time": "2024-12-13T15:17:37.234Z"
   },
   {
    "duration": 3,
    "start_time": "2024-12-13T15:17:55.237Z"
   },
   {
    "duration": 161,
    "start_time": "2024-12-13T15:17:56.878Z"
   },
   {
    "duration": 10,
    "start_time": "2024-12-13T15:18:02.077Z"
   },
   {
    "duration": 8,
    "start_time": "2024-12-13T15:18:04.357Z"
   },
   {
    "duration": 3,
    "start_time": "2024-12-13T15:18:07.158Z"
   },
   {
    "duration": 7,
    "start_time": "2024-12-13T15:18:09.162Z"
   },
   {
    "duration": 3,
    "start_time": "2024-12-13T15:18:13.279Z"
   },
   {
    "duration": 9,
    "start_time": "2024-12-13T15:18:15.157Z"
   },
   {
    "duration": 8,
    "start_time": "2024-12-13T15:18:17.478Z"
   },
   {
    "duration": 4,
    "start_time": "2024-12-13T15:18:20.370Z"
   },
   {
    "duration": 16,
    "start_time": "2024-12-13T15:18:22.718Z"
   },
   {
    "duration": 10,
    "start_time": "2024-12-13T15:18:24.918Z"
   },
   {
    "duration": 16,
    "start_time": "2024-12-13T15:18:28.051Z"
   },
   {
    "duration": 3,
    "start_time": "2024-12-13T15:18:30.260Z"
   },
   {
    "duration": 8,
    "start_time": "2024-12-13T15:18:32.291Z"
   },
   {
    "duration": 6,
    "start_time": "2024-12-13T15:18:34.851Z"
   },
   {
    "duration": 13,
    "start_time": "2024-12-13T15:18:37.778Z"
   },
   {
    "duration": 6,
    "start_time": "2024-12-13T15:18:40.051Z"
   },
   {
    "duration": 10,
    "start_time": "2024-12-13T15:18:42.714Z"
   },
   {
    "duration": 6,
    "start_time": "2024-12-13T15:18:44.798Z"
   },
   {
    "duration": 14,
    "start_time": "2024-12-13T15:18:47.307Z"
   },
   {
    "duration": 13,
    "start_time": "2024-12-13T15:18:50.240Z"
   },
   {
    "duration": 7,
    "start_time": "2024-12-13T15:18:52.480Z"
   },
   {
    "duration": 3,
    "start_time": "2024-12-13T15:18:54.878Z"
   },
   {
    "duration": 8,
    "start_time": "2024-12-13T15:18:57.012Z"
   },
   {
    "duration": 9,
    "start_time": "2024-12-13T15:19:01.485Z"
   },
   {
    "duration": 16,
    "start_time": "2024-12-13T15:19:04.746Z"
   },
   {
    "duration": 13,
    "start_time": "2024-12-13T15:19:07.812Z"
   },
   {
    "duration": 23,
    "start_time": "2024-12-13T15:19:10.531Z"
   },
   {
    "duration": 9,
    "start_time": "2024-12-13T15:19:19.907Z"
   },
   {
    "duration": 11,
    "start_time": "2024-12-13T15:19:26.018Z"
   },
   {
    "duration": 14,
    "start_time": "2024-12-13T15:19:29.091Z"
   },
   {
    "duration": 8,
    "start_time": "2024-12-13T15:19:32.530Z"
   },
   {
    "duration": 10,
    "start_time": "2024-12-13T15:19:36.525Z"
   },
   {
    "duration": 11,
    "start_time": "2024-12-13T15:19:40.601Z"
   },
   {
    "duration": 40,
    "start_time": "2024-12-13T15:19:45.227Z"
   },
   {
    "duration": 43,
    "start_time": "2024-12-13T16:00:57.020Z"
   },
   {
    "duration": 39,
    "start_time": "2024-12-13T16:01:02.187Z"
   },
   {
    "duration": 6,
    "start_time": "2024-12-13T16:34:55.561Z"
   },
   {
    "duration": 42,
    "start_time": "2024-12-13T16:35:03.233Z"
   },
   {
    "duration": 41,
    "start_time": "2024-12-13T16:35:06.193Z"
   },
   {
    "duration": 41,
    "start_time": "2024-12-13T16:35:11.248Z"
   },
   {
    "duration": 17,
    "start_time": "2024-12-13T16:35:51.815Z"
   },
   {
    "duration": 10,
    "start_time": "2024-12-13T16:36:15.120Z"
   },
   {
    "duration": 9,
    "start_time": "2024-12-13T16:36:33.071Z"
   },
   {
    "duration": 9,
    "start_time": "2024-12-13T16:36:37.961Z"
   },
   {
    "duration": 4,
    "start_time": "2024-12-13T16:36:42.079Z"
   },
   {
    "duration": 19,
    "start_time": "2024-12-13T16:37:52.850Z"
   },
   {
    "duration": 197,
    "start_time": "2024-12-13T16:38:06.530Z"
   },
   {
    "duration": 190,
    "start_time": "2024-12-13T16:38:14.271Z"
   },
   {
    "duration": 133,
    "start_time": "2024-12-13T16:39:11.994Z"
   },
   {
    "duration": 4,
    "start_time": "2024-12-13T16:40:09.425Z"
   },
   {
    "duration": 92,
    "start_time": "2024-12-13T16:40:33.427Z"
   },
   {
    "duration": 106,
    "start_time": "2024-12-13T16:42:18.238Z"
   },
   {
    "duration": 45,
    "start_time": "2024-12-13T16:43:10.664Z"
   },
   {
    "duration": 44,
    "start_time": "2024-12-13T16:43:24.206Z"
   },
   {
    "duration": 43,
    "start_time": "2024-12-13T16:43:45.815Z"
   },
   {
    "duration": 44,
    "start_time": "2024-12-13T16:43:50.862Z"
   },
   {
    "duration": 51,
    "start_time": "2024-12-13T16:44:01.193Z"
   },
   {
    "duration": 106,
    "start_time": "2024-12-13T16:44:16.850Z"
   },
   {
    "duration": 89,
    "start_time": "2024-12-13T16:45:08.015Z"
   },
   {
    "duration": 193,
    "start_time": "2024-12-13T16:46:36.829Z"
   },
   {
    "duration": 270,
    "start_time": "2024-12-13T16:47:42.153Z"
   },
   {
    "duration": 214,
    "start_time": "2024-12-13T16:49:01.704Z"
   },
   {
    "duration": 129,
    "start_time": "2024-12-13T16:49:07.528Z"
   },
   {
    "duration": 141,
    "start_time": "2024-12-13T16:49:20.902Z"
   },
   {
    "duration": 362,
    "start_time": "2024-12-13T16:50:02.975Z"
   },
   {
    "duration": 220,
    "start_time": "2024-12-13T16:50:17.800Z"
   },
   {
    "duration": 217,
    "start_time": "2024-12-13T16:50:31.603Z"
   },
   {
    "duration": 4,
    "start_time": "2024-12-13T16:59:40.285Z"
   },
   {
    "duration": 5,
    "start_time": "2024-12-13T16:59:42.540Z"
   },
   {
    "duration": 310,
    "start_time": "2024-12-13T16:59:45.873Z"
   },
   {
    "duration": 6,
    "start_time": "2024-12-13T16:59:52.574Z"
   },
   {
    "duration": 5,
    "start_time": "2024-12-13T16:59:54.392Z"
   },
   {
    "duration": 43,
    "start_time": "2024-12-13T16:59:56.418Z"
   },
   {
    "duration": 4,
    "start_time": "2024-12-13T17:00:02.521Z"
   },
   {
    "duration": 6,
    "start_time": "2024-12-13T17:00:04.467Z"
   },
   {
    "duration": 14,
    "start_time": "2024-12-13T17:00:08.906Z"
   },
   {
    "duration": 4,
    "start_time": "2024-12-13T17:00:10.793Z"
   },
   {
    "duration": 5,
    "start_time": "2024-12-13T17:00:51.403Z"
   },
   {
    "duration": 5,
    "start_time": "2024-12-13T17:00:54.092Z"
   },
   {
    "duration": 4,
    "start_time": "2024-12-13T17:00:57.347Z"
   },
   {
    "duration": 20,
    "start_time": "2024-12-13T17:02:08.025Z"
   },
   {
    "duration": 7,
    "start_time": "2024-12-13T17:02:26.631Z"
   },
   {
    "duration": 5,
    "start_time": "2024-12-13T17:35:03.794Z"
   },
   {
    "duration": 190,
    "start_time": "2024-12-13T17:35:29.199Z"
   },
   {
    "duration": 8,
    "start_time": "2024-12-13T17:37:16.807Z"
   },
   {
    "duration": 24,
    "start_time": "2024-12-13T17:37:19.543Z"
   },
   {
    "duration": 15,
    "start_time": "2024-12-13T17:38:39.049Z"
   },
   {
    "duration": 8,
    "start_time": "2024-12-13T17:39:56.016Z"
   },
   {
    "duration": 103,
    "start_time": "2024-12-13T17:39:57.734Z"
   },
   {
    "duration": 143,
    "start_time": "2024-12-13T17:40:00.428Z"
   },
   {
    "duration": 8,
    "start_time": "2024-12-13T17:41:07.722Z"
   },
   {
    "duration": 103,
    "start_time": "2024-12-13T17:41:09.444Z"
   },
   {
    "duration": 143,
    "start_time": "2024-12-13T17:41:11.893Z"
   },
   {
    "duration": 180,
    "start_time": "2024-12-13T17:43:39.231Z"
   },
   {
    "duration": 171,
    "start_time": "2024-12-13T17:43:43.215Z"
   },
   {
    "duration": 299,
    "start_time": "2024-12-13T17:44:29.725Z"
   },
   {
    "duration": 308,
    "start_time": "2024-12-13T17:44:50.957Z"
   },
   {
    "duration": 167,
    "start_time": "2024-12-13T17:45:02.754Z"
   },
   {
    "duration": 6,
    "start_time": "2024-12-13T18:00:43.608Z"
   },
   {
    "duration": 23,
    "start_time": "2024-12-13T18:00:47.297Z"
   },
   {
    "duration": 7,
    "start_time": "2024-12-13T18:00:54.338Z"
   },
   {
    "duration": 263,
    "start_time": "2024-12-13T18:05:11.592Z"
   },
   {
    "duration": 88,
    "start_time": "2024-12-13T18:05:18.822Z"
   },
   {
    "duration": 85,
    "start_time": "2024-12-13T18:05:50.302Z"
   },
   {
    "duration": 92,
    "start_time": "2024-12-13T18:11:49.236Z"
   },
   {
    "duration": 166,
    "start_time": "2024-12-13T18:14:45.609Z"
   },
   {
    "duration": 188,
    "start_time": "2024-12-13T18:19:13.232Z"
   },
   {
    "duration": 11,
    "start_time": "2024-12-13T23:13:26.092Z"
   }
  ],
  "colab": {
   "provenance": []
  },
  "kernelspec": {
   "display_name": "base",
   "language": "python",
   "name": "python3"
  },
  "language_info": {
   "codemirror_mode": {
    "name": "ipython",
    "version": 3
   },
   "file_extension": ".py",
   "mimetype": "text/x-python",
   "name": "python",
   "nbconvert_exporter": "python",
   "pygments_lexer": "ipython3",
   "version": "3.13.5"
  },
  "toc": {
   "base_numbering": 1,
   "nav_menu": {},
   "number_sections": true,
   "sideBar": true,
   "skip_h1_title": false,
   "title_cell": "Table of Contents",
   "title_sidebar": "Contents",
   "toc_cell": false,
   "toc_position": {},
   "toc_section_display": true,
   "toc_window_display": true
  }
 },
 "nbformat": 4,
 "nbformat_minor": 1
}
